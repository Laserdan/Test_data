{
 "cells": [
  {
   "cell_type": "markdown",
   "metadata": {},
   "source": [
    "<div style=\"float:right; padding-top: 15px; padding-right: 15px\">\n",
    "    <div>\n",
    "        <a href=\"https://whiteboxml.com\">\n",
    "            <img src=\"https://whiteboxml.com/static/img/logo/black_bg_white.svg\" width=\"250\">\n",
    "        </a>\n",
    "    </div>\n",
    "</div>"
   ]
  },
  {
   "cell_type": "markdown",
   "metadata": {},
   "source": [
    "# Markovify"
   ]
  },
  {
   "cell_type": "markdown",
   "metadata": {},
   "source": [
    "https://github.com/jsvine/markovify"
   ]
  },
  {
   "cell_type": "code",
   "execution_count": 1,
   "metadata": {},
   "outputs": [],
   "source": [
    "import markovify"
   ]
  },
  {
   "cell_type": "markdown",
   "metadata": {},
   "source": [
    "## 1. Spanish Bible"
   ]
  },
  {
   "cell_type": "code",
   "execution_count": 2,
   "metadata": {},
   "outputs": [
    {
     "data": {
      "text/plain": [
       "'LA SANTA BIBLIA, ANTIGUO TESTAMENTO, VERSIÓN DE CASIODORO DE REINA (1569) REVISADA POR CIPRIANO DE VALERA (1602), OTRAS REVISIONES: 1862, 1909 Y 1960\\r\\n\\r\\nParte # 1 (INCLUYE LA LEY), los 10 primeros libros del AT: Gn, Ex, Lv, Nm, Dt, Jos, Jue, Rt, 1 S y 2 S\\r\\n\\r\\n\\r\\nLIBRO PRIMERO DE MOISÉS\\r\\n\\r\\nGÉNESIS\\r\\n\\r\\nLa creación\\r\\n\\r\\nGénesis 1\\r\\n\\r\\nGénesis 1:1\\r\\n          En el principio creó Dios los cielos y la tierra.\\r\\n\\r\\n Génesis 1:2\\r\\n          Y la tierra estaba desordenada y vacía, y las tinieblas\\r\\n          estaban sobre la faz del abismo, y el Espíritu de Dios se\\r\\n          movía sobre la faz de las aguas.\\r\\n\\r\\n Génesis 1:3\\r\\n          Y dijo Dios: Sea la luz; y fue la luz.\\r\\n\\r\\n Génesis 1:4\\r\\n          Y vio Dios que la luz era buena; y separó Dios la luz de\\r\\n          las tinieblas.\\r\\n\\r\\n Génesis 1:5\\r\\n          Y llamó Dios a la luz Día, y a las tinieblas llamó Noche.\\r\\n          Y fue la tarde y la mañana un día.\\r\\n\\r\\n Génesis 1:6\\r\\n          Luego dijo Dios: Haya expansión en medio de las aguas, y\\r\\n          se'"
      ]
     },
     "execution_count": 2,
     "metadata": {},
     "output_type": "execute_result"
    }
   ],
   "source": [
    "with open('data/spanish_bible.txt', 'rb') as f:\n",
    "    spanish_bible = f.read().decode('latin')\n",
    "\n",
    "spanish_bible[:1000]"
   ]
  },
  {
   "cell_type": "markdown",
   "metadata": {},
   "source": [
    "**everything would work better with a good text cleanup...**"
   ]
  },
  {
   "cell_type": "code",
   "execution_count": 3,
   "metadata": {},
   "outputs": [],
   "source": [
    "bible_model = markovify.Text(spanish_bible)"
   ]
  },
  {
   "cell_type": "code",
   "execution_count": 5,
   "metadata": {},
   "outputs": [
    {
     "name": "stdout",
     "output_type": "stream",
     "text": [
      "1: 10 Los hombres escarnecedores ponen la ciudad detrás de él y en el cielo, y sobre el limpio, Y rígido serás para reducir las ciudades que Jehová mire y vea desde los cielos y de los hijos de Coat dieron ciudades con la limpieza de corazón, 47 alabando a Dios, para guardar el doble a su mando; y me dio del potaje, y comió hasta que crezca Sela mi hijo; porque dijo: No hay medicina para la fornicación, sino para ser quemado, y no sea traspasada de mí, todos los pueblos, naciones y las dejó sobre el aceite, y las que quedan, desde el Líbano.\n",
      "2: 11 Pero el sacerdote su dedo siete veces delante de Faraón, capitán de cincuenta hombres que con él salgan contra ti, dice Jehová Dios de Israel, y murió.\n",
      "3: El siervo escogido 15 Sabiendo esto Jesús, les dijo: De cierto os digo, que desde allí buscares a Jehová tu Dios que no pasen a la izquierda.\n",
      "4: 15 Y envió jóvenes de los hijos de Judá; y he aquí había allí un altar de piedras, no las entendiesen; y temían los siervos del rey Joás aún no habían entendido la Escritura, cómo invoca a Dios, para que nos hizo aptos para participar de la ciudad de nuestro Dios.\n",
      "5: 13 Y los hijos de Israel de esta gran ciudad?\n"
     ]
    }
   ],
   "source": [
    "for i in range(5):\n",
    "    print(f'{i+1}: {bible_model.make_sentence()}')"
   ]
  },
  {
   "cell_type": "markdown",
   "metadata": {},
   "source": [
    "## 2. Donald Trump"
   ]
  },
  {
   "cell_type": "code",
   "execution_count": 6,
   "metadata": {},
   "outputs": [
    {
     "data": {
      "text/plain": [
       "'\".@chucktodd is a nice guy , but just hopeless. He knows so little about politics and, in particular, winning!  I fixed his rating problem.\"\\n\".@Morning_Joe just went off the rails. I will beat Hillary easily - she does not want to run against me. I am tuning them out, waste of time\"\\n\".@tedcruz should not make statements behind closed doors to his bosses, he should bring them out into the open - more fun that way!\"\\n\"Looks like @tedcruz is getting ready to attack. I am leading by so much he must. I hope so, he will fall like all others. Will be easy!\"\\n\".@Morning_Joe is so off on Iowa, which I am leading big in new @CNN poll. I will win Iowa. Also, I beat Hillary easily!\"\\n\"Great evening last night in  New Hampshire. Got the endorsement from the New England Police Union - big  territory, great people! Thank you.\"\\n.@BernardGoldberg was not good tonight on @oreillyfactor. He just doesn\\'t know about winning! But he is a nice guy.\\n\"\"\"@FoxNewsInsider: .@FrankLuntz Explains Why @realDonaldTrump '"
      ]
     },
     "execution_count": 6,
     "metadata": {},
     "output_type": "execute_result"
    }
   ],
   "source": [
    "with open('data/donald_trump.txt') as f:\n",
    "    donald_trump = f.read()\n",
    "\n",
    "donald_trump[:1000]"
   ]
  },
  {
   "cell_type": "code",
   "execution_count": 7,
   "metadata": {},
   "outputs": [],
   "source": [
    "trump_model = markovify.NewlineText(donald_trump)"
   ]
  },
  {
   "cell_type": "code",
   "execution_count": 8,
   "metadata": {},
   "outputs": [
    {
     "name": "stdout",
     "output_type": "stream",
     "text": [
      "1: .@CharlesGKoch is looking for work. I had thousands join me in refusing to to post the great polls like Reuters - big leads everywhere. New Hampshire really special! We will Make America Great Again @tperkins\n",
      "2: A nation WITHOUT BORDERS is not truthful in his class at Annapolis--dummy!\n",
      "3: Markets are crashing - all caused by poor planning and allowing China and T.P.P. and apologize. China not part but will get their way in later.\n",
      "4: RT @EricTrump: Thank you for all your questions! #AskTrump http://t.co/zpbcRHfxy\n",
      "5: Thank you Georgia! I had thousands join me in first place in the new Monmouth Poll 41to14.\n"
     ]
    }
   ],
   "source": [
    "for i in range(5):\n",
    "    print(f'{i+1}: {trump_model.make_sentence()}')"
   ]
  },
  {
   "cell_type": "markdown",
   "metadata": {},
   "source": [
    "<div style=\"padding-top: 25px; float: right\">\n",
    "    <div>    \n",
    "        <i>&nbsp;&nbsp;© Copyright by</i>\n",
    "    </div>\n",
    "    <div>\n",
    "        <a href=\"https://whiteboxml.com\">\n",
    "            <img src=\"https://whiteboxml.com/static/img/logo/black_bg_white.svg\" width=\"125\">\n",
    "        </a>\n",
    "    </div>\n",
    "</div>"
   ]
  }
 ],
 "metadata": {
  "kernelspec": {
   "display_name": "Python [conda env:ironhack_env]",
   "language": "python",
   "name": "conda-env-ironhack_env-py"
  },
  "language_info": {
   "codemirror_mode": {
    "name": "ipython",
    "version": 3
   },
   "file_extension": ".py",
   "mimetype": "text/x-python",
   "name": "python",
   "nbconvert_exporter": "python",
   "pygments_lexer": "ipython3",
   "version": "3.7.7"
  }
 },
 "nbformat": 4,
 "nbformat_minor": 4
}

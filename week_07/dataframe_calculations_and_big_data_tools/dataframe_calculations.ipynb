{
 "cells": [
  {
   "cell_type": "markdown",
   "metadata": {},
   "source": [
    "<div style=\"float:right; padding-top: 15px; padding-right: 15px\">\n",
    "    <div>\n",
    "        <a href=\"https://whiteboxml.com\">\n",
    "            <img src=\"https://whiteboxml.com/static/img/logo/black_bg_white.svg\" width=\"250\">\n",
    "        </a>\n",
    "    </div>\n",
    "</div>"
   ]
  },
  {
   "cell_type": "markdown",
   "metadata": {},
   "source": [
    "# dataframe calculations, extended with big data tools..."
   ]
  },
  {
   "cell_type": "markdown",
   "metadata": {},
   "source": [
    "## 1. introduction"
   ]
  },
  {
   "cell_type": "markdown",
   "metadata": {},
   "source": [
    "* calculations with pandas are 'easy'\n",
    "* calculations are usually fast depending on your machine and size of dataset\n",
    "* when dataset size exceeds your computer memory, can use big data tools to break the dataset in chunks and process it step by step\n",
    "* big data tools allow you to make this process automatically and take care of everything under the hood with little extra code\n",
    "* Spark is the most popular Big Data framework so far\n",
    "* Spark syntax resembles pandas with some differences"
   ]
  },
  {
   "cell_type": "markdown",
   "metadata": {},
   "source": [
    "## 2. pure pandas approach"
   ]
  },
  {
   "cell_type": "code",
   "execution_count": 1,
   "metadata": {},
   "outputs": [],
   "source": [
    "import pandas as pd"
   ]
  },
  {
   "cell_type": "markdown",
   "metadata": {},
   "source": [
    "### 2.1 data loading"
   ]
  },
  {
   "cell_type": "markdown",
   "metadata": {},
   "source": [
    "let's use a 'huge' dataset from Renfe trips..."
   ]
  },
  {
   "cell_type": "markdown",
   "metadata": {},
   "source": [
    "https://www.kaggle.com/thegurusteam/spanish-high-speed-rail-system-ticket-pricing/data"
   ]
  },
  {
   "cell_type": "code",
   "execution_count": 2,
   "metadata": {},
   "outputs": [],
   "source": [
    "renfe = pd.read_csv('./data/renfe_sample.csv', low_memory=True)"
   ]
  },
  {
   "cell_type": "markdown",
   "metadata": {},
   "source": [
    "with this cell we can inspect memory usage, it runs slow..."
   ]
  },
  {
   "cell_type": "code",
   "execution_count": 3,
   "metadata": {},
   "outputs": [
    {
     "name": "stdout",
     "output_type": "stream",
     "text": [
      "<class 'pandas.core.frame.DataFrame'>\n",
      "RangeIndex: 100000 entries, 0 to 99999\n",
      "Data columns (total 13 columns):\n",
      " #   Column       Non-Null Count   Dtype  \n",
      "---  ------       --------------   -----  \n",
      " 0   Unnamed: 0   100000 non-null  int64  \n",
      " 1   insert_date  100000 non-null  object \n",
      " 2   origin       100000 non-null  object \n",
      " 3   destination  100000 non-null  object \n",
      " 4   start_date   100000 non-null  object \n",
      " 5   end_date     100000 non-null  object \n",
      " 6   train_type   100000 non-null  object \n",
      " 7   price        68978 non-null   float64\n",
      " 8   train_class  71104 non-null   object \n",
      " 9   fare         71104 non-null   object \n",
      " 10  price_tree   70016 non-null   object \n",
      " 11  batch        58099 non-null   object \n",
      " 12  id           71561 non-null   float64\n",
      "dtypes: float64(2), int64(1), object(10)\n",
      "memory usage: 9.9+ MB\n"
     ]
    }
   ],
   "source": [
    "renfe.info()"
   ]
  },
  {
   "cell_type": "raw",
   "metadata": {},
   "source": [
    "renfe.info(memory_usage='deep')"
   ]
  },
  {
   "cell_type": "markdown",
   "metadata": {},
   "source": [
    "### 2.2 some calculations with pandas"
   ]
  },
  {
   "cell_type": "markdown",
   "metadata": {},
   "source": [
    "#### combining string columns"
   ]
  },
  {
   "cell_type": "markdown",
   "metadata": {},
   "source": [
    "first, let's make an expensive string column combination in pure pandas..."
   ]
  },
  {
   "cell_type": "code",
   "execution_count": 4,
   "metadata": {},
   "outputs": [],
   "source": [
    "renfe['destination_origin'] = renfe['origin'] + '_' + renfe['destination']"
   ]
  },
  {
   "cell_type": "code",
   "execution_count": 5,
   "metadata": {},
   "outputs": [
    {
     "data": {
      "text/plain": [
       "0         MADRID_BARCELONA\n",
       "1         BARCELONA_MADRID\n",
       "2        MADRID_PONFERRADA\n",
       "3          MADRID_PALENCIA\n",
       "4            GIRONA_MADRID\n",
       "               ...        \n",
       "99995       SEVILLA_MADRID\n",
       "99996          LEON_MADRID\n",
       "99997      VALENCIA_MADRID\n",
       "99998      VALENCIA_MADRID\n",
       "99999     MADRID_TARRAGONA\n",
       "Name: destination_origin, Length: 100000, dtype: object"
      ]
     },
     "execution_count": 5,
     "metadata": {},
     "output_type": "execute_result"
    }
   ],
   "source": [
    "renfe['destination_origin']"
   ]
  },
  {
   "cell_type": "markdown",
   "metadata": {},
   "source": [
    "#### working with dates"
   ]
  },
  {
   "cell_type": "markdown",
   "metadata": {},
   "source": [
    "let's check our departure and arrival dates data type..."
   ]
  },
  {
   "cell_type": "code",
   "execution_count": 6,
   "metadata": {},
   "outputs": [
    {
     "data": {
      "text/plain": [
       "0        2019-04-19 11:30:00\n",
       "1        2020-05-29 18:00:00\n",
       "2        2019-05-20 12:20:00\n",
       "3        2020-04-11 08:00:00\n",
       "4        2020-05-30 08:11:00\n",
       "                ...         \n",
       "99995    2019-07-18 20:15:00\n",
       "99996    2020-04-29 06:40:00\n",
       "99997    2020-03-18 09:50:00\n",
       "99998    2019-06-29 14:50:00\n",
       "99999    2020-03-31 20:30:00\n",
       "Name: start_date, Length: 100000, dtype: object"
      ]
     },
     "execution_count": 6,
     "metadata": {},
     "output_type": "execute_result"
    }
   ],
   "source": [
    "renfe['start_date']"
   ]
  },
  {
   "cell_type": "markdown",
   "metadata": {},
   "source": [
    "let's convert those columns into a proper date column using `to_datetime` function..."
   ]
  },
  {
   "cell_type": "code",
   "execution_count": 7,
   "metadata": {},
   "outputs": [],
   "source": [
    "renfe['start_date'] = pd.to_datetime(renfe['start_date'])\n",
    "renfe['end_date'] = pd.to_datetime(renfe['end_date'])"
   ]
  },
  {
   "cell_type": "markdown",
   "metadata": {},
   "source": [
    "now, we have a `datetime64[ns]` column... cool right?"
   ]
  },
  {
   "cell_type": "code",
   "execution_count": 8,
   "metadata": {},
   "outputs": [
    {
     "data": {
      "text/plain": [
       "0       2019-04-19 11:30:00\n",
       "1       2020-05-29 18:00:00\n",
       "2       2019-05-20 12:20:00\n",
       "3       2020-04-11 08:00:00\n",
       "4       2020-05-30 08:11:00\n",
       "                ...        \n",
       "99995   2019-07-18 20:15:00\n",
       "99996   2020-04-29 06:40:00\n",
       "99997   2020-03-18 09:50:00\n",
       "99998   2019-06-29 14:50:00\n",
       "99999   2020-03-31 20:30:00\n",
       "Name: start_date, Length: 100000, dtype: datetime64[ns]"
      ]
     },
     "execution_count": 8,
     "metadata": {},
     "output_type": "execute_result"
    }
   ],
   "source": [
    "renfe['start_date']"
   ]
  },
  {
   "cell_type": "markdown",
   "metadata": {},
   "source": [
    "let's make all those trains departure an hour later!"
   ]
  },
  {
   "cell_type": "code",
   "execution_count": 9,
   "metadata": {},
   "outputs": [
    {
     "data": {
      "text/plain": [
       "0       2019-04-19 12:30:00\n",
       "1       2020-05-29 19:00:00\n",
       "2       2019-05-20 13:20:00\n",
       "3       2020-04-11 09:00:00\n",
       "4       2020-05-30 09:11:00\n",
       "                ...        \n",
       "99995   2019-07-18 21:15:00\n",
       "99996   2020-04-29 07:40:00\n",
       "99997   2020-03-18 10:50:00\n",
       "99998   2019-06-29 15:50:00\n",
       "99999   2020-03-31 21:30:00\n",
       "Name: start_date, Length: 100000, dtype: datetime64[ns]"
      ]
     },
     "execution_count": 9,
     "metadata": {},
     "output_type": "execute_result"
    }
   ],
   "source": [
    "renfe['start_date'] + pd.to_timedelta('1 hour')"
   ]
  },
  {
   "cell_type": "markdown",
   "metadata": {},
   "source": [
    "let's compute the duration of the trip, just substract arrival and departure date to do that..."
   ]
  },
  {
   "cell_type": "code",
   "execution_count": 10,
   "metadata": {},
   "outputs": [],
   "source": [
    "renfe['trip_duration'] = renfe['end_date'] - renfe['start_date']"
   ]
  },
  {
   "cell_type": "markdown",
   "metadata": {},
   "source": [
    "the new column looks like this:"
   ]
  },
  {
   "cell_type": "code",
   "execution_count": 11,
   "metadata": {},
   "outputs": [
    {
     "data": {
      "text/plain": [
       "0       03:10:00\n",
       "1       03:10:00\n",
       "2       06:32:00\n",
       "3       02:37:00\n",
       "4       04:59:00\n",
       "          ...   \n",
       "99995   02:21:00\n",
       "99996   04:46:00\n",
       "99997   07:38:00\n",
       "99998   07:27:00\n",
       "99999   02:33:00\n",
       "Name: trip_duration, Length: 100000, dtype: timedelta64[ns]"
      ]
     },
     "execution_count": 11,
     "metadata": {},
     "output_type": "execute_result"
    }
   ],
   "source": [
    "renfe['trip_duration']"
   ]
  },
  {
   "cell_type": "markdown",
   "metadata": {},
   "source": [
    "look at the column type, it is a `timedelta64[ns]`, used for time intervals..."
   ]
  },
  {
   "cell_type": "markdown",
   "metadata": {},
   "source": [
    "in case we need it in hours, using [`dt`](https://pandas.pydata.org/pandas-docs/stable/reference/api/pandas.Series.dt.html) accesor..."
   ]
  },
  {
   "cell_type": "code",
   "execution_count": 12,
   "metadata": {},
   "outputs": [
    {
     "data": {
      "text/plain": [
       "0        3.166667\n",
       "1        3.166667\n",
       "2        6.533333\n",
       "3        2.616667\n",
       "4        4.983333\n",
       "           ...   \n",
       "99995    2.350000\n",
       "99996    4.766667\n",
       "99997    7.633333\n",
       "99998    7.450000\n",
       "99999    2.550000\n",
       "Name: trip_duration, Length: 100000, dtype: float64"
      ]
     },
     "execution_count": 12,
     "metadata": {},
     "output_type": "execute_result"
    }
   ],
   "source": [
    "renfe['trip_duration'].dt.seconds / 3600"
   ]
  },
  {
   "cell_type": "markdown",
   "metadata": {},
   "source": [
    "`timedelta64[ns]` colums supports operations like:"
   ]
  },
  {
   "cell_type": "code",
   "execution_count": 13,
   "metadata": {},
   "outputs": [
    {
     "data": {
      "text/plain": [
       "0       1 days 07:40:00\n",
       "1       1 days 07:40:00\n",
       "2       2 days 17:20:00\n",
       "3       1 days 02:10:00\n",
       "4       2 days 01:50:00\n",
       "              ...      \n",
       "99995   0 days 23:30:00\n",
       "99996   1 days 23:40:00\n",
       "99997   3 days 04:20:00\n",
       "99998   3 days 02:30:00\n",
       "99999   1 days 01:30:00\n",
       "Name: trip_duration, Length: 100000, dtype: timedelta64[ns]"
      ]
     },
     "execution_count": 13,
     "metadata": {},
     "output_type": "execute_result"
    }
   ],
   "source": [
    "renfe['trip_duration'] * 10"
   ]
  },
  {
   "cell_type": "markdown",
   "metadata": {},
   "source": [
    "timedeltas can also be used with `timedelta64[ns]` columns..."
   ]
  },
  {
   "cell_type": "code",
   "execution_count": 14,
   "metadata": {},
   "outputs": [
    {
     "data": {
      "text/plain": [
       "0       04:10:00\n",
       "1       04:10:00\n",
       "2       07:32:00\n",
       "3       03:37:00\n",
       "4       05:59:00\n",
       "          ...   \n",
       "99995   03:21:00\n",
       "99996   05:46:00\n",
       "99997   08:38:00\n",
       "99998   08:27:00\n",
       "99999   03:33:00\n",
       "Name: trip_duration, Length: 100000, dtype: timedelta64[ns]"
      ]
     },
     "execution_count": 14,
     "metadata": {},
     "output_type": "execute_result"
    }
   ],
   "source": [
    "renfe['trip_duration'] + pd.to_timedelta('01:00:00')"
   ]
  },
  {
   "cell_type": "markdown",
   "metadata": {},
   "source": [
    "#### conditional calculations"
   ]
  },
  {
   "cell_type": "markdown",
   "metadata": {},
   "source": [
    "let's use numpy to create a new column based on conditions..."
   ]
  },
  {
   "cell_type": "code",
   "execution_count": 15,
   "metadata": {},
   "outputs": [],
   "source": [
    "import numpy as np"
   ]
  },
  {
   "cell_type": "code",
   "execution_count": 16,
   "metadata": {},
   "outputs": [
    {
     "data": {
      "text/plain": [
       "array(['long_trip', 'long_trip', 'long_trip', ..., 'long_trip',\n",
       "       'long_trip', 'long_trip'], dtype='<U10')"
      ]
     },
     "execution_count": 16,
     "metadata": {},
     "output_type": "execute_result"
    }
   ],
   "source": [
    "np.where(renfe['trip_duration'].dt.seconds > 3600 * 2.5, 'long_trip', 'short_trip')"
   ]
  },
  {
   "cell_type": "markdown",
   "metadata": {},
   "source": [
    "assign array to a new column..."
   ]
  },
  {
   "cell_type": "code",
   "execution_count": 17,
   "metadata": {},
   "outputs": [],
   "source": [
    "renfe['duration_description'] = np.where(renfe['trip_duration'].dt.seconds > 3600 * 2.5, \n",
    "                                         'long_trip', \n",
    "                                         'short_trip')"
   ]
  },
  {
   "cell_type": "markdown",
   "metadata": {},
   "source": [
    "there is a [`.where`](https://pandas.pydata.org/pandas-docs/stable/reference/api/pandas.DataFrame.where.html) method for `DataFrame` and `Serie` which is very slow..."
   ]
  },
  {
   "cell_type": "markdown",
   "metadata": {},
   "source": [
    "## 3. using pandas multicore with [modin](https://github.com/modin-project/modin)"
   ]
  },
  {
   "cell_type": "markdown",
   "metadata": {},
   "source": [
    "to get modin:"
   ]
  },
  {
   "cell_type": "raw",
   "metadata": {},
   "source": [
    "!pip install modin[ray] psutil"
   ]
  },
  {
   "cell_type": "markdown",
   "metadata": {},
   "source": [
    "let's import modin pandas wrapper as `mp` (modin pandas)..."
   ]
  },
  {
   "cell_type": "code",
   "execution_count": 18,
   "metadata": {},
   "outputs": [],
   "source": [
    "import modin.pandas as mp"
   ]
  },
  {
   "cell_type": "markdown",
   "metadata": {},
   "source": [
    "let's load some data... (**you may have to restart your kernel to free memory**)..."
   ]
  },
  {
   "cell_type": "code",
   "execution_count": 19,
   "metadata": {},
   "outputs": [],
   "source": [
    "renfe = mp.read_csv('./data/renfe_sample.csv')"
   ]
  },
  {
   "cell_type": "markdown",
   "metadata": {},
   "source": [
    "from here, usage is similar to a standard `DataFrame`"
   ]
  },
  {
   "cell_type": "markdown",
   "metadata": {},
   "source": [
    "let's create a column to identify route..."
   ]
  },
  {
   "cell_type": "code",
   "execution_count": 20,
   "metadata": {},
   "outputs": [],
   "source": [
    "renfe['route'] = renfe['origin'] + '_' + renfe['destination']"
   ]
  },
  {
   "cell_type": "markdown",
   "metadata": {},
   "source": [
    "let's make some computation..."
   ]
  },
  {
   "cell_type": "code",
   "execution_count": 21,
   "metadata": {},
   "outputs": [
    {
     "data": {
      "text/plain": [
       "route\n",
       "ALBACETE_MADRID       29.442580\n",
       "ALICANTE_MADRID       46.498631\n",
       "BARCELONA_MADRID      82.726995\n",
       "CADIZ_MADRID          62.529825\n",
       "CASTELLON_MADRID      43.772038\n",
       "CIUDAD REAL_MADRID    30.904651\n",
       "CORDOBA_MADRID        54.736619\n",
       "CUENCA_MADRID         24.257658\n",
       "GIRONA_MADRID         88.319275\n",
       "GRANADA_MADRID        55.968454\n",
       "GUADALAJARA_MADRID    14.360976\n",
       "HUESCA_MADRID         48.702941\n",
       "LEON_MADRID           37.079920\n",
       "LLEIDA_MADRID         62.201745\n",
       "MADRID_ALBACETE       29.726063\n",
       "MADRID_ALICANTE       45.366523\n",
       "MADRID_BARCELONA      82.709074\n",
       "MADRID_CADIZ          66.286170\n",
       "MADRID_CASTELLON      44.025358\n",
       "MADRID_CIUDAD REAL    31.568367\n",
       "MADRID_CORDOBA        56.247775\n",
       "MADRID_CUENCA         24.398421\n",
       "MADRID_GIRONA         89.032615\n",
       "MADRID_GRANADA        54.736787\n",
       "MADRID_GUADALAJARA    13.096296\n",
       "MADRID_HUESCA         49.210526\n",
       "MADRID_LEON           34.085885\n",
       "MADRID_LLEIDA         61.685412\n",
       "MADRID_MALAGA         66.755578\n",
       "MADRID_PALENCIA       29.857619\n",
       "MADRID_PONFERRADA     43.845738\n",
       "MADRID_SEGOVIA        18.042500\n",
       "MADRID_SEVILLA        59.398472\n",
       "MADRID_TARRAGONA      63.618848\n",
       "MADRID_TOLEDO         13.900000\n",
       "MADRID_VALENCIA       40.833309\n",
       "MADRID_VALLADOLID     32.442812\n",
       "MADRID_ZAMORA         27.889655\n",
       "MADRID_ZARAGOZA       44.942664\n",
       "MALAGA_MADRID         66.294735\n",
       "PALENCIA_MADRID       29.518750\n",
       "PONFERRADA_MADRID     42.490642\n",
       "SEGOVIA_MADRID        18.085938\n",
       "SEVILLA_MADRID        57.924508\n",
       "TARRAGONA_MADRID      64.439824\n",
       "TOLEDO_MADRID         13.900000\n",
       "VALENCIA_MADRID       39.861578\n",
       "VALLADOLID_MADRID     32.784386\n",
       "ZAMORA_MADRID         27.668519\n",
       "ZARAGOZA_MADRID       44.098327\n",
       "Name: price, dtype: float64"
      ]
     },
     "execution_count": 21,
     "metadata": {},
     "output_type": "execute_result"
    }
   ],
   "source": [
    "renfe.groupby('route')['price'].mean()"
   ]
  },
  {
   "cell_type": "markdown",
   "metadata": {},
   "source": [
    "let's make some filters..."
   ]
  },
  {
   "cell_type": "code",
   "execution_count": 22,
   "metadata": {},
   "outputs": [],
   "source": [
    "filter_with_price_tree = renfe['price_tree'] != '{}'\n",
    "filter_not_null = renfe['price_tree'].notnull()"
   ]
  },
  {
   "cell_type": "markdown",
   "metadata": {},
   "source": [
    "let's get a price tree..."
   ]
  },
  {
   "cell_type": "code",
   "execution_count": 23,
   "metadata": {},
   "outputs": [
    {
     "data": {
      "text/plain": [
       "'Flexible'"
      ]
     },
     "execution_count": 23,
     "metadata": {},
     "output_type": "execute_result"
    }
   ],
   "source": [
    "renfe[filter_not_null & filter_with_price_tree].iat[10000, 9]"
   ]
  },
  {
   "cell_type": "markdown",
   "metadata": {},
   "source": [
    "## 4. big data tools: Spark"
   ]
  },
  {
   "cell_type": "markdown",
   "metadata": {},
   "source": [
    "[Spark](https://spark.apache.org/) is probably the most renowned big data tool on the market. It started as an open source project from Harvard University and quickly evolved into a standard."
   ]
  },
  {
   "cell_type": "markdown",
   "metadata": {},
   "source": [
    "### 4.1 installation"
   ]
  },
  {
   "cell_type": "markdown",
   "metadata": {},
   "source": [
    "install Spark doing..."
   ]
  },
  {
   "cell_type": "raw",
   "metadata": {},
   "source": [
    "!conda install pyspark openjdk -y"
   ]
  },
  {
   "cell_type": "markdown",
   "metadata": {},
   "source": [
    "yeah... you need Java to run Spark. It is written in [Scala](https://www.scala-lang.org/), a JVM based (and functional style) language. Scala is the language of Big Data (although Python is catching up quickly)..."
   ]
  },
  {
   "cell_type": "markdown",
   "metadata": {},
   "source": [
    "### 4.2 setup (yeah... not so easy as pandas)"
   ]
  },
  {
   "cell_type": "code",
   "execution_count": 24,
   "metadata": {},
   "outputs": [],
   "source": [
    "from pyspark.sql import SparkSession"
   ]
  },
  {
   "cell_type": "code",
   "execution_count": 25,
   "metadata": {},
   "outputs": [],
   "source": [
    "spark = SparkSession.builder. \\\n",
    "            appName('big_data_tools'). \\\n",
    "            master('local[*]'). \\\n",
    "            config('spark.sql.repl.eagerEval.enabled', True). \\\n",
    "            config('spark.sql.session.timeZone', 'UTC'). \\\n",
    "            config('spark.driver.memory', '16G'). \\\n",
    "            config('spark.driver.maxResultSize', '2G'). \\\n",
    "            getOrCreate()"
   ]
  },
  {
   "cell_type": "code",
   "execution_count": 26,
   "metadata": {},
   "outputs": [
    {
     "data": {
      "text/html": [
       "\n",
       "            <div>\n",
       "                <p><b>SparkSession - in-memory</b></p>\n",
       "                \n",
       "        <div>\n",
       "            <p><b>SparkContext</b></p>\n",
       "\n",
       "            <p><a href=\"http://david-laptop:4040\">Spark UI</a></p>\n",
       "\n",
       "            <dl>\n",
       "              <dt>Version</dt>\n",
       "                <dd><code>v2.4.5</code></dd>\n",
       "              <dt>Master</dt>\n",
       "                <dd><code>local[*]</code></dd>\n",
       "              <dt>AppName</dt>\n",
       "                <dd><code>big_data_tools</code></dd>\n",
       "            </dl>\n",
       "        </div>\n",
       "        \n",
       "            </div>\n",
       "        "
      ],
      "text/plain": [
       "<pyspark.sql.session.SparkSession at 0x7f92e360ac10>"
      ]
     },
     "execution_count": 26,
     "metadata": {},
     "output_type": "execute_result"
    }
   ],
   "source": [
    "spark"
   ]
  },
  {
   "cell_type": "markdown",
   "metadata": {},
   "source": [
    "let's load some data..."
   ]
  },
  {
   "cell_type": "markdown",
   "metadata": {},
   "source": [
    "### 4.3 load data"
   ]
  },
  {
   "cell_type": "code",
   "execution_count": 27,
   "metadata": {},
   "outputs": [],
   "source": [
    "renfe = spark.read.option(\"quote\", \"\\\"\").option(\"escape\", \"\\\"\").csv('./data/renfe_sample.csv', header=True, inferSchema=True)"
   ]
  },
  {
   "cell_type": "markdown",
   "metadata": {},
   "source": [
    "let's check data types..."
   ]
  },
  {
   "cell_type": "code",
   "execution_count": 28,
   "metadata": {},
   "outputs": [
    {
     "data": {
      "text/plain": [
       "[('_c0', 'int'),\n",
       " ('insert_date', 'timestamp'),\n",
       " ('origin', 'string'),\n",
       " ('destination', 'string'),\n",
       " ('start_date', 'timestamp'),\n",
       " ('end_date', 'timestamp'),\n",
       " ('train_type', 'string'),\n",
       " ('price', 'double'),\n",
       " ('train_class', 'string'),\n",
       " ('fare', 'string'),\n",
       " ('price_tree', 'string'),\n",
       " ('batch', 'timestamp'),\n",
       " ('id', 'double')]"
      ]
     },
     "execution_count": 28,
     "metadata": {},
     "output_type": "execute_result"
    }
   ],
   "source": [
    "renfe.dtypes"
   ]
  },
  {
   "cell_type": "code",
   "execution_count": 29,
   "metadata": {},
   "outputs": [
    {
     "name": "stdout",
     "output_type": "stream",
     "text": [
      "+--------+-------------------+----------+-----------+-------------------+-------------------+----------+-----+-------------------+--------+--------------------+-------------------+-----------+\n",
      "|     _c0|        insert_date|    origin|destination|         start_date|           end_date|train_type|price|        train_class|    fare|          price_tree|              batch|         id|\n",
      "+--------+-------------------+----------+-----------+-------------------+-------------------+----------+-----+-------------------+--------+--------------------+-------------------+-----------+\n",
      "| 4569288|2019-04-18 11:47:08|    MADRID|  BARCELONA|2019-04-19 09:30:00|2019-04-19 12:40:00|       AVE|107.7|            Turista|Flexible|                null|               null|       null|\n",
      "|22860054|2020-03-18 19:42:00| BARCELONA|     MADRID|2020-05-29 16:00:00|2020-05-29 19:10:00|       AVE| null|               null|    null|                  {}|2020-03-18 17:15:00|1.2103742E7|\n",
      "| 5687485|2019-04-29 19:08:10|    MADRID| PONFERRADA|2019-05-20 10:20:00|2019-05-20 16:52:00|     LD-MD|34.35| Turista con enlace| Promo +|                null|               null|       null|\n",
      "|13856339|2020-02-22 01:04:41|    MADRID|   PALENCIA|2020-04-11 06:00:00|2020-04-11 08:37:00|     LD-MD| 38.9| Turista con enlace|Flexible|{\"Turista con enl...|2020-02-21 23:00:00|  3110678.0|\n",
      "|19660069|2020-03-08 20:05:07|    GIRONA|     MADRID|2020-05-30 06:11:00|2020-05-30 11:10:00| AVANT-AVE| 78.2| Turista con enlace|   Promo|{\"Turista con enl...|2020-03-08 16:00:00|  8871715.0|\n",
      "| 5301099|2019-04-23 22:22:55|   SEVILLA|     MADRID|2019-05-29 15:45:00|2019-05-29 18:17:00|       AVE| 76.3|            Turista|Flexible|                null|               null|       null|\n",
      "|10926000|2019-11-10 02:04:44|  VALENCIA|     MADRID|2019-12-14 07:10:00|2019-12-14 11:22:00| INTERCITY| null|            Turista|Flexible|                null|               null|   180339.0|\n",
      "|16109477|2020-02-29 14:04:45|   CORDOBA|     MADRID|2020-04-28 08:42:00|2020-04-28 10:36:00|     ALVIA| 55.9|            Turista|Flexible|{\"Turista\": {\"Fle...|2020-02-29 06:00:00|  5363816.0|\n",
      "|15481446|2019-10-28 10:19:12|    MADRID|    SEVILLA|2019-12-05 07:30:00|2019-12-05 10:14:00|     ALVIA| 67.2|            Turista|Flexible|                null|               null|  4735785.0|\n",
      "| 6503835|2019-05-12 21:35:06|  VALENCIA|     MADRID|2019-05-18 06:10:00|2019-05-18 10:28:00| INTERCITY| 30.9|       Turista Plus|   Promo|                null|               null|       null|\n",
      "| 3652193|2019-08-02 13:38:10|  VALENCIA|     MADRID|2019-08-05 06:00:00|2019-08-05 07:47:00|       AVE|66.55|         Preferente|   Promo|                null|               null|       null|\n",
      "|10964855|2019-11-10 16:09:21| BARCELONA|     MADRID|2019-12-13 18:00:00|2019-12-13 21:00:00|       AVE|107.7|            Turista|Flexible|                null|               null|   219194.0|\n",
      "|18531373|2020-03-05 06:52:37|    MADRID|    CORDOBA|2020-03-30 11:10:00|2020-03-30 16:46:00|     MD-LD|29.05| Turista con enlace| Promo +|{\"Turista con enl...|2020-03-05 02:00:00|  7763546.0|\n",
      "|10828947|2019-11-08 14:00:39|    MADRID|   VALENCIA|2019-11-14 17:40:00|2019-11-14 19:20:00|       AVE| 73.1|TuristaSólo plaza H|Flexible|                null|               null|    83286.0|\n",
      "|   69411|2019-04-12 11:28:28|    MADRID|  BARCELONA|2019-05-24 07:30:00|2019-05-24 10:34:00|       AVE| null|       Turista Plus|   Promo|                null|               null|       null|\n",
      "| 9604245|2020-04-05 14:22:19|    GIRONA|     MADRID|2020-04-19 16:11:00|2020-04-19 20:00:00|       AVE| null|               null|    null|                  {}|2020-04-05 12:15:00|1.8277679E7|\n",
      "| 4044821|2019-08-17 03:03:57|    MADRID|    SEVILLA|2019-09-30 05:30:00|2019-09-30 07:51:00|       AVE| 69.4|         Preferente|   Promo|                null|               null|       null|\n",
      "|21302386|2020-03-12 15:03:54|VALLADOLID|     MADRID|2020-05-10 17:14:00|2020-05-10 18:33:00| INTERCITY| null|               null|    null|                  {}|2020-03-12 13:00:00|1.0492007E7|\n",
      "| 9207221|2020-04-04 08:23:20|    MADRID|  TARRAGONA|2020-05-21 16:30:00|2020-05-21 18:43:00|       AVE| null|               null|    null|                  {}|2020-04-04 06:15:00| 1.787969E7|\n",
      "|11777957|2020-02-06 02:02:21|   SEVILLA|     MADRID|2020-02-19 13:45:00|2020-02-19 16:15:00|       AVE|41.65|            Turista|   Promo|{\"Turista\": {\"Pro...|               null|  1032296.0|\n",
      "+--------+-------------------+----------+-----------+-------------------+-------------------+----------+-----+-------------------+--------+--------------------+-------------------+-----------+\n",
      "only showing top 20 rows\n",
      "\n"
     ]
    }
   ],
   "source": [
    "renfe.show()"
   ]
  },
  {
   "cell_type": "markdown",
   "metadata": {},
   "source": [
    "### 4.4 basic operations"
   ]
  },
  {
   "cell_type": "markdown",
   "metadata": {},
   "source": [
    "#### select a column"
   ]
  },
  {
   "cell_type": "code",
   "execution_count": 30,
   "metadata": {},
   "outputs": [
    {
     "name": "stdout",
     "output_type": "stream",
     "text": [
      "+----------+\n",
      "|    origin|\n",
      "+----------+\n",
      "|    MADRID|\n",
      "| BARCELONA|\n",
      "|    MADRID|\n",
      "|    MADRID|\n",
      "|    GIRONA|\n",
      "|   SEVILLA|\n",
      "|  VALENCIA|\n",
      "|   CORDOBA|\n",
      "|    MADRID|\n",
      "|  VALENCIA|\n",
      "|  VALENCIA|\n",
      "| BARCELONA|\n",
      "|    MADRID|\n",
      "|    MADRID|\n",
      "|    MADRID|\n",
      "|    GIRONA|\n",
      "|    MADRID|\n",
      "|VALLADOLID|\n",
      "|    MADRID|\n",
      "|   SEVILLA|\n",
      "+----------+\n",
      "only showing top 20 rows\n",
      "\n"
     ]
    }
   ],
   "source": [
    "renfe.select('origin').show()"
   ]
  },
  {
   "cell_type": "markdown",
   "metadata": {},
   "source": [
    "#### get the data (note the lazy evaluation vs instant computation difference)"
   ]
  },
  {
   "cell_type": "code",
   "execution_count": 31,
   "metadata": {},
   "outputs": [],
   "source": [
    "origin_destination = renfe.select(['origin', 'destination']).collect()"
   ]
  },
  {
   "cell_type": "code",
   "execution_count": 32,
   "metadata": {},
   "outputs": [
    {
     "data": {
      "text/plain": [
       "{'origin': 'MADRID', 'destination': 'BARCELONA'}"
      ]
     },
     "execution_count": 32,
     "metadata": {},
     "output_type": "execute_result"
    }
   ],
   "source": [
    "origin_destination[0].asDict()"
   ]
  },
  {
   "cell_type": "markdown",
   "metadata": {},
   "source": [
    "#### filter data"
   ]
  },
  {
   "cell_type": "code",
   "execution_count": 33,
   "metadata": {},
   "outputs": [],
   "source": [
    "from pyspark.sql import functions as sf"
   ]
  },
  {
   "cell_type": "code",
   "execution_count": 34,
   "metadata": {},
   "outputs": [],
   "source": [
    "renfe_filtered = renfe.filter(renfe.price_tree.isNotNull())"
   ]
  },
  {
   "cell_type": "code",
   "execution_count": 35,
   "metadata": {},
   "outputs": [],
   "source": [
    "renfe_filtered = renfe_filtered.filter((sf.col('price_tree') != \"{}\") & \\\n",
    "                                       (sf.col('price') < 60))"
   ]
  },
  {
   "cell_type": "code",
   "execution_count": 36,
   "metadata": {},
   "outputs": [
    {
     "name": "stdout",
     "output_type": "stream",
     "text": [
      "+--------+-------------------+--------+-----------+-------------------+-------------------+----------+-----+------------------+--------+--------------------+--------------------+-----------+\n",
      "|     _c0|        insert_date|  origin|destination|         start_date|           end_date|train_type|price|       train_class|    fare|          price_tree|               batch|         id|\n",
      "+--------+-------------------+--------+-----------+-------------------+-------------------+----------+-----+------------------+--------+--------------------+--------------------+-----------+\n",
      "|13856339|2020-02-22 01:04:41|  MADRID|   PALENCIA|2020-04-11 06:00:00|2020-04-11 08:37:00|     LD-MD| 38.9|Turista con enlace|Flexible|{\"Turista con enl...| 2020-02-21 23:00:00|  3110678.0|\n",
      "|16109477|2020-02-29 14:04:45| CORDOBA|     MADRID|2020-04-28 08:42:00|2020-04-28 10:36:00|     ALVIA| 55.9|           Turista|Flexible|{\"Turista\": {\"Fle...| 2020-02-29 06:00:00|  5363816.0|\n",
      "|18531373|2020-03-05 06:52:37|  MADRID|    CORDOBA|2020-03-30 11:10:00|2020-03-30 16:46:00|     MD-LD|29.05|Turista con enlace| Promo +|{\"Turista con enl...| 2020-03-05 02:00:00|  7763546.0|\n",
      "|11777957|2020-02-06 02:02:21| SEVILLA|     MADRID|2020-02-19 13:45:00|2020-02-19 16:15:00|       AVE|41.65|           Turista|   Promo|{\"Turista\": {\"Pro...|                null|  1032296.0|\n",
      "|21997993|2020-03-13 21:18:15|  MADRID|   ZARAGOZA|2020-05-18 06:20:00|2020-05-18 07:35:00|       AVE| 55.7|           Turista|Flexible|{\"Turista\": {\"Fle...| 2020-03-13 19:15:00|1.1180385E7|\n",
      "|16988770|2020-02-19 19:23:46|  MADRID|   ZARAGOZA|2020-04-02 13:30:00|2020-04-02 14:51:00|       AVE|52.75|      Turista Plus|   Promo|{\"Turista\": {\"Fle...|2020-02-19 17:01:...|  6243109.0|\n",
      "|18861361|2020-03-06 01:03:39|  MADRID|   ALICANTE|2020-05-13 08:45:00|2020-05-13 11:20:00|       AVE| 41.1|           Turista|   Promo|{\"Turista\": {\"Pro...| 2020-03-05 21:00:00|  8086549.0|\n",
      "|21969329|2020-03-13 19:33:18|  MADRID|   ALICANTE|2020-05-19 05:45:00|2020-05-19 08:20:00|       AVE| 55.7|           Turista| Promo +|{\"Turista\": {\"Pro...| 2020-03-13 17:30:00|1.1152022E7|\n",
      "|14348203|2020-02-22 17:03:52|    LEON|     MADRID|2020-04-06 02:25:00|2020-04-06 07:31:00| TRENHOTEL| 39.5|           Turista|Flexible|{\"Turista\": {\"Fle...| 2020-02-22 15:00:00|  3602542.0|\n",
      "|18021522|2020-03-03 10:05:15|  MADRID|    CORDOBA|2020-04-16 05:20:00|2020-04-16 07:00:00|       AVE| 50.1|           Turista|   Promo|{\"Turista\": {\"Pro...| 2020-03-03 06:00:00|  7264533.0|\n",
      "|18114301|2020-03-03 14:02:36| SEVILLA|     MADRID|2020-04-05 06:45:00|2020-04-05 09:15:00|       AVE|41.65|           Turista|   Promo|{\"Turista\": {\"Pro...| 2020-03-03 10:00:00|  7355401.0|\n",
      "|22082077|2020-03-14 01:03:16|  MADRID| VALLADOLID|2020-04-07 15:30:00|2020-04-07 16:33:00|     ALVIA| 37.8|           Turista|Flexible|{\"Turista\": {\"Fle...| 2020-03-13 23:00:00|1.1263793E7|\n",
      "|22156341|2020-03-14 03:35:31|  MADRID|   VALENCIA|2020-05-26 13:10:00|2020-05-26 14:52:00|       AVE|25.85|           Turista| Promo +|{\"Turista\": {\"Pro...| 2020-03-14 01:30:00|1.1337343E7|\n",
      "| 8843518|2020-04-03 06:02:23|  MADRID| VALLADOLID|2020-04-05 18:25:00|2020-04-05 19:18:00|       AVE| 37.8|           Turista|Flexible|{\"Turista\": {\"Fle...| 2020-04-03 04:00:00|1.7515204E7|\n",
      "|12912841|2020-02-13 03:27:54|  MADRID|   VALENCIA|2020-03-19 14:10:00|2020-03-19 15:52:00|       AVE| 45.8|           Turista|   Promo|{\"Turista\": {\"Pro...|                null|  2167180.0|\n",
      "|20399033|2020-03-10 23:47:25|VALENCIA|     MADRID|2020-05-28 19:15:00|2020-05-28 20:55:00|       AVE|25.85|           Turista| Promo +|{\"Turista\": {\"Pro...| 2020-03-10 21:30:00|  9600422.0|\n",
      "|21129908|2020-03-12 07:20:54|  MADRID|   ZARAGOZA|2020-05-07 06:30:00|2020-05-07 07:45:00|       AVE| 55.7|           Turista|Flexible|{\"Turista\": {\"Fle...| 2020-03-12 05:15:00|1.0322296E7|\n",
      "|14263193|2020-02-22 13:32:02|ALICANTE|     MADRID|2020-04-01 07:40:00|2020-04-01 10:11:00|       AVE| 41.1|           Turista|   Promo|{\"Turista\": {\"Pro...| 2020-02-22 11:30:00|  3517532.0|\n",
      "|11069871|2020-01-29 19:46:59|  MADRID|  BARCELONA|2020-02-28 05:30:00|2020-02-28 08:20:00|       AVE| 58.8|           Turista|   Promo|{\"Turista\": {\"Mes...|                null|   324210.0|\n",
      "|24889224|2020-03-24 03:23:26|  MADRID|   ZARAGOZA|2020-03-26 08:30:00|2020-03-26 09:45:00|       AVE| 55.7|           Turista|Flexible|{\"Turista\": {\"Fle...| 2020-03-24 01:15:00|1.4134114E7|\n",
      "+--------+-------------------+--------+-----------+-------------------+-------------------+----------+-----+------------------+--------+--------------------+--------------------+-----------+\n",
      "only showing top 20 rows\n",
      "\n"
     ]
    }
   ],
   "source": [
    "renfe_filtered.show()"
   ]
  },
  {
   "cell_type": "markdown",
   "metadata": {},
   "source": [
    "#### create new columns"
   ]
  },
  {
   "cell_type": "code",
   "execution_count": 37,
   "metadata": {},
   "outputs": [],
   "source": [
    "from pyspark.sql.types import IntegerType"
   ]
  },
  {
   "cell_type": "code",
   "execution_count": 38,
   "metadata": {},
   "outputs": [
    {
     "data": {
      "text/html": [
       "<table border='1'>\n",
       "<tr><th>_c0</th><th>insert_date</th><th>origin</th><th>destination</th><th>start_date</th><th>end_date</th><th>train_type</th><th>price</th><th>train_class</th><th>fare</th><th>price_tree</th><th>batch</th><th>id</th><th>duration</th></tr>\n",
       "<tr><td>4569288</td><td>2019-04-18 11:47:08</td><td>MADRID</td><td>BARCELONA</td><td>2019-04-19 09:30:00</td><td>2019-04-19 12:40:00</td><td>AVE</td><td>107.7</td><td>Turista</td><td>Flexible</td><td>null</td><td>null</td><td>null</td><td>3.1666666666666665</td></tr>\n",
       "<tr><td>22860054</td><td>2020-03-18 19:42:00</td><td>BARCELONA</td><td>MADRID</td><td>2020-05-29 16:00:00</td><td>2020-05-29 19:10:00</td><td>AVE</td><td>null</td><td>null</td><td>null</td><td>{}</td><td>2020-03-18 17:15:00</td><td>1.2103742E7</td><td>3.1666666666666665</td></tr>\n",
       "<tr><td>5687485</td><td>2019-04-29 19:08:10</td><td>MADRID</td><td>PONFERRADA</td><td>2019-05-20 10:20:00</td><td>2019-05-20 16:52:00</td><td>LD-MD</td><td>34.35</td><td>Turista con enlace</td><td>Promo +</td><td>null</td><td>null</td><td>null</td><td>6.533333333333333</td></tr>\n",
       "<tr><td>13856339</td><td>2020-02-22 01:04:41</td><td>MADRID</td><td>PALENCIA</td><td>2020-04-11 06:00:00</td><td>2020-04-11 08:37:00</td><td>LD-MD</td><td>38.9</td><td>Turista con enlace</td><td>Flexible</td><td>{&quot;Turista con enl...</td><td>2020-02-21 23:00:00</td><td>3110678.0</td><td>2.6166666666666667</td></tr>\n",
       "<tr><td>19660069</td><td>2020-03-08 20:05:07</td><td>GIRONA</td><td>MADRID</td><td>2020-05-30 06:11:00</td><td>2020-05-30 11:10:00</td><td>AVANT-AVE</td><td>78.2</td><td>Turista con enlace</td><td>Promo</td><td>{&quot;Turista con enl...</td><td>2020-03-08 16:00:00</td><td>8871715.0</td><td>4.983333333333333</td></tr>\n",
       "<tr><td>5301099</td><td>2019-04-23 22:22:55</td><td>SEVILLA</td><td>MADRID</td><td>2019-05-29 15:45:00</td><td>2019-05-29 18:17:00</td><td>AVE</td><td>76.3</td><td>Turista</td><td>Flexible</td><td>null</td><td>null</td><td>null</td><td>2.533333333333333</td></tr>\n",
       "<tr><td>10926000</td><td>2019-11-10 02:04:44</td><td>VALENCIA</td><td>MADRID</td><td>2019-12-14 07:10:00</td><td>2019-12-14 11:22:00</td><td>INTERCITY</td><td>null</td><td>Turista</td><td>Flexible</td><td>null</td><td>null</td><td>180339.0</td><td>4.2</td></tr>\n",
       "<tr><td>16109477</td><td>2020-02-29 14:04:45</td><td>CORDOBA</td><td>MADRID</td><td>2020-04-28 08:42:00</td><td>2020-04-28 10:36:00</td><td>ALVIA</td><td>55.9</td><td>Turista</td><td>Flexible</td><td>{&quot;Turista&quot;: {&quot;Fle...</td><td>2020-02-29 06:00:00</td><td>5363816.0</td><td>1.9</td></tr>\n",
       "<tr><td>15481446</td><td>2019-10-28 10:19:12</td><td>MADRID</td><td>SEVILLA</td><td>2019-12-05 07:30:00</td><td>2019-12-05 10:14:00</td><td>ALVIA</td><td>67.2</td><td>Turista</td><td>Flexible</td><td>null</td><td>null</td><td>4735785.0</td><td>2.7333333333333334</td></tr>\n",
       "<tr><td>6503835</td><td>2019-05-12 21:35:06</td><td>VALENCIA</td><td>MADRID</td><td>2019-05-18 06:10:00</td><td>2019-05-18 10:28:00</td><td>INTERCITY</td><td>30.9</td><td>Turista Plus</td><td>Promo</td><td>null</td><td>null</td><td>null</td><td>4.3</td></tr>\n",
       "<tr><td>3652193</td><td>2019-08-02 13:38:10</td><td>VALENCIA</td><td>MADRID</td><td>2019-08-05 06:00:00</td><td>2019-08-05 07:47:00</td><td>AVE</td><td>66.55</td><td>Preferente</td><td>Promo</td><td>null</td><td>null</td><td>null</td><td>1.7833333333333334</td></tr>\n",
       "<tr><td>10964855</td><td>2019-11-10 16:09:21</td><td>BARCELONA</td><td>MADRID</td><td>2019-12-13 18:00:00</td><td>2019-12-13 21:00:00</td><td>AVE</td><td>107.7</td><td>Turista</td><td>Flexible</td><td>null</td><td>null</td><td>219194.0</td><td>3.0</td></tr>\n",
       "<tr><td>18531373</td><td>2020-03-05 06:52:37</td><td>MADRID</td><td>CORDOBA</td><td>2020-03-30 11:10:00</td><td>2020-03-30 16:46:00</td><td>MD-LD</td><td>29.05</td><td>Turista con enlace</td><td>Promo +</td><td>{&quot;Turista con enl...</td><td>2020-03-05 02:00:00</td><td>7763546.0</td><td>5.6</td></tr>\n",
       "<tr><td>10828947</td><td>2019-11-08 14:00:39</td><td>MADRID</td><td>VALENCIA</td><td>2019-11-14 17:40:00</td><td>2019-11-14 19:20:00</td><td>AVE</td><td>73.1</td><td>TuristaSólo plaza H</td><td>Flexible</td><td>null</td><td>null</td><td>83286.0</td><td>1.6666666666666667</td></tr>\n",
       "<tr><td>69411</td><td>2019-04-12 11:28:28</td><td>MADRID</td><td>BARCELONA</td><td>2019-05-24 07:30:00</td><td>2019-05-24 10:34:00</td><td>AVE</td><td>null</td><td>Turista Plus</td><td>Promo</td><td>null</td><td>null</td><td>null</td><td>3.066666666666667</td></tr>\n",
       "<tr><td>9604245</td><td>2020-04-05 14:22:19</td><td>GIRONA</td><td>MADRID</td><td>2020-04-19 16:11:00</td><td>2020-04-19 20:00:00</td><td>AVE</td><td>null</td><td>null</td><td>null</td><td>{}</td><td>2020-04-05 12:15:00</td><td>1.8277679E7</td><td>3.816666666666667</td></tr>\n",
       "<tr><td>4044821</td><td>2019-08-17 03:03:57</td><td>MADRID</td><td>SEVILLA</td><td>2019-09-30 05:30:00</td><td>2019-09-30 07:51:00</td><td>AVE</td><td>69.4</td><td>Preferente</td><td>Promo</td><td>null</td><td>null</td><td>null</td><td>2.35</td></tr>\n",
       "<tr><td>21302386</td><td>2020-03-12 15:03:54</td><td>VALLADOLID</td><td>MADRID</td><td>2020-05-10 17:14:00</td><td>2020-05-10 18:33:00</td><td>INTERCITY</td><td>null</td><td>null</td><td>null</td><td>{}</td><td>2020-03-12 13:00:00</td><td>1.0492007E7</td><td>1.3166666666666667</td></tr>\n",
       "<tr><td>9207221</td><td>2020-04-04 08:23:20</td><td>MADRID</td><td>TARRAGONA</td><td>2020-05-21 16:30:00</td><td>2020-05-21 18:43:00</td><td>AVE</td><td>null</td><td>null</td><td>null</td><td>{}</td><td>2020-04-04 06:15:00</td><td>1.787969E7</td><td>2.216666666666667</td></tr>\n",
       "<tr><td>11777957</td><td>2020-02-06 02:02:21</td><td>SEVILLA</td><td>MADRID</td><td>2020-02-19 13:45:00</td><td>2020-02-19 16:15:00</td><td>AVE</td><td>41.65</td><td>Turista</td><td>Promo</td><td>{&quot;Turista&quot;: {&quot;Pro...</td><td>null</td><td>1032296.0</td><td>2.5</td></tr>\n",
       "</table>\n",
       "only showing top 20 rows\n"
      ],
      "text/plain": [
       "+--------+-------------------+----------+-----------+-------------------+-------------------+----------+-----+-------------------+--------+--------------------+-------------------+-----------+------------------+\n",
       "|     _c0|        insert_date|    origin|destination|         start_date|           end_date|train_type|price|        train_class|    fare|          price_tree|              batch|         id|          duration|\n",
       "+--------+-------------------+----------+-----------+-------------------+-------------------+----------+-----+-------------------+--------+--------------------+-------------------+-----------+------------------+\n",
       "| 4569288|2019-04-18 11:47:08|    MADRID|  BARCELONA|2019-04-19 09:30:00|2019-04-19 12:40:00|       AVE|107.7|            Turista|Flexible|                null|               null|       null|3.1666666666666665|\n",
       "|22860054|2020-03-18 19:42:00| BARCELONA|     MADRID|2020-05-29 16:00:00|2020-05-29 19:10:00|       AVE| null|               null|    null|                  {}|2020-03-18 17:15:00|1.2103742E7|3.1666666666666665|\n",
       "| 5687485|2019-04-29 19:08:10|    MADRID| PONFERRADA|2019-05-20 10:20:00|2019-05-20 16:52:00|     LD-MD|34.35| Turista con enlace| Promo +|                null|               null|       null| 6.533333333333333|\n",
       "|13856339|2020-02-22 01:04:41|    MADRID|   PALENCIA|2020-04-11 06:00:00|2020-04-11 08:37:00|     LD-MD| 38.9| Turista con enlace|Flexible|{\"Turista con enl...|2020-02-21 23:00:00|  3110678.0|2.6166666666666667|\n",
       "|19660069|2020-03-08 20:05:07|    GIRONA|     MADRID|2020-05-30 06:11:00|2020-05-30 11:10:00| AVANT-AVE| 78.2| Turista con enlace|   Promo|{\"Turista con enl...|2020-03-08 16:00:00|  8871715.0| 4.983333333333333|\n",
       "| 5301099|2019-04-23 22:22:55|   SEVILLA|     MADRID|2019-05-29 15:45:00|2019-05-29 18:17:00|       AVE| 76.3|            Turista|Flexible|                null|               null|       null| 2.533333333333333|\n",
       "|10926000|2019-11-10 02:04:44|  VALENCIA|     MADRID|2019-12-14 07:10:00|2019-12-14 11:22:00| INTERCITY| null|            Turista|Flexible|                null|               null|   180339.0|               4.2|\n",
       "|16109477|2020-02-29 14:04:45|   CORDOBA|     MADRID|2020-04-28 08:42:00|2020-04-28 10:36:00|     ALVIA| 55.9|            Turista|Flexible|{\"Turista\": {\"Fle...|2020-02-29 06:00:00|  5363816.0|               1.9|\n",
       "|15481446|2019-10-28 10:19:12|    MADRID|    SEVILLA|2019-12-05 07:30:00|2019-12-05 10:14:00|     ALVIA| 67.2|            Turista|Flexible|                null|               null|  4735785.0|2.7333333333333334|\n",
       "| 6503835|2019-05-12 21:35:06|  VALENCIA|     MADRID|2019-05-18 06:10:00|2019-05-18 10:28:00| INTERCITY| 30.9|       Turista Plus|   Promo|                null|               null|       null|               4.3|\n",
       "| 3652193|2019-08-02 13:38:10|  VALENCIA|     MADRID|2019-08-05 06:00:00|2019-08-05 07:47:00|       AVE|66.55|         Preferente|   Promo|                null|               null|       null|1.7833333333333334|\n",
       "|10964855|2019-11-10 16:09:21| BARCELONA|     MADRID|2019-12-13 18:00:00|2019-12-13 21:00:00|       AVE|107.7|            Turista|Flexible|                null|               null|   219194.0|               3.0|\n",
       "|18531373|2020-03-05 06:52:37|    MADRID|    CORDOBA|2020-03-30 11:10:00|2020-03-30 16:46:00|     MD-LD|29.05| Turista con enlace| Promo +|{\"Turista con enl...|2020-03-05 02:00:00|  7763546.0|               5.6|\n",
       "|10828947|2019-11-08 14:00:39|    MADRID|   VALENCIA|2019-11-14 17:40:00|2019-11-14 19:20:00|       AVE| 73.1|TuristaSólo plaza H|Flexible|                null|               null|    83286.0|1.6666666666666667|\n",
       "|   69411|2019-04-12 11:28:28|    MADRID|  BARCELONA|2019-05-24 07:30:00|2019-05-24 10:34:00|       AVE| null|       Turista Plus|   Promo|                null|               null|       null| 3.066666666666667|\n",
       "| 9604245|2020-04-05 14:22:19|    GIRONA|     MADRID|2020-04-19 16:11:00|2020-04-19 20:00:00|       AVE| null|               null|    null|                  {}|2020-04-05 12:15:00|1.8277679E7| 3.816666666666667|\n",
       "| 4044821|2019-08-17 03:03:57|    MADRID|    SEVILLA|2019-09-30 05:30:00|2019-09-30 07:51:00|       AVE| 69.4|         Preferente|   Promo|                null|               null|       null|              2.35|\n",
       "|21302386|2020-03-12 15:03:54|VALLADOLID|     MADRID|2020-05-10 17:14:00|2020-05-10 18:33:00| INTERCITY| null|               null|    null|                  {}|2020-03-12 13:00:00|1.0492007E7|1.3166666666666667|\n",
       "| 9207221|2020-04-04 08:23:20|    MADRID|  TARRAGONA|2020-05-21 16:30:00|2020-05-21 18:43:00|       AVE| null|               null|    null|                  {}|2020-04-04 06:15:00| 1.787969E7| 2.216666666666667|\n",
       "|11777957|2020-02-06 02:02:21|   SEVILLA|     MADRID|2020-02-19 13:45:00|2020-02-19 16:15:00|       AVE|41.65|            Turista|   Promo|{\"Turista\": {\"Pro...|               null|  1032296.0|               2.5|\n",
       "+--------+-------------------+----------+-----------+-------------------+-------------------+----------+-----+-------------------+--------+--------------------+-------------------+-----------+------------------+\n",
       "only showing top 20 rows"
      ]
     },
     "execution_count": 38,
     "metadata": {},
     "output_type": "execute_result"
    }
   ],
   "source": [
    "renfe.withColumn('duration', (sf.col('end_date').cast(IntegerType()) - sf.col('start_date').cast(IntegerType())) / 3600)"
   ]
  },
  {
   "cell_type": "markdown",
   "metadata": {},
   "source": [
    "#### make aggregations"
   ]
  },
  {
   "cell_type": "code",
   "execution_count": 39,
   "metadata": {},
   "outputs": [
    {
     "data": {
      "text/html": [
       "<table border='1'>\n",
       "<tr><th>origin</th><th>destination</th><th>avg(price)</th></tr>\n",
       "<tr><td>PONFERRADA</td><td>MADRID</td><td>42.49064153439151</td></tr>\n",
       "<tr><td>ZARAGOZA</td><td>MADRID</td><td>44.09832723470992</td></tr>\n",
       "<tr><td>MADRID</td><td>ZARAGOZA</td><td>44.94266409266416</td></tr>\n",
       "<tr><td>GIRONA</td><td>MADRID</td><td>88.3192748091603</td></tr>\n",
       "<tr><td>MADRID</td><td>HUESCA</td><td>49.21052631578947</td></tr>\n",
       "<tr><td>ALBACETE</td><td>MADRID</td><td>29.442579505300337</td></tr>\n",
       "<tr><td>HUESCA</td><td>MADRID</td><td>48.70294117647059</td></tr>\n",
       "<tr><td>MADRID</td><td>LEON</td><td>34.085885167464085</td></tr>\n",
       "<tr><td>MADRID</td><td>ALBACETE</td><td>29.726062499999983</td></tr>\n",
       "<tr><td>MADRID</td><td>TARRAGONA</td><td>63.618848484848534</td></tr>\n",
       "<tr><td>VALLADOLID</td><td>MADRID</td><td>32.78438596491236</td></tr>\n",
       "<tr><td>MADRID</td><td>BARCELONA</td><td>82.7090735596084</td></tr>\n",
       "<tr><td>TOLEDO</td><td>MADRID</td><td>13.900000000000004</td></tr>\n",
       "<tr><td>CIUDAD REAL</td><td>MADRID</td><td>30.904651162790703</td></tr>\n",
       "<tr><td>MADRID</td><td>VALLADOLID</td><td>32.44281206171116</td></tr>\n",
       "<tr><td>MADRID</td><td>LLEIDA</td><td>61.68541247484908</td></tr>\n",
       "<tr><td>CUENCA</td><td>MADRID</td><td>24.257657657657656</td></tr>\n",
       "<tr><td>MADRID</td><td>SEGOVIA</td><td>18.042500000000004</td></tr>\n",
       "<tr><td>MADRID</td><td>GIRONA</td><td>89.0326153846154</td></tr>\n",
       "<tr><td>CORDOBA</td><td>MADRID</td><td>54.736618650492915</td></tr>\n",
       "</table>\n",
       "only showing top 20 rows\n"
      ],
      "text/plain": [
       "+-----------+-----------+------------------+\n",
       "|     origin|destination|        avg(price)|\n",
       "+-----------+-----------+------------------+\n",
       "| PONFERRADA|     MADRID| 42.49064153439151|\n",
       "|   ZARAGOZA|     MADRID| 44.09832723470992|\n",
       "|     MADRID|   ZARAGOZA| 44.94266409266416|\n",
       "|     GIRONA|     MADRID|  88.3192748091603|\n",
       "|     MADRID|     HUESCA| 49.21052631578947|\n",
       "|   ALBACETE|     MADRID|29.442579505300337|\n",
       "|     HUESCA|     MADRID| 48.70294117647059|\n",
       "|     MADRID|       LEON|34.085885167464085|\n",
       "|     MADRID|   ALBACETE|29.726062499999983|\n",
       "|     MADRID|  TARRAGONA|63.618848484848534|\n",
       "| VALLADOLID|     MADRID| 32.78438596491236|\n",
       "|     MADRID|  BARCELONA|  82.7090735596084|\n",
       "|     TOLEDO|     MADRID|13.900000000000004|\n",
       "|CIUDAD REAL|     MADRID|30.904651162790703|\n",
       "|     MADRID| VALLADOLID| 32.44281206171116|\n",
       "|     MADRID|     LLEIDA| 61.68541247484908|\n",
       "|     CUENCA|     MADRID|24.257657657657656|\n",
       "|     MADRID|    SEGOVIA|18.042500000000004|\n",
       "|     MADRID|     GIRONA|  89.0326153846154|\n",
       "|    CORDOBA|     MADRID|54.736618650492915|\n",
       "+-----------+-----------+------------------+\n",
       "only showing top 20 rows"
      ]
     },
     "execution_count": 39,
     "metadata": {},
     "output_type": "execute_result"
    }
   ],
   "source": [
    "renfe.groupby(['origin', 'destination']).agg({'price': 'mean'})"
   ]
  },
  {
   "cell_type": "code",
   "execution_count": 40,
   "metadata": {},
   "outputs": [
    {
     "data": {
      "text/plain": [
       "100000"
      ]
     },
     "execution_count": 40,
     "metadata": {},
     "output_type": "execute_result"
    }
   ],
   "source": [
    "renfe.count()"
   ]
  },
  {
   "cell_type": "markdown",
   "metadata": {},
   "source": [
    "#### apply custom functions"
   ]
  },
  {
   "cell_type": "code",
   "execution_count": 41,
   "metadata": {},
   "outputs": [],
   "source": [
    "import json\n",
    "\n",
    "@sf.udf('integer')\n",
    "def get_seats(price_tree):\n",
    "    \n",
    "    if not price_tree:\n",
    "        return 0\n",
    "\n",
    "    try:\n",
    "        price_tree_dict = eval(price_tree)\n",
    "        first_available_class = [*price_tree_dict][0]\n",
    "        first_available_fare = [*price_tree_dict[first_available_class]][0]\n",
    "        seats = price_tree_dict[first_available_class][first_available_fare]['seats']\n",
    "        return seats\n",
    "\n",
    "    except:\n",
    "        return 0"
   ]
  },
  {
   "cell_type": "code",
   "execution_count": 42,
   "metadata": {},
   "outputs": [],
   "source": [
    "renfe_filtered = renfe_filtered.withColumn('seats', get_seats(sf.col('price_tree')))"
   ]
  },
  {
   "cell_type": "code",
   "execution_count": 43,
   "metadata": {},
   "outputs": [
    {
     "name": "stdout",
     "output_type": "stream",
     "text": [
      "+--------+-------------------+--------+-----------+-------------------+-------------------+----------+-----+------------------+--------+--------------------+--------------------+-----------+-----+\n",
      "|     _c0|        insert_date|  origin|destination|         start_date|           end_date|train_type|price|       train_class|    fare|          price_tree|               batch|         id|seats|\n",
      "+--------+-------------------+--------+-----------+-------------------+-------------------+----------+-----+------------------+--------+--------------------+--------------------+-----------+-----+\n",
      "|13856339|2020-02-22 01:04:41|  MADRID|   PALENCIA|2020-04-11 06:00:00|2020-04-11 08:37:00|     LD-MD| 38.9|Turista con enlace|Flexible|{\"Turista con enl...| 2020-02-21 23:00:00|  3110678.0|  143|\n",
      "|16109477|2020-02-29 14:04:45| CORDOBA|     MADRID|2020-04-28 08:42:00|2020-04-28 10:36:00|     ALVIA| 55.9|           Turista|Flexible|{\"Turista\": {\"Fle...| 2020-02-29 06:00:00|  5363816.0|   30|\n",
      "|18531373|2020-03-05 06:52:37|  MADRID|    CORDOBA|2020-03-30 11:10:00|2020-03-30 16:46:00|     MD-LD|29.05|Turista con enlace| Promo +|{\"Turista con enl...| 2020-03-05 02:00:00|  7763546.0|  181|\n",
      "|11777957|2020-02-06 02:02:21| SEVILLA|     MADRID|2020-02-19 13:45:00|2020-02-19 16:15:00|       AVE|41.65|           Turista|   Promo|{\"Turista\": {\"Pro...|                null|  1032296.0|    0|\n",
      "|21997993|2020-03-13 21:18:15|  MADRID|   ZARAGOZA|2020-05-18 06:20:00|2020-05-18 07:35:00|       AVE| 55.7|           Turista|Flexible|{\"Turista\": {\"Fle...| 2020-03-13 19:15:00|1.1180385E7|  205|\n",
      "|16988770|2020-02-19 19:23:46|  MADRID|   ZARAGOZA|2020-04-02 13:30:00|2020-04-02 14:51:00|       AVE|52.75|      Turista Plus|   Promo|{\"Turista\": {\"Fle...|2020-02-19 17:01:...|  6243109.0|  254|\n",
      "|18861361|2020-03-06 01:03:39|  MADRID|   ALICANTE|2020-05-13 08:45:00|2020-05-13 11:20:00|       AVE| 41.1|           Turista|   Promo|{\"Turista\": {\"Pro...| 2020-03-05 21:00:00|  8086549.0|  264|\n",
      "|21969329|2020-03-13 19:33:18|  MADRID|   ALICANTE|2020-05-19 05:45:00|2020-05-19 08:20:00|       AVE| 55.7|           Turista| Promo +|{\"Turista\": {\"Pro...| 2020-03-13 17:30:00|1.1152022E7|  265|\n",
      "|14348203|2020-02-22 17:03:52|    LEON|     MADRID|2020-04-06 02:25:00|2020-04-06 07:31:00| TRENHOTEL| 39.5|           Turista|Flexible|{\"Turista\": {\"Fle...| 2020-02-22 15:00:00|  3602542.0|   24|\n",
      "|18021522|2020-03-03 10:05:15|  MADRID|    CORDOBA|2020-04-16 05:20:00|2020-04-16 07:00:00|       AVE| 50.1|           Turista|   Promo|{\"Turista\": {\"Pro...| 2020-03-03 06:00:00|  7264533.0|  261|\n",
      "|18114301|2020-03-03 14:02:36| SEVILLA|     MADRID|2020-04-05 06:45:00|2020-04-05 09:15:00|       AVE|41.65|           Turista|   Promo|{\"Turista\": {\"Pro...| 2020-03-03 10:00:00|  7355401.0|  225|\n",
      "|22082077|2020-03-14 01:03:16|  MADRID| VALLADOLID|2020-04-07 15:30:00|2020-04-07 16:33:00|     ALVIA| 37.8|           Turista|Flexible|{\"Turista\": {\"Fle...| 2020-03-13 23:00:00|1.1263793E7|  235|\n",
      "|22156341|2020-03-14 03:35:31|  MADRID|   VALENCIA|2020-05-26 13:10:00|2020-05-26 14:52:00|       AVE|25.85|           Turista| Promo +|{\"Turista\": {\"Pro...| 2020-03-14 01:30:00|1.1337343E7|  290|\n",
      "| 8843518|2020-04-03 06:02:23|  MADRID| VALLADOLID|2020-04-05 18:25:00|2020-04-05 19:18:00|       AVE| 37.8|           Turista|Flexible|{\"Turista\": {\"Fle...| 2020-04-03 04:00:00|1.7515204E7|   83|\n",
      "|12912841|2020-02-13 03:27:54|  MADRID|   VALENCIA|2020-03-19 14:10:00|2020-03-19 15:52:00|       AVE| 45.8|           Turista|   Promo|{\"Turista\": {\"Pro...|                null|  2167180.0|  284|\n",
      "|20399033|2020-03-10 23:47:25|VALENCIA|     MADRID|2020-05-28 19:15:00|2020-05-28 20:55:00|       AVE|25.85|           Turista| Promo +|{\"Turista\": {\"Pro...| 2020-03-10 21:30:00|  9600422.0|  289|\n",
      "|21129908|2020-03-12 07:20:54|  MADRID|   ZARAGOZA|2020-05-07 06:30:00|2020-05-07 07:45:00|       AVE| 55.7|           Turista|Flexible|{\"Turista\": {\"Fle...| 2020-03-12 05:15:00|1.0322296E7|  256|\n",
      "|14263193|2020-02-22 13:32:02|ALICANTE|     MADRID|2020-04-01 07:40:00|2020-04-01 10:11:00|       AVE| 41.1|           Turista|   Promo|{\"Turista\": {\"Pro...| 2020-02-22 11:30:00|  3517532.0|  256|\n",
      "|11069871|2020-01-29 19:46:59|  MADRID|  BARCELONA|2020-02-28 05:30:00|2020-02-28 08:20:00|       AVE| 58.8|           Turista|   Promo|{\"Turista\": {\"Mes...|                null|   324210.0|    0|\n",
      "|24889224|2020-03-24 03:23:26|  MADRID|   ZARAGOZA|2020-03-26 08:30:00|2020-03-26 09:45:00|       AVE| 55.7|           Turista|Flexible|{\"Turista\": {\"Fle...| 2020-03-24 01:15:00|1.4134114E7|  120|\n",
      "+--------+-------------------+--------+-----------+-------------------+-------------------+----------+-----+------------------+--------+--------------------+--------------------+-----------+-----+\n",
      "only showing top 20 rows\n",
      "\n"
     ]
    }
   ],
   "source": [
    "renfe_filtered.show()"
   ]
  },
  {
   "cell_type": "markdown",
   "metadata": {},
   "source": [
    "#### create virtual sql tables and query them"
   ]
  },
  {
   "cell_type": "code",
   "execution_count": 44,
   "metadata": {},
   "outputs": [],
   "source": [
    "renfe_filtered.createTempView('renfe')"
   ]
  },
  {
   "cell_type": "code",
   "execution_count": 45,
   "metadata": {},
   "outputs": [],
   "source": [
    "sql_query = \"\"\"\n",
    "select\n",
    "origin,\n",
    "destination,\n",
    "avg(price) as mean_price, \n",
    "avg(seats) as mean_seats\n",
    "from renfe\n",
    "group by origin, destination\n",
    "order by mean_price desc\n",
    "\"\"\""
   ]
  },
  {
   "cell_type": "code",
   "execution_count": 46,
   "metadata": {},
   "outputs": [],
   "source": [
    "routes_prices = spark.sql(sql_query)"
   ]
  },
  {
   "cell_type": "code",
   "execution_count": 47,
   "metadata": {},
   "outputs": [
    {
     "name": "stdout",
     "output_type": "stream",
     "text": [
      "+---------+-----------+------------------+------------------+\n",
      "|   origin|destination|        mean_price|        mean_seats|\n",
      "+---------+-----------+------------------+------------------+\n",
      "|   GIRONA|     MADRID|  52.1551724137931| 99.56896551724138|\n",
      "|BARCELONA|     MADRID| 50.22027595269386|  140.215505913272|\n",
      "|   MADRID|     MALAGA|49.575160349854194|214.51895043731778|\n",
      "|   MADRID|     HUESCA| 49.21052631578947| 91.89473684210526|\n",
      "|   LLEIDA|     MADRID|49.205967078189296| 136.3909465020576|\n",
      "|   HUESCA|     MADRID| 48.70294117647059|  94.3529411764706|\n",
      "|   MALAGA|     MADRID| 48.19140672782871| 207.5993883792049|\n",
      "|   MADRID|  BARCELONA| 47.82461128860492|143.47390841320555|\n",
      "|   MADRID|    CORDOBA| 47.61044394281416| 166.6561324303988|\n",
      "|   MADRID|    SEVILLA| 47.19120300751877|139.20193340494092|\n",
      "|TARRAGONA|     MADRID| 47.13607038123168|154.20527859237538|\n",
      "|   MADRID|      CADIZ| 46.98571428571429|201.28571428571428|\n",
      "|   MADRID|     LLEIDA|  46.7782222222222| 152.2711111111111|\n",
      "|   MADRID|  TARRAGONA| 46.32807262569835|158.64525139664804|\n",
      "|  SEVILLA|     MADRID| 46.09356060606058|156.68371212121212|\n",
      "|  CORDOBA|     MADRID| 45.80840490797544|191.17927743694614|\n",
      "|  GRANADA|     MADRID| 44.75101604278073|204.12299465240642|\n",
      "|   MADRID|   ZARAGOZA| 44.54531772575257|174.12820512820514|\n",
      "|   MADRID|    GRANADA| 44.41387559808611|181.79425837320574|\n",
      "|    CADIZ|     MADRID|44.025000000000006|          201.6875|\n",
      "+---------+-----------+------------------+------------------+\n",
      "only showing top 20 rows\n",
      "\n"
     ]
    }
   ],
   "source": [
    "routes_prices.show()"
   ]
  },
  {
   "cell_type": "markdown",
   "metadata": {},
   "source": [
    "#### transform Spark DataFrame into pandas DataFrame"
   ]
  },
  {
   "cell_type": "code",
   "execution_count": 48,
   "metadata": {},
   "outputs": [],
   "source": [
    "routes_prices_pandas_df = routes_prices.toPandas()"
   ]
  },
  {
   "cell_type": "code",
   "execution_count": 49,
   "metadata": {},
   "outputs": [
    {
     "data": {
      "text/html": [
       "<div>\n",
       "<style scoped>\n",
       "    .dataframe tbody tr th:only-of-type {\n",
       "        vertical-align: middle;\n",
       "    }\n",
       "\n",
       "    .dataframe tbody tr th {\n",
       "        vertical-align: top;\n",
       "    }\n",
       "\n",
       "    .dataframe thead th {\n",
       "        text-align: right;\n",
       "    }\n",
       "</style>\n",
       "<table border=\"1\" class=\"dataframe\">\n",
       "  <thead>\n",
       "    <tr style=\"text-align: right;\">\n",
       "      <th></th>\n",
       "      <th>origin</th>\n",
       "      <th>destination</th>\n",
       "      <th>mean_price</th>\n",
       "      <th>mean_seats</th>\n",
       "    </tr>\n",
       "  </thead>\n",
       "  <tbody>\n",
       "    <tr>\n",
       "      <th>0</th>\n",
       "      <td>GIRONA</td>\n",
       "      <td>MADRID</td>\n",
       "      <td>52.155172</td>\n",
       "      <td>99.568966</td>\n",
       "    </tr>\n",
       "    <tr>\n",
       "      <th>1</th>\n",
       "      <td>BARCELONA</td>\n",
       "      <td>MADRID</td>\n",
       "      <td>50.220276</td>\n",
       "      <td>140.215506</td>\n",
       "    </tr>\n",
       "    <tr>\n",
       "      <th>2</th>\n",
       "      <td>MADRID</td>\n",
       "      <td>MALAGA</td>\n",
       "      <td>49.575160</td>\n",
       "      <td>214.518950</td>\n",
       "    </tr>\n",
       "    <tr>\n",
       "      <th>3</th>\n",
       "      <td>MADRID</td>\n",
       "      <td>HUESCA</td>\n",
       "      <td>49.210526</td>\n",
       "      <td>91.894737</td>\n",
       "    </tr>\n",
       "    <tr>\n",
       "      <th>4</th>\n",
       "      <td>LLEIDA</td>\n",
       "      <td>MADRID</td>\n",
       "      <td>49.205967</td>\n",
       "      <td>136.390947</td>\n",
       "    </tr>\n",
       "    <tr>\n",
       "      <th>5</th>\n",
       "      <td>HUESCA</td>\n",
       "      <td>MADRID</td>\n",
       "      <td>48.702941</td>\n",
       "      <td>94.352941</td>\n",
       "    </tr>\n",
       "    <tr>\n",
       "      <th>6</th>\n",
       "      <td>MALAGA</td>\n",
       "      <td>MADRID</td>\n",
       "      <td>48.191407</td>\n",
       "      <td>207.599388</td>\n",
       "    </tr>\n",
       "    <tr>\n",
       "      <th>7</th>\n",
       "      <td>MADRID</td>\n",
       "      <td>BARCELONA</td>\n",
       "      <td>47.824611</td>\n",
       "      <td>143.473908</td>\n",
       "    </tr>\n",
       "    <tr>\n",
       "      <th>8</th>\n",
       "      <td>MADRID</td>\n",
       "      <td>CORDOBA</td>\n",
       "      <td>47.610444</td>\n",
       "      <td>166.656132</td>\n",
       "    </tr>\n",
       "    <tr>\n",
       "      <th>9</th>\n",
       "      <td>MADRID</td>\n",
       "      <td>SEVILLA</td>\n",
       "      <td>47.191203</td>\n",
       "      <td>139.201933</td>\n",
       "    </tr>\n",
       "    <tr>\n",
       "      <th>10</th>\n",
       "      <td>TARRAGONA</td>\n",
       "      <td>MADRID</td>\n",
       "      <td>47.136070</td>\n",
       "      <td>154.205279</td>\n",
       "    </tr>\n",
       "    <tr>\n",
       "      <th>11</th>\n",
       "      <td>MADRID</td>\n",
       "      <td>CADIZ</td>\n",
       "      <td>46.985714</td>\n",
       "      <td>201.285714</td>\n",
       "    </tr>\n",
       "    <tr>\n",
       "      <th>12</th>\n",
       "      <td>MADRID</td>\n",
       "      <td>LLEIDA</td>\n",
       "      <td>46.778222</td>\n",
       "      <td>152.271111</td>\n",
       "    </tr>\n",
       "    <tr>\n",
       "      <th>13</th>\n",
       "      <td>MADRID</td>\n",
       "      <td>TARRAGONA</td>\n",
       "      <td>46.328073</td>\n",
       "      <td>158.645251</td>\n",
       "    </tr>\n",
       "    <tr>\n",
       "      <th>14</th>\n",
       "      <td>SEVILLA</td>\n",
       "      <td>MADRID</td>\n",
       "      <td>46.093561</td>\n",
       "      <td>156.683712</td>\n",
       "    </tr>\n",
       "    <tr>\n",
       "      <th>15</th>\n",
       "      <td>CORDOBA</td>\n",
       "      <td>MADRID</td>\n",
       "      <td>45.808405</td>\n",
       "      <td>191.179277</td>\n",
       "    </tr>\n",
       "    <tr>\n",
       "      <th>16</th>\n",
       "      <td>GRANADA</td>\n",
       "      <td>MADRID</td>\n",
       "      <td>44.751016</td>\n",
       "      <td>204.122995</td>\n",
       "    </tr>\n",
       "    <tr>\n",
       "      <th>17</th>\n",
       "      <td>MADRID</td>\n",
       "      <td>ZARAGOZA</td>\n",
       "      <td>44.545318</td>\n",
       "      <td>174.128205</td>\n",
       "    </tr>\n",
       "    <tr>\n",
       "      <th>18</th>\n",
       "      <td>MADRID</td>\n",
       "      <td>GRANADA</td>\n",
       "      <td>44.413876</td>\n",
       "      <td>181.794258</td>\n",
       "    </tr>\n",
       "    <tr>\n",
       "      <th>19</th>\n",
       "      <td>CADIZ</td>\n",
       "      <td>MADRID</td>\n",
       "      <td>44.025000</td>\n",
       "      <td>201.687500</td>\n",
       "    </tr>\n",
       "    <tr>\n",
       "      <th>20</th>\n",
       "      <td>ZARAGOZA</td>\n",
       "      <td>MADRID</td>\n",
       "      <td>43.821959</td>\n",
       "      <td>160.794629</td>\n",
       "    </tr>\n",
       "    <tr>\n",
       "      <th>21</th>\n",
       "      <td>MADRID</td>\n",
       "      <td>GIRONA</td>\n",
       "      <td>43.178846</td>\n",
       "      <td>52.653846</td>\n",
       "    </tr>\n",
       "    <tr>\n",
       "      <th>22</th>\n",
       "      <td>PONFERRADA</td>\n",
       "      <td>MADRID</td>\n",
       "      <td>42.098394</td>\n",
       "      <td>118.451807</td>\n",
       "    </tr>\n",
       "    <tr>\n",
       "      <th>23</th>\n",
       "      <td>MADRID</td>\n",
       "      <td>ALICANTE</td>\n",
       "      <td>41.085983</td>\n",
       "      <td>214.720930</td>\n",
       "    </tr>\n",
       "    <tr>\n",
       "      <th>24</th>\n",
       "      <td>ALICANTE</td>\n",
       "      <td>MADRID</td>\n",
       "      <td>40.934105</td>\n",
       "      <td>208.754177</td>\n",
       "    </tr>\n",
       "    <tr>\n",
       "      <th>25</th>\n",
       "      <td>MADRID</td>\n",
       "      <td>CASTELLON</td>\n",
       "      <td>40.447000</td>\n",
       "      <td>162.368000</td>\n",
       "    </tr>\n",
       "    <tr>\n",
       "      <th>26</th>\n",
       "      <td>MADRID</td>\n",
       "      <td>PONFERRADA</td>\n",
       "      <td>40.149336</td>\n",
       "      <td>108.700997</td>\n",
       "    </tr>\n",
       "    <tr>\n",
       "      <th>27</th>\n",
       "      <td>CASTELLON</td>\n",
       "      <td>MADRID</td>\n",
       "      <td>39.970445</td>\n",
       "      <td>160.052224</td>\n",
       "    </tr>\n",
       "    <tr>\n",
       "      <th>28</th>\n",
       "      <td>LEON</td>\n",
       "      <td>MADRID</td>\n",
       "      <td>36.939630</td>\n",
       "      <td>183.123794</td>\n",
       "    </tr>\n",
       "    <tr>\n",
       "      <th>29</th>\n",
       "      <td>VALENCIA</td>\n",
       "      <td>MADRID</td>\n",
       "      <td>36.496736</td>\n",
       "      <td>173.628856</td>\n",
       "    </tr>\n",
       "    <tr>\n",
       "      <th>30</th>\n",
       "      <td>MADRID</td>\n",
       "      <td>VALENCIA</td>\n",
       "      <td>35.436380</td>\n",
       "      <td>174.268795</td>\n",
       "    </tr>\n",
       "    <tr>\n",
       "      <th>31</th>\n",
       "      <td>MADRID</td>\n",
       "      <td>LEON</td>\n",
       "      <td>34.004796</td>\n",
       "      <td>174.194245</td>\n",
       "    </tr>\n",
       "    <tr>\n",
       "      <th>32</th>\n",
       "      <td>VALLADOLID</td>\n",
       "      <td>MADRID</td>\n",
       "      <td>32.730675</td>\n",
       "      <td>186.910049</td>\n",
       "    </tr>\n",
       "    <tr>\n",
       "      <th>33</th>\n",
       "      <td>MADRID</td>\n",
       "      <td>VALLADOLID</td>\n",
       "      <td>32.442812</td>\n",
       "      <td>190.572931</td>\n",
       "    </tr>\n",
       "    <tr>\n",
       "      <th>34</th>\n",
       "      <td>MADRID</td>\n",
       "      <td>CIUDAD REAL</td>\n",
       "      <td>31.568367</td>\n",
       "      <td>198.010204</td>\n",
       "    </tr>\n",
       "    <tr>\n",
       "      <th>35</th>\n",
       "      <td>CIUDAD REAL</td>\n",
       "      <td>MADRID</td>\n",
       "      <td>30.904651</td>\n",
       "      <td>198.899225</td>\n",
       "    </tr>\n",
       "    <tr>\n",
       "      <th>36</th>\n",
       "      <td>MADRID</td>\n",
       "      <td>PALENCIA</td>\n",
       "      <td>29.857619</td>\n",
       "      <td>190.200000</td>\n",
       "    </tr>\n",
       "    <tr>\n",
       "      <th>37</th>\n",
       "      <td>MADRID</td>\n",
       "      <td>ALBACETE</td>\n",
       "      <td>29.726062</td>\n",
       "      <td>181.276250</td>\n",
       "    </tr>\n",
       "    <tr>\n",
       "      <th>38</th>\n",
       "      <td>PALENCIA</td>\n",
       "      <td>MADRID</td>\n",
       "      <td>29.518750</td>\n",
       "      <td>193.285714</td>\n",
       "    </tr>\n",
       "    <tr>\n",
       "      <th>39</th>\n",
       "      <td>ALBACETE</td>\n",
       "      <td>MADRID</td>\n",
       "      <td>29.331228</td>\n",
       "      <td>171.590319</td>\n",
       "    </tr>\n",
       "    <tr>\n",
       "      <th>40</th>\n",
       "      <td>MADRID</td>\n",
       "      <td>ZAMORA</td>\n",
       "      <td>27.889655</td>\n",
       "      <td>140.482759</td>\n",
       "    </tr>\n",
       "    <tr>\n",
       "      <th>41</th>\n",
       "      <td>ZAMORA</td>\n",
       "      <td>MADRID</td>\n",
       "      <td>27.668519</td>\n",
       "      <td>145.259259</td>\n",
       "    </tr>\n",
       "    <tr>\n",
       "      <th>42</th>\n",
       "      <td>MADRID</td>\n",
       "      <td>CUENCA</td>\n",
       "      <td>24.398421</td>\n",
       "      <td>165.600000</td>\n",
       "    </tr>\n",
       "    <tr>\n",
       "      <th>43</th>\n",
       "      <td>CUENCA</td>\n",
       "      <td>MADRID</td>\n",
       "      <td>24.257658</td>\n",
       "      <td>159.306306</td>\n",
       "    </tr>\n",
       "    <tr>\n",
       "      <th>44</th>\n",
       "      <td>SEGOVIA</td>\n",
       "      <td>MADRID</td>\n",
       "      <td>18.085938</td>\n",
       "      <td>173.250000</td>\n",
       "    </tr>\n",
       "    <tr>\n",
       "      <th>45</th>\n",
       "      <td>MADRID</td>\n",
       "      <td>SEGOVIA</td>\n",
       "      <td>18.042500</td>\n",
       "      <td>170.175000</td>\n",
       "    </tr>\n",
       "    <tr>\n",
       "      <th>46</th>\n",
       "      <td>GUADALAJARA</td>\n",
       "      <td>MADRID</td>\n",
       "      <td>14.360976</td>\n",
       "      <td>153.768293</td>\n",
       "    </tr>\n",
       "    <tr>\n",
       "      <th>47</th>\n",
       "      <td>TOLEDO</td>\n",
       "      <td>MADRID</td>\n",
       "      <td>13.900000</td>\n",
       "      <td>224.918033</td>\n",
       "    </tr>\n",
       "    <tr>\n",
       "      <th>48</th>\n",
       "      <td>MADRID</td>\n",
       "      <td>TOLEDO</td>\n",
       "      <td>13.900000</td>\n",
       "      <td>210.629630</td>\n",
       "    </tr>\n",
       "    <tr>\n",
       "      <th>49</th>\n",
       "      <td>MADRID</td>\n",
       "      <td>GUADALAJARA</td>\n",
       "      <td>13.096296</td>\n",
       "      <td>147.055556</td>\n",
       "    </tr>\n",
       "  </tbody>\n",
       "</table>\n",
       "</div>"
      ],
      "text/plain": [
       "         origin  destination  mean_price  mean_seats\n",
       "0        GIRONA       MADRID   52.155172   99.568966\n",
       "1     BARCELONA       MADRID   50.220276  140.215506\n",
       "2        MADRID       MALAGA   49.575160  214.518950\n",
       "3        MADRID       HUESCA   49.210526   91.894737\n",
       "4        LLEIDA       MADRID   49.205967  136.390947\n",
       "5        HUESCA       MADRID   48.702941   94.352941\n",
       "6        MALAGA       MADRID   48.191407  207.599388\n",
       "7        MADRID    BARCELONA   47.824611  143.473908\n",
       "8        MADRID      CORDOBA   47.610444  166.656132\n",
       "9        MADRID      SEVILLA   47.191203  139.201933\n",
       "10    TARRAGONA       MADRID   47.136070  154.205279\n",
       "11       MADRID        CADIZ   46.985714  201.285714\n",
       "12       MADRID       LLEIDA   46.778222  152.271111\n",
       "13       MADRID    TARRAGONA   46.328073  158.645251\n",
       "14      SEVILLA       MADRID   46.093561  156.683712\n",
       "15      CORDOBA       MADRID   45.808405  191.179277\n",
       "16      GRANADA       MADRID   44.751016  204.122995\n",
       "17       MADRID     ZARAGOZA   44.545318  174.128205\n",
       "18       MADRID      GRANADA   44.413876  181.794258\n",
       "19        CADIZ       MADRID   44.025000  201.687500\n",
       "20     ZARAGOZA       MADRID   43.821959  160.794629\n",
       "21       MADRID       GIRONA   43.178846   52.653846\n",
       "22   PONFERRADA       MADRID   42.098394  118.451807\n",
       "23       MADRID     ALICANTE   41.085983  214.720930\n",
       "24     ALICANTE       MADRID   40.934105  208.754177\n",
       "25       MADRID    CASTELLON   40.447000  162.368000\n",
       "26       MADRID   PONFERRADA   40.149336  108.700997\n",
       "27    CASTELLON       MADRID   39.970445  160.052224\n",
       "28         LEON       MADRID   36.939630  183.123794\n",
       "29     VALENCIA       MADRID   36.496736  173.628856\n",
       "30       MADRID     VALENCIA   35.436380  174.268795\n",
       "31       MADRID         LEON   34.004796  174.194245\n",
       "32   VALLADOLID       MADRID   32.730675  186.910049\n",
       "33       MADRID   VALLADOLID   32.442812  190.572931\n",
       "34       MADRID  CIUDAD REAL   31.568367  198.010204\n",
       "35  CIUDAD REAL       MADRID   30.904651  198.899225\n",
       "36       MADRID     PALENCIA   29.857619  190.200000\n",
       "37       MADRID     ALBACETE   29.726062  181.276250\n",
       "38     PALENCIA       MADRID   29.518750  193.285714\n",
       "39     ALBACETE       MADRID   29.331228  171.590319\n",
       "40       MADRID       ZAMORA   27.889655  140.482759\n",
       "41       ZAMORA       MADRID   27.668519  145.259259\n",
       "42       MADRID       CUENCA   24.398421  165.600000\n",
       "43       CUENCA       MADRID   24.257658  159.306306\n",
       "44      SEGOVIA       MADRID   18.085938  173.250000\n",
       "45       MADRID      SEGOVIA   18.042500  170.175000\n",
       "46  GUADALAJARA       MADRID   14.360976  153.768293\n",
       "47       TOLEDO       MADRID   13.900000  224.918033\n",
       "48       MADRID       TOLEDO   13.900000  210.629630\n",
       "49       MADRID  GUADALAJARA   13.096296  147.055556"
      ]
     },
     "execution_count": 49,
     "metadata": {},
     "output_type": "execute_result"
    }
   ],
   "source": [
    "routes_prices_pandas_df"
   ]
  },
  {
   "cell_type": "markdown",
   "metadata": {},
   "source": [
    "<div style=\"padding-top: 25px; float: right\">\n",
    "    <div>    \n",
    "        <i>&nbsp;&nbsp;© Copyright by</i>\n",
    "    </div>\n",
    "    <div>\n",
    "        <a href=\"https://whiteboxml.com\">\n",
    "            <img src=\"https://whiteboxml.com/static/img/logo/black_bg_white.svg\" width=\"125\">\n",
    "        </a>\n",
    "    </div>\n",
    "</div>"
   ]
  }
 ],
 "metadata": {
  "kernelspec": {
   "display_name": "Python [conda env:ml_env]",
   "language": "python",
   "name": "conda-env-ml_env-py"
  },
  "language_info": {
   "codemirror_mode": {
    "name": "ipython",
    "version": 3
   },
   "file_extension": ".py",
   "mimetype": "text/x-python",
   "name": "python",
   "nbconvert_exporter": "python",
   "pygments_lexer": "ipython3",
   "version": "3.7.6"
  }
 },
 "nbformat": 4,
 "nbformat_minor": 4
}

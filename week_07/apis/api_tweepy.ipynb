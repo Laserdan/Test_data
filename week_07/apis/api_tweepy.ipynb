{
 "cells": [
  {
   "cell_type": "markdown",
   "metadata": {},
   "source": [
    "<div style=\"float:right; padding-top: 15px; padding-right: 15px\">\n",
    "    <div>\n",
    "        <a href=\"https://whiteboxml.com\">\n",
    "            <img src=\"https://whiteboxml.com/static/img/logo/black_bg_white.svg\" width=\"250\">\n",
    "        </a>\n",
    "    </div>\n",
    "</div>"
   ]
  },
  {
   "cell_type": "markdown",
   "metadata": {},
   "source": [
    "# Tweepy"
   ]
  },
  {
   "cell_type": "markdown",
   "metadata": {},
   "source": [
    "- Go to https://developer.twitter.com/en/apply-for-access.html\n",
    "- Click Apply for a developer account\n",
    "- Follow the instructions and provide the information necessary to create a developer account for personal use\n",
    "- Twitter will review your application and approve your account (assuming you didn't say you would do anything that violates their terms of service)\n",
    "- Reference: http://docs.tweepy.org/en/latest/getting_started.html"
   ]
  },
  {
   "cell_type": "code",
   "execution_count": 1,
   "metadata": {},
   "outputs": [
    {
     "name": "stdout",
     "output_type": "stream",
     "text": [
      "Requirement already satisfied: tweepy in /home/ubuntu/miniconda3/envs/ironhack_env/lib/python3.7/site-packages (3.8.0)\n",
      "Requirement already satisfied: requests>=2.11.1 in /home/ubuntu/miniconda3/envs/ironhack_env/lib/python3.7/site-packages (from tweepy) (2.23.0)\n",
      "Requirement already satisfied: requests-oauthlib>=0.7.0 in /home/ubuntu/miniconda3/envs/ironhack_env/lib/python3.7/site-packages (from tweepy) (1.3.0)\n",
      "Requirement already satisfied: PySocks>=1.5.7 in /home/ubuntu/miniconda3/envs/ironhack_env/lib/python3.7/site-packages (from tweepy) (1.7.1)\n",
      "Requirement already satisfied: six>=1.10.0 in /home/ubuntu/miniconda3/envs/ironhack_env/lib/python3.7/site-packages (from tweepy) (1.14.0)\n",
      "Requirement already satisfied: certifi>=2017.4.17 in /home/ubuntu/miniconda3/envs/ironhack_env/lib/python3.7/site-packages (from requests>=2.11.1->tweepy) (2020.4.5.2)\n",
      "Requirement already satisfied: idna<3,>=2.5 in /home/ubuntu/miniconda3/envs/ironhack_env/lib/python3.7/site-packages (from requests>=2.11.1->tweepy) (2.9)\n",
      "Requirement already satisfied: chardet<4,>=3.0.2 in /home/ubuntu/miniconda3/envs/ironhack_env/lib/python3.7/site-packages (from requests>=2.11.1->tweepy) (3.0.4)\n",
      "Requirement already satisfied: urllib3!=1.25.0,!=1.25.1,<1.26,>=1.21.1 in /home/ubuntu/miniconda3/envs/ironhack_env/lib/python3.7/site-packages (from requests>=2.11.1->tweepy) (1.25.9)\n",
      "Requirement already satisfied: oauthlib>=3.0.0 in /home/ubuntu/miniconda3/envs/ironhack_env/lib/python3.7/site-packages (from requests-oauthlib>=0.7.0->tweepy) (3.1.0)\n"
     ]
    }
   ],
   "source": [
    "!pip install tweepy"
   ]
  },
  {
   "cell_type": "code",
   "execution_count": 2,
   "metadata": {},
   "outputs": [
    {
     "data": {
      "text/plain": [
       "<tweepy.api.API at 0x7f81303ec090>"
      ]
     },
     "execution_count": 2,
     "metadata": {},
     "output_type": "execute_result"
    }
   ],
   "source": [
    "import tweepy\n",
    "\n",
    "CONSUMER_KEY = 'swgXHbF1yrgJ9YcLqCGyGKNVE'\n",
    "CONSUMER_SECRET = 'OyhHqb7VWSzjKDWZ4sv4XBUTgOHkwzCYxfjGhH18AHbDXvAtuR'\n",
    "ACCESS_TOKEN = '1143776901472882689-RWnSe3HPFjCPrpQY4XtU8sOvhtbQ6T'\n",
    "ACCESS_SECRET = 'PCv5jWJArjapgRbQ3gFWIaRlqv7E8m8eOCe5NExldQem6'\n",
    "\n",
    "auth = tweepy.OAuthHandler(CONSUMER_KEY, CONSUMER_SECRET)\n",
    "auth.set_access_token(ACCESS_TOKEN, ACCESS_SECRET)\n",
    "\n",
    "api = tweepy.API(auth)\n",
    "\n",
    "api"
   ]
  },
  {
   "cell_type": "markdown",
   "metadata": {},
   "source": [
    "## 1. Query data"
   ]
  },
  {
   "cell_type": "code",
   "execution_count": 3,
   "metadata": {},
   "outputs": [
    {
     "data": {
      "text/plain": [
       "[User(_api=<tweepy.api.API object at 0x7f81303ec090>, _json={'id': 1247076625868619776, 'id_str': '1247076625868619776', 'name': 'Data For Hope', 'screen_name': 'DataForHope', 'location': '', 'description': 'Data for Hope es una apuesta por pensar en soluciones a la crisis del coronavirus desde el optimismo', 'url': None, 'entities': {'description': {'urls': []}}, 'protected': False, 'followers_count': 152, 'friends_count': 218, 'listed_count': 1, 'created_at': 'Mon Apr 06 08:20:37 +0000 2020', 'favourites_count': 51, 'utc_offset': None, 'time_zone': None, 'geo_enabled': False, 'verified': False, 'statuses_count': 59, 'lang': None, 'status': {'created_at': 'Wed Jun 17 14:38:39 +0000 2020', 'id': 1273263795461328896, 'id_str': '1273263795461328896', 'text': '📢@clouddistrict de la mano de @rfef , presentan FUTCOV, el primer proyecto tangible de @DataForHope.\\n\\n🤳Una herramie… https://t.co/jp3pleQLu9', 'truncated': True, 'entities': {'hashtags': [], 'symbols': [], 'user_mentions': [{'screen_name': 'clouddistrict', 'name': 'Cloud District', 'id': 211883468, 'id_str': '211883468', 'indices': [1, 15]}, {'screen_name': 'rfef', 'name': 'RFEF', 'id': 137415452, 'id_str': '137415452', 'indices': [30, 35]}, {'screen_name': 'DataForHope', 'name': 'Data For Hope', 'id': 1247076625868619776, 'id_str': '1247076625868619776', 'indices': [87, 99]}], 'urls': [{'url': 'https://t.co/jp3pleQLu9', 'expanded_url': 'https://twitter.com/i/web/status/1273263795461328896', 'display_url': 'twitter.com/i/web/status/1…', 'indices': [117, 140]}]}, 'source': '<a href=\"https://mobile.twitter.com\" rel=\"nofollow\">Twitter Web App</a>', 'in_reply_to_status_id': None, 'in_reply_to_status_id_str': None, 'in_reply_to_user_id': None, 'in_reply_to_user_id_str': None, 'in_reply_to_screen_name': None, 'geo': None, 'coordinates': None, 'place': None, 'contributors': None, 'is_quote_status': False, 'retweet_count': 0, 'favorite_count': 1, 'favorited': False, 'retweeted': False, 'possibly_sensitive': False, 'lang': 'es'}, 'contributors_enabled': False, 'is_translator': False, 'is_translation_enabled': False, 'profile_background_color': 'F5F8FA', 'profile_background_image_url': None, 'profile_background_image_url_https': None, 'profile_background_tile': False, 'profile_image_url': 'http://pbs.twimg.com/profile_images/1247468222959554560/AXUxhhH__normal.jpg', 'profile_image_url_https': 'https://pbs.twimg.com/profile_images/1247468222959554560/AXUxhhH__normal.jpg', 'profile_banner_url': 'https://pbs.twimg.com/profile_banners/1247076625868619776/1586256461', 'profile_link_color': '1DA1F2', 'profile_sidebar_border_color': 'C0DEED', 'profile_sidebar_fill_color': 'DDEEF6', 'profile_text_color': '333333', 'profile_use_background_image': True, 'has_extended_profile': False, 'default_profile': True, 'default_profile_image': False, 'following': False, 'live_following': False, 'follow_request_sent': False, 'notifications': False, 'muting': False, 'blocking': False, 'blocked_by': False, 'translator_type': 'none'}, id=1247076625868619776, id_str='1247076625868619776', name='Data For Hope', screen_name='DataForHope', location='', description='Data for Hope es una apuesta por pensar en soluciones a la crisis del coronavirus desde el optimismo', url=None, entities={'description': {'urls': []}}, protected=False, followers_count=152, friends_count=218, listed_count=1, created_at=datetime.datetime(2020, 4, 6, 8, 20, 37), favourites_count=51, utc_offset=None, time_zone=None, geo_enabled=False, verified=False, statuses_count=59, lang=None, status=Status(_api=<tweepy.api.API object at 0x7f81303ec090>, _json={'created_at': 'Wed Jun 17 14:38:39 +0000 2020', 'id': 1273263795461328896, 'id_str': '1273263795461328896', 'text': '📢@clouddistrict de la mano de @rfef , presentan FUTCOV, el primer proyecto tangible de @DataForHope.\\n\\n🤳Una herramie… https://t.co/jp3pleQLu9', 'truncated': True, 'entities': {'hashtags': [], 'symbols': [], 'user_mentions': [{'screen_name': 'clouddistrict', 'name': 'Cloud District', 'id': 211883468, 'id_str': '211883468', 'indices': [1, 15]}, {'screen_name': 'rfef', 'name': 'RFEF', 'id': 137415452, 'id_str': '137415452', 'indices': [30, 35]}, {'screen_name': 'DataForHope', 'name': 'Data For Hope', 'id': 1247076625868619776, 'id_str': '1247076625868619776', 'indices': [87, 99]}], 'urls': [{'url': 'https://t.co/jp3pleQLu9', 'expanded_url': 'https://twitter.com/i/web/status/1273263795461328896', 'display_url': 'twitter.com/i/web/status/1…', 'indices': [117, 140]}]}, 'source': '<a href=\"https://mobile.twitter.com\" rel=\"nofollow\">Twitter Web App</a>', 'in_reply_to_status_id': None, 'in_reply_to_status_id_str': None, 'in_reply_to_user_id': None, 'in_reply_to_user_id_str': None, 'in_reply_to_screen_name': None, 'geo': None, 'coordinates': None, 'place': None, 'contributors': None, 'is_quote_status': False, 'retweet_count': 0, 'favorite_count': 1, 'favorited': False, 'retweeted': False, 'possibly_sensitive': False, 'lang': 'es'}, created_at=datetime.datetime(2020, 6, 17, 14, 38, 39), id=1273263795461328896, id_str='1273263795461328896', text='📢@clouddistrict de la mano de @rfef , presentan FUTCOV, el primer proyecto tangible de @DataForHope.\\n\\n🤳Una herramie… https://t.co/jp3pleQLu9', truncated=True, entities={'hashtags': [], 'symbols': [], 'user_mentions': [{'screen_name': 'clouddistrict', 'name': 'Cloud District', 'id': 211883468, 'id_str': '211883468', 'indices': [1, 15]}, {'screen_name': 'rfef', 'name': 'RFEF', 'id': 137415452, 'id_str': '137415452', 'indices': [30, 35]}, {'screen_name': 'DataForHope', 'name': 'Data For Hope', 'id': 1247076625868619776, 'id_str': '1247076625868619776', 'indices': [87, 99]}], 'urls': [{'url': 'https://t.co/jp3pleQLu9', 'expanded_url': 'https://twitter.com/i/web/status/1273263795461328896', 'display_url': 'twitter.com/i/web/status/1…', 'indices': [117, 140]}]}, source='Twitter Web App', source_url='https://mobile.twitter.com', in_reply_to_status_id=None, in_reply_to_status_id_str=None, in_reply_to_user_id=None, in_reply_to_user_id_str=None, in_reply_to_screen_name=None, geo=None, coordinates=None, place=None, contributors=None, is_quote_status=False, retweet_count=0, favorite_count=1, favorited=False, retweeted=False, possibly_sensitive=False, lang='es'), contributors_enabled=False, is_translator=False, is_translation_enabled=False, profile_background_color='F5F8FA', profile_background_image_url=None, profile_background_image_url_https=None, profile_background_tile=False, profile_image_url='http://pbs.twimg.com/profile_images/1247468222959554560/AXUxhhH__normal.jpg', profile_image_url_https='https://pbs.twimg.com/profile_images/1247468222959554560/AXUxhhH__normal.jpg', profile_banner_url='https://pbs.twimg.com/profile_banners/1247076625868619776/1586256461', profile_link_color='1DA1F2', profile_sidebar_border_color='C0DEED', profile_sidebar_fill_color='DDEEF6', profile_text_color='333333', profile_use_background_image=True, has_extended_profile=False, default_profile=True, default_profile_image=False, following=False, live_following=False, follow_request_sent=False, notifications=False, muting=False, blocking=False, blocked_by=False, translator_type='none'),\n",
       " User(_api=<tweepy.api.API object at 0x7f81303ec090>, _json={'id': 50277061, 'id_str': '50277061', 'name': 'juan gerardo muros', 'screen_name': 'juangerardoheli', 'location': 'Madrid', 'description': 'One Cosmos ...One Brain !', 'url': 'http://t.co/ppmjue49C2', 'entities': {'url': {'urls': [{'url': 'http://t.co/ppmjue49C2', 'expanded_url': 'http://juangerardoheliodoro.blogspot.com/', 'display_url': 'juangerardoheliodoro.blogspot.com', 'indices': [0, 22]}]}, 'description': {'urls': []}}, 'protected': False, 'followers_count': 354, 'friends_count': 333, 'listed_count': 46, 'created_at': 'Wed Jun 24 11:12:39 +0000 2009', 'favourites_count': 490, 'utc_offset': None, 'time_zone': None, 'geo_enabled': True, 'verified': False, 'statuses_count': 2732, 'lang': None, 'status': {'created_at': 'Wed Jun 10 04:37:05 +0000 2020', 'id': 1270575690291777536, 'id_str': '1270575690291777536', 'text': 'RT @ACEHL_: serie @MdT_TVE ficciona #MdTEmilioHerrera con historia y algo #Ciencia @emulenews visitar archivos libros web https://t.co/232l…', 'truncated': False, 'entities': {'hashtags': [{'text': 'MdTEmilioHerrera', 'indices': [36, 53]}, {'text': 'Ciencia', 'indices': [74, 82]}], 'symbols': [], 'user_mentions': [{'screen_name': 'ACEHL_', 'name': 'ACEHL_Asociación_Emilio_Herrera_Linares', 'id': 1041992679314411521, 'id_str': '1041992679314411521', 'indices': [3, 10]}, {'screen_name': 'MdT_TVE', 'name': 'Mº del Tiempo', 'id': 2840587343, 'id_str': '2840587343', 'indices': [18, 26]}, {'screen_name': 'emulenews', 'name': 'Francis Villatoro', 'id': 392357015, 'id_str': '392357015', 'indices': [83, 93]}], 'urls': []}, 'source': '<a href=\"http://twitter.com/download/iphone\" rel=\"nofollow\">Twitter for iPhone</a>', 'in_reply_to_status_id': None, 'in_reply_to_status_id_str': None, 'in_reply_to_user_id': None, 'in_reply_to_user_id_str': None, 'in_reply_to_screen_name': None, 'geo': None, 'coordinates': None, 'place': None, 'contributors': None, 'retweeted_status': {'created_at': 'Wed Jun 10 04:36:09 +0000 2020', 'id': 1270575454307614723, 'id_str': '1270575454307614723', 'text': 'serie @MdT_TVE ficciona #MdTEmilioHerrera con historia y algo #Ciencia @emulenews visitar archivos libros web… https://t.co/9b2Wj7B4bT', 'truncated': True, 'entities': {'hashtags': [{'text': 'MdTEmilioHerrera', 'indices': [24, 41]}, {'text': 'Ciencia', 'indices': [62, 70]}], 'symbols': [], 'user_mentions': [{'screen_name': 'MdT_TVE', 'name': 'Mº del Tiempo', 'id': 2840587343, 'id_str': '2840587343', 'indices': [6, 14]}, {'screen_name': 'emulenews', 'name': 'Francis Villatoro', 'id': 392357015, 'id_str': '392357015', 'indices': [71, 81]}], 'urls': [{'url': 'https://t.co/9b2Wj7B4bT', 'expanded_url': 'https://twitter.com/i/web/status/1270575454307614723', 'display_url': 'twitter.com/i/web/status/1…', 'indices': [111, 134]}]}, 'source': '<a href=\"http://twitter.com/download/iphone\" rel=\"nofollow\">Twitter for iPhone</a>', 'in_reply_to_status_id': None, 'in_reply_to_status_id_str': None, 'in_reply_to_user_id': None, 'in_reply_to_user_id_str': None, 'in_reply_to_screen_name': None, 'geo': None, 'coordinates': None, 'place': None, 'contributors': None, 'is_quote_status': False, 'retweet_count': 2, 'favorite_count': 6, 'favorited': False, 'retweeted': False, 'possibly_sensitive': False, 'lang': 'es'}, 'is_quote_status': False, 'retweet_count': 2, 'favorite_count': 0, 'favorited': False, 'retweeted': False, 'lang': 'es'}, 'contributors_enabled': False, 'is_translator': False, 'is_translation_enabled': False, 'profile_background_color': 'C0DEED', 'profile_background_image_url': 'http://abs.twimg.com/images/themes/theme1/bg.png', 'profile_background_image_url_https': 'https://abs.twimg.com/images/themes/theme1/bg.png', 'profile_background_tile': True, 'profile_image_url': 'http://pbs.twimg.com/profile_images/2254704546/principito_normal.jpg', 'profile_image_url_https': 'https://pbs.twimg.com/profile_images/2254704546/principito_normal.jpg', 'profile_link_color': '0084B4', 'profile_sidebar_border_color': 'C0DEED', 'profile_sidebar_fill_color': 'DDEEF6', 'profile_text_color': '333333', 'profile_use_background_image': True, 'has_extended_profile': True, 'default_profile': False, 'default_profile_image': False, 'following': False, 'live_following': False, 'follow_request_sent': False, 'notifications': False, 'muting': False, 'blocking': False, 'blocked_by': False, 'translator_type': 'none'}, id=50277061, id_str='50277061', name='juan gerardo muros', screen_name='juangerardoheli', location='Madrid', description='One Cosmos ...One Brain !', url='http://t.co/ppmjue49C2', entities={'url': {'urls': [{'url': 'http://t.co/ppmjue49C2', 'expanded_url': 'http://juangerardoheliodoro.blogspot.com/', 'display_url': 'juangerardoheliodoro.blogspot.com', 'indices': [0, 22]}]}, 'description': {'urls': []}}, protected=False, followers_count=354, friends_count=333, listed_count=46, created_at=datetime.datetime(2009, 6, 24, 11, 12, 39), favourites_count=490, utc_offset=None, time_zone=None, geo_enabled=True, verified=False, statuses_count=2732, lang=None, status=Status(_api=<tweepy.api.API object at 0x7f81303ec090>, _json={'created_at': 'Wed Jun 10 04:37:05 +0000 2020', 'id': 1270575690291777536, 'id_str': '1270575690291777536', 'text': 'RT @ACEHL_: serie @MdT_TVE ficciona #MdTEmilioHerrera con historia y algo #Ciencia @emulenews visitar archivos libros web https://t.co/232l…', 'truncated': False, 'entities': {'hashtags': [{'text': 'MdTEmilioHerrera', 'indices': [36, 53]}, {'text': 'Ciencia', 'indices': [74, 82]}], 'symbols': [], 'user_mentions': [{'screen_name': 'ACEHL_', 'name': 'ACEHL_Asociación_Emilio_Herrera_Linares', 'id': 1041992679314411521, 'id_str': '1041992679314411521', 'indices': [3, 10]}, {'screen_name': 'MdT_TVE', 'name': 'Mº del Tiempo', 'id': 2840587343, 'id_str': '2840587343', 'indices': [18, 26]}, {'screen_name': 'emulenews', 'name': 'Francis Villatoro', 'id': 392357015, 'id_str': '392357015', 'indices': [83, 93]}], 'urls': []}, 'source': '<a href=\"http://twitter.com/download/iphone\" rel=\"nofollow\">Twitter for iPhone</a>', 'in_reply_to_status_id': None, 'in_reply_to_status_id_str': None, 'in_reply_to_user_id': None, 'in_reply_to_user_id_str': None, 'in_reply_to_screen_name': None, 'geo': None, 'coordinates': None, 'place': None, 'contributors': None, 'retweeted_status': {'created_at': 'Wed Jun 10 04:36:09 +0000 2020', 'id': 1270575454307614723, 'id_str': '1270575454307614723', 'text': 'serie @MdT_TVE ficciona #MdTEmilioHerrera con historia y algo #Ciencia @emulenews visitar archivos libros web… https://t.co/9b2Wj7B4bT', 'truncated': True, 'entities': {'hashtags': [{'text': 'MdTEmilioHerrera', 'indices': [24, 41]}, {'text': 'Ciencia', 'indices': [62, 70]}], 'symbols': [], 'user_mentions': [{'screen_name': 'MdT_TVE', 'name': 'Mº del Tiempo', 'id': 2840587343, 'id_str': '2840587343', 'indices': [6, 14]}, {'screen_name': 'emulenews', 'name': 'Francis Villatoro', 'id': 392357015, 'id_str': '392357015', 'indices': [71, 81]}], 'urls': [{'url': 'https://t.co/9b2Wj7B4bT', 'expanded_url': 'https://twitter.com/i/web/status/1270575454307614723', 'display_url': 'twitter.com/i/web/status/1…', 'indices': [111, 134]}]}, 'source': '<a href=\"http://twitter.com/download/iphone\" rel=\"nofollow\">Twitter for iPhone</a>', 'in_reply_to_status_id': None, 'in_reply_to_status_id_str': None, 'in_reply_to_user_id': None, 'in_reply_to_user_id_str': None, 'in_reply_to_screen_name': None, 'geo': None, 'coordinates': None, 'place': None, 'contributors': None, 'is_quote_status': False, 'retweet_count': 2, 'favorite_count': 6, 'favorited': False, 'retweeted': False, 'possibly_sensitive': False, 'lang': 'es'}, 'is_quote_status': False, 'retweet_count': 2, 'favorite_count': 0, 'favorited': False, 'retweeted': False, 'lang': 'es'}, created_at=datetime.datetime(2020, 6, 10, 4, 37, 5), id=1270575690291777536, id_str='1270575690291777536', text='RT @ACEHL_: serie @MdT_TVE ficciona #MdTEmilioHerrera con historia y algo #Ciencia @emulenews visitar archivos libros web https://t.co/232l…', truncated=False, entities={'hashtags': [{'text': 'MdTEmilioHerrera', 'indices': [36, 53]}, {'text': 'Ciencia', 'indices': [74, 82]}], 'symbols': [], 'user_mentions': [{'screen_name': 'ACEHL_', 'name': 'ACEHL_Asociación_Emilio_Herrera_Linares', 'id': 1041992679314411521, 'id_str': '1041992679314411521', 'indices': [3, 10]}, {'screen_name': 'MdT_TVE', 'name': 'Mº del Tiempo', 'id': 2840587343, 'id_str': '2840587343', 'indices': [18, 26]}, {'screen_name': 'emulenews', 'name': 'Francis Villatoro', 'id': 392357015, 'id_str': '392357015', 'indices': [83, 93]}], 'urls': []}, source='Twitter for iPhone', source_url='http://twitter.com/download/iphone', in_reply_to_status_id=None, in_reply_to_status_id_str=None, in_reply_to_user_id=None, in_reply_to_user_id_str=None, in_reply_to_screen_name=None, geo=None, coordinates=None, place=None, contributors=None, retweeted_status=Status(_api=<tweepy.api.API object at 0x7f81303ec090>, _json={'created_at': 'Wed Jun 10 04:36:09 +0000 2020', 'id': 1270575454307614723, 'id_str': '1270575454307614723', 'text': 'serie @MdT_TVE ficciona #MdTEmilioHerrera con historia y algo #Ciencia @emulenews visitar archivos libros web… https://t.co/9b2Wj7B4bT', 'truncated': True, 'entities': {'hashtags': [{'text': 'MdTEmilioHerrera', 'indices': [24, 41]}, {'text': 'Ciencia', 'indices': [62, 70]}], 'symbols': [], 'user_mentions': [{'screen_name': 'MdT_TVE', 'name': 'Mº del Tiempo', 'id': 2840587343, 'id_str': '2840587343', 'indices': [6, 14]}, {'screen_name': 'emulenews', 'name': 'Francis Villatoro', 'id': 392357015, 'id_str': '392357015', 'indices': [71, 81]}], 'urls': [{'url': 'https://t.co/9b2Wj7B4bT', 'expanded_url': 'https://twitter.com/i/web/status/1270575454307614723', 'display_url': 'twitter.com/i/web/status/1…', 'indices': [111, 134]}]}, 'source': '<a href=\"http://twitter.com/download/iphone\" rel=\"nofollow\">Twitter for iPhone</a>', 'in_reply_to_status_id': None, 'in_reply_to_status_id_str': None, 'in_reply_to_user_id': None, 'in_reply_to_user_id_str': None, 'in_reply_to_screen_name': None, 'geo': None, 'coordinates': None, 'place': None, 'contributors': None, 'is_quote_status': False, 'retweet_count': 2, 'favorite_count': 6, 'favorited': False, 'retweeted': False, 'possibly_sensitive': False, 'lang': 'es'}, created_at=datetime.datetime(2020, 6, 10, 4, 36, 9), id=1270575454307614723, id_str='1270575454307614723', text='serie @MdT_TVE ficciona #MdTEmilioHerrera con historia y algo #Ciencia @emulenews visitar archivos libros web… https://t.co/9b2Wj7B4bT', truncated=True, entities={'hashtags': [{'text': 'MdTEmilioHerrera', 'indices': [24, 41]}, {'text': 'Ciencia', 'indices': [62, 70]}], 'symbols': [], 'user_mentions': [{'screen_name': 'MdT_TVE', 'name': 'Mº del Tiempo', 'id': 2840587343, 'id_str': '2840587343', 'indices': [6, 14]}, {'screen_name': 'emulenews', 'name': 'Francis Villatoro', 'id': 392357015, 'id_str': '392357015', 'indices': [71, 81]}], 'urls': [{'url': 'https://t.co/9b2Wj7B4bT', 'expanded_url': 'https://twitter.com/i/web/status/1270575454307614723', 'display_url': 'twitter.com/i/web/status/1…', 'indices': [111, 134]}]}, source='Twitter for iPhone', source_url='http://twitter.com/download/iphone', in_reply_to_status_id=None, in_reply_to_status_id_str=None, in_reply_to_user_id=None, in_reply_to_user_id_str=None, in_reply_to_screen_name=None, geo=None, coordinates=None, place=None, contributors=None, is_quote_status=False, retweet_count=2, favorite_count=6, favorited=False, retweeted=False, possibly_sensitive=False, lang='es'), is_quote_status=False, retweet_count=2, favorite_count=0, favorited=False, retweeted=False, lang='es'), contributors_enabled=False, is_translator=False, is_translation_enabled=False, profile_background_color='C0DEED', profile_background_image_url='http://abs.twimg.com/images/themes/theme1/bg.png', profile_background_image_url_https='https://abs.twimg.com/images/themes/theme1/bg.png', profile_background_tile=True, profile_image_url='http://pbs.twimg.com/profile_images/2254704546/principito_normal.jpg', profile_image_url_https='https://pbs.twimg.com/profile_images/2254704546/principito_normal.jpg', profile_link_color='0084B4', profile_sidebar_border_color='C0DEED', profile_sidebar_fill_color='DDEEF6', profile_text_color='333333', profile_use_background_image=True, has_extended_profile=True, default_profile=False, default_profile_image=False, following=False, live_following=False, follow_request_sent=False, notifications=False, muting=False, blocking=False, blocked_by=False, translator_type='none')]"
      ]
     },
     "execution_count": 3,
     "metadata": {},
     "output_type": "execute_result"
    }
   ],
   "source": [
    "followers = api.followers('@whiteboxml', count=2)\n",
    "\n",
    "followers"
   ]
  },
  {
   "cell_type": "code",
   "execution_count": 4,
   "metadata": {},
   "outputs": [
    {
     "data": {
      "text/plain": [
       "User(_api=<tweepy.api.API object at 0x7f81303ec090>, _json={'id': 1247076625868619776, 'id_str': '1247076625868619776', 'name': 'Data For Hope', 'screen_name': 'DataForHope', 'location': '', 'description': 'Data for Hope es una apuesta por pensar en soluciones a la crisis del coronavirus desde el optimismo', 'url': None, 'entities': {'description': {'urls': []}}, 'protected': False, 'followers_count': 152, 'friends_count': 218, 'listed_count': 1, 'created_at': 'Mon Apr 06 08:20:37 +0000 2020', 'favourites_count': 51, 'utc_offset': None, 'time_zone': None, 'geo_enabled': False, 'verified': False, 'statuses_count': 59, 'lang': None, 'status': {'created_at': 'Wed Jun 17 14:38:39 +0000 2020', 'id': 1273263795461328896, 'id_str': '1273263795461328896', 'text': '📢@clouddistrict de la mano de @rfef , presentan FUTCOV, el primer proyecto tangible de @DataForHope.\\n\\n🤳Una herramie… https://t.co/jp3pleQLu9', 'truncated': True, 'entities': {'hashtags': [], 'symbols': [], 'user_mentions': [{'screen_name': 'clouddistrict', 'name': 'Cloud District', 'id': 211883468, 'id_str': '211883468', 'indices': [1, 15]}, {'screen_name': 'rfef', 'name': 'RFEF', 'id': 137415452, 'id_str': '137415452', 'indices': [30, 35]}, {'screen_name': 'DataForHope', 'name': 'Data For Hope', 'id': 1247076625868619776, 'id_str': '1247076625868619776', 'indices': [87, 99]}], 'urls': [{'url': 'https://t.co/jp3pleQLu9', 'expanded_url': 'https://twitter.com/i/web/status/1273263795461328896', 'display_url': 'twitter.com/i/web/status/1…', 'indices': [117, 140]}]}, 'source': '<a href=\"https://mobile.twitter.com\" rel=\"nofollow\">Twitter Web App</a>', 'in_reply_to_status_id': None, 'in_reply_to_status_id_str': None, 'in_reply_to_user_id': None, 'in_reply_to_user_id_str': None, 'in_reply_to_screen_name': None, 'geo': None, 'coordinates': None, 'place': None, 'contributors': None, 'is_quote_status': False, 'retweet_count': 0, 'favorite_count': 1, 'favorited': False, 'retweeted': False, 'possibly_sensitive': False, 'lang': 'es'}, 'contributors_enabled': False, 'is_translator': False, 'is_translation_enabled': False, 'profile_background_color': 'F5F8FA', 'profile_background_image_url': None, 'profile_background_image_url_https': None, 'profile_background_tile': False, 'profile_image_url': 'http://pbs.twimg.com/profile_images/1247468222959554560/AXUxhhH__normal.jpg', 'profile_image_url_https': 'https://pbs.twimg.com/profile_images/1247468222959554560/AXUxhhH__normal.jpg', 'profile_banner_url': 'https://pbs.twimg.com/profile_banners/1247076625868619776/1586256461', 'profile_link_color': '1DA1F2', 'profile_sidebar_border_color': 'C0DEED', 'profile_sidebar_fill_color': 'DDEEF6', 'profile_text_color': '333333', 'profile_use_background_image': True, 'has_extended_profile': False, 'default_profile': True, 'default_profile_image': False, 'following': False, 'live_following': False, 'follow_request_sent': False, 'notifications': False, 'muting': False, 'blocking': False, 'blocked_by': False, 'translator_type': 'none'}, id=1247076625868619776, id_str='1247076625868619776', name='Data For Hope', screen_name='DataForHope', location='', description='Data for Hope es una apuesta por pensar en soluciones a la crisis del coronavirus desde el optimismo', url=None, entities={'description': {'urls': []}}, protected=False, followers_count=152, friends_count=218, listed_count=1, created_at=datetime.datetime(2020, 4, 6, 8, 20, 37), favourites_count=51, utc_offset=None, time_zone=None, geo_enabled=False, verified=False, statuses_count=59, lang=None, status=Status(_api=<tweepy.api.API object at 0x7f81303ec090>, _json={'created_at': 'Wed Jun 17 14:38:39 +0000 2020', 'id': 1273263795461328896, 'id_str': '1273263795461328896', 'text': '📢@clouddistrict de la mano de @rfef , presentan FUTCOV, el primer proyecto tangible de @DataForHope.\\n\\n🤳Una herramie… https://t.co/jp3pleQLu9', 'truncated': True, 'entities': {'hashtags': [], 'symbols': [], 'user_mentions': [{'screen_name': 'clouddistrict', 'name': 'Cloud District', 'id': 211883468, 'id_str': '211883468', 'indices': [1, 15]}, {'screen_name': 'rfef', 'name': 'RFEF', 'id': 137415452, 'id_str': '137415452', 'indices': [30, 35]}, {'screen_name': 'DataForHope', 'name': 'Data For Hope', 'id': 1247076625868619776, 'id_str': '1247076625868619776', 'indices': [87, 99]}], 'urls': [{'url': 'https://t.co/jp3pleQLu9', 'expanded_url': 'https://twitter.com/i/web/status/1273263795461328896', 'display_url': 'twitter.com/i/web/status/1…', 'indices': [117, 140]}]}, 'source': '<a href=\"https://mobile.twitter.com\" rel=\"nofollow\">Twitter Web App</a>', 'in_reply_to_status_id': None, 'in_reply_to_status_id_str': None, 'in_reply_to_user_id': None, 'in_reply_to_user_id_str': None, 'in_reply_to_screen_name': None, 'geo': None, 'coordinates': None, 'place': None, 'contributors': None, 'is_quote_status': False, 'retweet_count': 0, 'favorite_count': 1, 'favorited': False, 'retweeted': False, 'possibly_sensitive': False, 'lang': 'es'}, created_at=datetime.datetime(2020, 6, 17, 14, 38, 39), id=1273263795461328896, id_str='1273263795461328896', text='📢@clouddistrict de la mano de @rfef , presentan FUTCOV, el primer proyecto tangible de @DataForHope.\\n\\n🤳Una herramie… https://t.co/jp3pleQLu9', truncated=True, entities={'hashtags': [], 'symbols': [], 'user_mentions': [{'screen_name': 'clouddistrict', 'name': 'Cloud District', 'id': 211883468, 'id_str': '211883468', 'indices': [1, 15]}, {'screen_name': 'rfef', 'name': 'RFEF', 'id': 137415452, 'id_str': '137415452', 'indices': [30, 35]}, {'screen_name': 'DataForHope', 'name': 'Data For Hope', 'id': 1247076625868619776, 'id_str': '1247076625868619776', 'indices': [87, 99]}], 'urls': [{'url': 'https://t.co/jp3pleQLu9', 'expanded_url': 'https://twitter.com/i/web/status/1273263795461328896', 'display_url': 'twitter.com/i/web/status/1…', 'indices': [117, 140]}]}, source='Twitter Web App', source_url='https://mobile.twitter.com', in_reply_to_status_id=None, in_reply_to_status_id_str=None, in_reply_to_user_id=None, in_reply_to_user_id_str=None, in_reply_to_screen_name=None, geo=None, coordinates=None, place=None, contributors=None, is_quote_status=False, retweet_count=0, favorite_count=1, favorited=False, retweeted=False, possibly_sensitive=False, lang='es'), contributors_enabled=False, is_translator=False, is_translation_enabled=False, profile_background_color='F5F8FA', profile_background_image_url=None, profile_background_image_url_https=None, profile_background_tile=False, profile_image_url='http://pbs.twimg.com/profile_images/1247468222959554560/AXUxhhH__normal.jpg', profile_image_url_https='https://pbs.twimg.com/profile_images/1247468222959554560/AXUxhhH__normal.jpg', profile_banner_url='https://pbs.twimg.com/profile_banners/1247076625868619776/1586256461', profile_link_color='1DA1F2', profile_sidebar_border_color='C0DEED', profile_sidebar_fill_color='DDEEF6', profile_text_color='333333', profile_use_background_image=True, has_extended_profile=False, default_profile=True, default_profile_image=False, following=False, live_following=False, follow_request_sent=False, notifications=False, muting=False, blocking=False, blocked_by=False, translator_type='none')"
      ]
     },
     "execution_count": 4,
     "metadata": {},
     "output_type": "execute_result"
    }
   ],
   "source": [
    "followers[0]"
   ]
  },
  {
   "cell_type": "code",
   "execution_count": 5,
   "metadata": {},
   "outputs": [
    {
     "data": {
      "text/plain": [
       "{'id': 1247076625868619776,\n",
       " 'id_str': '1247076625868619776',\n",
       " 'name': 'Data For Hope',\n",
       " 'screen_name': 'DataForHope',\n",
       " 'location': '',\n",
       " 'description': 'Data for Hope es una apuesta por pensar en soluciones a la crisis del coronavirus desde el optimismo',\n",
       " 'url': None,\n",
       " 'entities': {'description': {'urls': []}},\n",
       " 'protected': False,\n",
       " 'followers_count': 152,\n",
       " 'friends_count': 218,\n",
       " 'listed_count': 1,\n",
       " 'created_at': 'Mon Apr 06 08:20:37 +0000 2020',\n",
       " 'favourites_count': 51,\n",
       " 'utc_offset': None,\n",
       " 'time_zone': None,\n",
       " 'geo_enabled': False,\n",
       " 'verified': False,\n",
       " 'statuses_count': 59,\n",
       " 'lang': None,\n",
       " 'status': {'created_at': 'Wed Jun 17 14:38:39 +0000 2020',\n",
       "  'id': 1273263795461328896,\n",
       "  'id_str': '1273263795461328896',\n",
       "  'text': '📢@clouddistrict de la mano de @rfef , presentan FUTCOV, el primer proyecto tangible de @DataForHope.\\n\\n🤳Una herramie… https://t.co/jp3pleQLu9',\n",
       "  'truncated': True,\n",
       "  'entities': {'hashtags': [],\n",
       "   'symbols': [],\n",
       "   'user_mentions': [{'screen_name': 'clouddistrict',\n",
       "     'name': 'Cloud District',\n",
       "     'id': 211883468,\n",
       "     'id_str': '211883468',\n",
       "     'indices': [1, 15]},\n",
       "    {'screen_name': 'rfef',\n",
       "     'name': 'RFEF',\n",
       "     'id': 137415452,\n",
       "     'id_str': '137415452',\n",
       "     'indices': [30, 35]},\n",
       "    {'screen_name': 'DataForHope',\n",
       "     'name': 'Data For Hope',\n",
       "     'id': 1247076625868619776,\n",
       "     'id_str': '1247076625868619776',\n",
       "     'indices': [87, 99]}],\n",
       "   'urls': [{'url': 'https://t.co/jp3pleQLu9',\n",
       "     'expanded_url': 'https://twitter.com/i/web/status/1273263795461328896',\n",
       "     'display_url': 'twitter.com/i/web/status/1…',\n",
       "     'indices': [117, 140]}]},\n",
       "  'source': '<a href=\"https://mobile.twitter.com\" rel=\"nofollow\">Twitter Web App</a>',\n",
       "  'in_reply_to_status_id': None,\n",
       "  'in_reply_to_status_id_str': None,\n",
       "  'in_reply_to_user_id': None,\n",
       "  'in_reply_to_user_id_str': None,\n",
       "  'in_reply_to_screen_name': None,\n",
       "  'geo': None,\n",
       "  'coordinates': None,\n",
       "  'place': None,\n",
       "  'contributors': None,\n",
       "  'is_quote_status': False,\n",
       "  'retweet_count': 0,\n",
       "  'favorite_count': 1,\n",
       "  'favorited': False,\n",
       "  'retweeted': False,\n",
       "  'possibly_sensitive': False,\n",
       "  'lang': 'es'},\n",
       " 'contributors_enabled': False,\n",
       " 'is_translator': False,\n",
       " 'is_translation_enabled': False,\n",
       " 'profile_background_color': 'F5F8FA',\n",
       " 'profile_background_image_url': None,\n",
       " 'profile_background_image_url_https': None,\n",
       " 'profile_background_tile': False,\n",
       " 'profile_image_url': 'http://pbs.twimg.com/profile_images/1247468222959554560/AXUxhhH__normal.jpg',\n",
       " 'profile_image_url_https': 'https://pbs.twimg.com/profile_images/1247468222959554560/AXUxhhH__normal.jpg',\n",
       " 'profile_banner_url': 'https://pbs.twimg.com/profile_banners/1247076625868619776/1586256461',\n",
       " 'profile_link_color': '1DA1F2',\n",
       " 'profile_sidebar_border_color': 'C0DEED',\n",
       " 'profile_sidebar_fill_color': 'DDEEF6',\n",
       " 'profile_text_color': '333333',\n",
       " 'profile_use_background_image': True,\n",
       " 'has_extended_profile': False,\n",
       " 'default_profile': True,\n",
       " 'default_profile_image': False,\n",
       " 'following': False,\n",
       " 'live_following': False,\n",
       " 'follow_request_sent': False,\n",
       " 'notifications': False,\n",
       " 'muting': False,\n",
       " 'blocking': False,\n",
       " 'blocked_by': False,\n",
       " 'translator_type': 'none'}"
      ]
     },
     "execution_count": 5,
     "metadata": {},
     "output_type": "execute_result"
    }
   ],
   "source": [
    "followers[0]._json"
   ]
  },
  {
   "cell_type": "code",
   "execution_count": 6,
   "metadata": {},
   "outputs": [
    {
     "data": {
      "text/html": [
       "<div>\n",
       "<style scoped>\n",
       "    .dataframe tbody tr th:only-of-type {\n",
       "        vertical-align: middle;\n",
       "    }\n",
       "\n",
       "    .dataframe tbody tr th {\n",
       "        vertical-align: top;\n",
       "    }\n",
       "\n",
       "    .dataframe thead th {\n",
       "        text-align: right;\n",
       "    }\n",
       "</style>\n",
       "<table border=\"1\" class=\"dataframe\">\n",
       "  <thead>\n",
       "    <tr style=\"text-align: right;\">\n",
       "      <th></th>\n",
       "      <th>id</th>\n",
       "      <th>id_str</th>\n",
       "      <th>name</th>\n",
       "      <th>screen_name</th>\n",
       "      <th>location</th>\n",
       "      <th>description</th>\n",
       "      <th>url</th>\n",
       "      <th>entities</th>\n",
       "      <th>protected</th>\n",
       "      <th>followers_count</th>\n",
       "      <th>...</th>\n",
       "      <th>default_profile</th>\n",
       "      <th>default_profile_image</th>\n",
       "      <th>following</th>\n",
       "      <th>live_following</th>\n",
       "      <th>follow_request_sent</th>\n",
       "      <th>notifications</th>\n",
       "      <th>muting</th>\n",
       "      <th>blocking</th>\n",
       "      <th>blocked_by</th>\n",
       "      <th>translator_type</th>\n",
       "    </tr>\n",
       "  </thead>\n",
       "  <tbody>\n",
       "    <tr>\n",
       "      <th>0</th>\n",
       "      <td>1247076625868619776</td>\n",
       "      <td>1247076625868619776</td>\n",
       "      <td>Data For Hope</td>\n",
       "      <td>DataForHope</td>\n",
       "      <td></td>\n",
       "      <td>Data for Hope es una apuesta por pensar en sol...</td>\n",
       "      <td>None</td>\n",
       "      <td>{'description': {'urls': []}}</td>\n",
       "      <td>False</td>\n",
       "      <td>152</td>\n",
       "      <td>...</td>\n",
       "      <td>True</td>\n",
       "      <td>False</td>\n",
       "      <td>False</td>\n",
       "      <td>False</td>\n",
       "      <td>False</td>\n",
       "      <td>False</td>\n",
       "      <td>False</td>\n",
       "      <td>False</td>\n",
       "      <td>False</td>\n",
       "      <td>none</td>\n",
       "    </tr>\n",
       "    <tr>\n",
       "      <th>1</th>\n",
       "      <td>50277061</td>\n",
       "      <td>50277061</td>\n",
       "      <td>juan gerardo muros</td>\n",
       "      <td>juangerardoheli</td>\n",
       "      <td>Madrid</td>\n",
       "      <td>One Cosmos ...One Brain !</td>\n",
       "      <td>http://t.co/ppmjue49C2</td>\n",
       "      <td>{'url': {'urls': [{'url': 'http://t.co/ppmjue4...</td>\n",
       "      <td>False</td>\n",
       "      <td>354</td>\n",
       "      <td>...</td>\n",
       "      <td>False</td>\n",
       "      <td>False</td>\n",
       "      <td>False</td>\n",
       "      <td>False</td>\n",
       "      <td>False</td>\n",
       "      <td>False</td>\n",
       "      <td>False</td>\n",
       "      <td>False</td>\n",
       "      <td>False</td>\n",
       "      <td>none</td>\n",
       "    </tr>\n",
       "  </tbody>\n",
       "</table>\n",
       "<p>2 rows × 47 columns</p>\n",
       "</div>"
      ],
      "text/plain": [
       "                    id               id_str                name  \\\n",
       "0  1247076625868619776  1247076625868619776       Data For Hope   \n",
       "1             50277061             50277061  juan gerardo muros   \n",
       "\n",
       "       screen_name location  \\\n",
       "0      DataForHope            \n",
       "1  juangerardoheli   Madrid   \n",
       "\n",
       "                                         description                     url  \\\n",
       "0  Data for Hope es una apuesta por pensar en sol...                    None   \n",
       "1                          One Cosmos ...One Brain !  http://t.co/ppmjue49C2   \n",
       "\n",
       "                                            entities  protected  \\\n",
       "0                      {'description': {'urls': []}}      False   \n",
       "1  {'url': {'urls': [{'url': 'http://t.co/ppmjue4...      False   \n",
       "\n",
       "   followers_count  ...  default_profile  default_profile_image following  \\\n",
       "0              152  ...             True                  False     False   \n",
       "1              354  ...            False                  False     False   \n",
       "\n",
       "   live_following follow_request_sent notifications  muting  blocking  \\\n",
       "0           False               False         False   False     False   \n",
       "1           False               False         False   False     False   \n",
       "\n",
       "   blocked_by translator_type  \n",
       "0       False            none  \n",
       "1       False            none  \n",
       "\n",
       "[2 rows x 47 columns]"
      ]
     },
     "execution_count": 6,
     "metadata": {},
     "output_type": "execute_result"
    }
   ],
   "source": [
    "import pandas as pd\n",
    "\n",
    "pd.DataFrame([follower._json for follower in followers])"
   ]
  },
  {
   "cell_type": "code",
   "execution_count": 9,
   "metadata": {},
   "outputs": [
    {
     "data": {
      "text/html": [
       "<div>\n",
       "<style scoped>\n",
       "    .dataframe tbody tr th:only-of-type {\n",
       "        vertical-align: middle;\n",
       "    }\n",
       "\n",
       "    .dataframe tbody tr th {\n",
       "        vertical-align: top;\n",
       "    }\n",
       "\n",
       "    .dataframe thead th {\n",
       "        text-align: right;\n",
       "    }\n",
       "</style>\n",
       "<table border=\"1\" class=\"dataframe\">\n",
       "  <thead>\n",
       "    <tr style=\"text-align: right;\">\n",
       "      <th></th>\n",
       "      <th>id</th>\n",
       "      <th>id_str</th>\n",
       "      <th>name</th>\n",
       "      <th>screen_name</th>\n",
       "      <th>location</th>\n",
       "      <th>description</th>\n",
       "      <th>url</th>\n",
       "      <th>entities</th>\n",
       "      <th>protected</th>\n",
       "      <th>followers_count</th>\n",
       "      <th>...</th>\n",
       "      <th>default_profile</th>\n",
       "      <th>default_profile_image</th>\n",
       "      <th>following</th>\n",
       "      <th>live_following</th>\n",
       "      <th>follow_request_sent</th>\n",
       "      <th>notifications</th>\n",
       "      <th>muting</th>\n",
       "      <th>blocking</th>\n",
       "      <th>blocked_by</th>\n",
       "      <th>translator_type</th>\n",
       "    </tr>\n",
       "  </thead>\n",
       "  <tbody>\n",
       "    <tr>\n",
       "      <th>0</th>\n",
       "      <td>196305307</td>\n",
       "      <td>196305307</td>\n",
       "      <td>Sandra Rosa González</td>\n",
       "      <td>sandrarketing</td>\n",
       "      <td>Madrid, Spain</td>\n",
       "      <td></td>\n",
       "      <td>https://t.co/doS9rAxC3K</td>\n",
       "      <td>{'url': {'urls': [{'url': 'https://t.co/doS9rA...</td>\n",
       "      <td>False</td>\n",
       "      <td>235</td>\n",
       "      <td>...</td>\n",
       "      <td>False</td>\n",
       "      <td>False</td>\n",
       "      <td>False</td>\n",
       "      <td>False</td>\n",
       "      <td>False</td>\n",
       "      <td>False</td>\n",
       "      <td>False</td>\n",
       "      <td>False</td>\n",
       "      <td>False</td>\n",
       "      <td>none</td>\n",
       "    </tr>\n",
       "    <tr>\n",
       "      <th>1</th>\n",
       "      <td>1218183015127322625</td>\n",
       "      <td>1218183015127322625</td>\n",
       "      <td>Ashwin Adrian Kallor</td>\n",
       "      <td>AdrianKallor</td>\n",
       "      <td>Bangalore, India</td>\n",
       "      <td>Aspiring bioinformatics/data science specialis...</td>\n",
       "      <td>None</td>\n",
       "      <td>{'description': {'urls': []}}</td>\n",
       "      <td>False</td>\n",
       "      <td>27</td>\n",
       "      <td>...</td>\n",
       "      <td>True</td>\n",
       "      <td>False</td>\n",
       "      <td>False</td>\n",
       "      <td>False</td>\n",
       "      <td>False</td>\n",
       "      <td>False</td>\n",
       "      <td>False</td>\n",
       "      <td>False</td>\n",
       "      <td>False</td>\n",
       "      <td>none</td>\n",
       "    </tr>\n",
       "    <tr>\n",
       "      <th>2</th>\n",
       "      <td>554335345</td>\n",
       "      <td>554335345</td>\n",
       "      <td>jorgeusxiv</td>\n",
       "      <td>jorgeusxiv</td>\n",
       "      <td></td>\n",
       "      <td>un segundo jose</td>\n",
       "      <td>None</td>\n",
       "      <td>{'description': {'urls': []}}</td>\n",
       "      <td>False</td>\n",
       "      <td>275</td>\n",
       "      <td>...</td>\n",
       "      <td>False</td>\n",
       "      <td>False</td>\n",
       "      <td>False</td>\n",
       "      <td>False</td>\n",
       "      <td>False</td>\n",
       "      <td>False</td>\n",
       "      <td>False</td>\n",
       "      <td>False</td>\n",
       "      <td>False</td>\n",
       "      <td>none</td>\n",
       "    </tr>\n",
       "    <tr>\n",
       "      <th>3</th>\n",
       "      <td>16512007</td>\n",
       "      <td>16512007</td>\n",
       "      <td>JM</td>\n",
       "      <td>jmnavarro</td>\n",
       "      <td>Madrid</td>\n",
       "      <td>Padre² − Marido¹ − escribiendo el código de mi...</td>\n",
       "      <td>https://t.co/yWLeAk6taO</td>\n",
       "      <td>{'url': {'urls': [{'url': 'https://t.co/yWLeAk...</td>\n",
       "      <td>False</td>\n",
       "      <td>1302</td>\n",
       "      <td>...</td>\n",
       "      <td>False</td>\n",
       "      <td>False</td>\n",
       "      <td>False</td>\n",
       "      <td>False</td>\n",
       "      <td>False</td>\n",
       "      <td>False</td>\n",
       "      <td>False</td>\n",
       "      <td>False</td>\n",
       "      <td>False</td>\n",
       "      <td>none</td>\n",
       "    </tr>\n",
       "    <tr>\n",
       "      <th>4</th>\n",
       "      <td>2699889925</td>\n",
       "      <td>2699889925</td>\n",
       "      <td>Manuel López Sheriff</td>\n",
       "      <td>sheriffff0</td>\n",
       "      <td>Madrid, Comunidad de Madrid</td>\n",
       "      <td></td>\n",
       "      <td>None</td>\n",
       "      <td>{'description': {'urls': []}}</td>\n",
       "      <td>False</td>\n",
       "      <td>18</td>\n",
       "      <td>...</td>\n",
       "      <td>True</td>\n",
       "      <td>False</td>\n",
       "      <td>False</td>\n",
       "      <td>False</td>\n",
       "      <td>False</td>\n",
       "      <td>False</td>\n",
       "      <td>False</td>\n",
       "      <td>False</td>\n",
       "      <td>False</td>\n",
       "      <td>none</td>\n",
       "    </tr>\n",
       "  </tbody>\n",
       "</table>\n",
       "<p>5 rows × 47 columns</p>\n",
       "</div>"
      ],
      "text/plain": [
       "                    id               id_str                  name  \\\n",
       "0            196305307            196305307  Sandra Rosa González   \n",
       "1  1218183015127322625  1218183015127322625  Ashwin Adrian Kallor   \n",
       "2            554335345            554335345            jorgeusxiv   \n",
       "3             16512007             16512007                    JM   \n",
       "4           2699889925           2699889925  Manuel López Sheriff   \n",
       "\n",
       "     screen_name                     location  \\\n",
       "0  sandrarketing                Madrid, Spain   \n",
       "1   AdrianKallor             Bangalore, India   \n",
       "2     jorgeusxiv                                \n",
       "3      jmnavarro                       Madrid   \n",
       "4     sheriffff0  Madrid, Comunidad de Madrid   \n",
       "\n",
       "                                         description                      url  \\\n",
       "0                                                     https://t.co/doS9rAxC3K   \n",
       "1  Aspiring bioinformatics/data science specialis...                     None   \n",
       "2                                    un segundo jose                     None   \n",
       "3  Padre² − Marido¹ − escribiendo el código de mi...  https://t.co/yWLeAk6taO   \n",
       "4                                                                        None   \n",
       "\n",
       "                                            entities  protected  \\\n",
       "0  {'url': {'urls': [{'url': 'https://t.co/doS9rA...      False   \n",
       "1                      {'description': {'urls': []}}      False   \n",
       "2                      {'description': {'urls': []}}      False   \n",
       "3  {'url': {'urls': [{'url': 'https://t.co/yWLeAk...      False   \n",
       "4                      {'description': {'urls': []}}      False   \n",
       "\n",
       "   followers_count  ...  default_profile  default_profile_image following  \\\n",
       "0              235  ...            False                  False     False   \n",
       "1               27  ...             True                  False     False   \n",
       "2              275  ...            False                  False     False   \n",
       "3             1302  ...            False                  False     False   \n",
       "4               18  ...             True                  False     False   \n",
       "\n",
       "   live_following follow_request_sent notifications  muting  blocking  \\\n",
       "0           False               False         False   False     False   \n",
       "1           False               False         False   False     False   \n",
       "2           False               False         False   False     False   \n",
       "3           False               False         False   False     False   \n",
       "4           False               False         False   False     False   \n",
       "\n",
       "   blocked_by translator_type  \n",
       "0       False            none  \n",
       "1       False            none  \n",
       "2       False            none  \n",
       "3       False            none  \n",
       "4       False            none  \n",
       "\n",
       "[5 rows x 47 columns]"
      ]
     },
     "execution_count": 9,
     "metadata": {},
     "output_type": "execute_result"
    }
   ],
   "source": [
    "def get_followers(user, count=5):\n",
    "    followers = [follower._json for follower in api.followers(user, count=count)]\n",
    "    return pd.DataFrame(followers)\n",
    "\n",
    "\n",
    "df_followers = get_followers('@datatau_net')\n",
    "df_followers.head()"
   ]
  },
  {
   "cell_type": "code",
   "execution_count": 10,
   "metadata": {},
   "outputs": [
    {
     "data": {
      "text/html": [
       "<div>\n",
       "<style scoped>\n",
       "    .dataframe tbody tr th:only-of-type {\n",
       "        vertical-align: middle;\n",
       "    }\n",
       "\n",
       "    .dataframe tbody tr th {\n",
       "        vertical-align: top;\n",
       "    }\n",
       "\n",
       "    .dataframe thead th {\n",
       "        text-align: right;\n",
       "    }\n",
       "</style>\n",
       "<table border=\"1\" class=\"dataframe\">\n",
       "  <thead>\n",
       "    <tr style=\"text-align: right;\">\n",
       "      <th></th>\n",
       "      <th>id</th>\n",
       "      <th>id_str</th>\n",
       "      <th>name</th>\n",
       "      <th>screen_name</th>\n",
       "      <th>location</th>\n",
       "      <th>description</th>\n",
       "      <th>url</th>\n",
       "      <th>protected</th>\n",
       "      <th>followers_count</th>\n",
       "      <th>friends_count</th>\n",
       "      <th>...</th>\n",
       "      <th>status.retweeted_status.coordinates</th>\n",
       "      <th>status.retweeted_status.place</th>\n",
       "      <th>status.retweeted_status.contributors</th>\n",
       "      <th>status.retweeted_status.is_quote_status</th>\n",
       "      <th>status.retweeted_status.retweet_count</th>\n",
       "      <th>status.retweeted_status.favorite_count</th>\n",
       "      <th>status.retweeted_status.favorited</th>\n",
       "      <th>status.retweeted_status.retweeted</th>\n",
       "      <th>status.retweeted_status.possibly_sensitive</th>\n",
       "      <th>status.retweeted_status.lang</th>\n",
       "    </tr>\n",
       "  </thead>\n",
       "  <tbody>\n",
       "    <tr>\n",
       "      <th>0</th>\n",
       "      <td>1247076625868619776</td>\n",
       "      <td>1247076625868619776</td>\n",
       "      <td>Data For Hope</td>\n",
       "      <td>DataForHope</td>\n",
       "      <td></td>\n",
       "      <td>Data for Hope es una apuesta por pensar en sol...</td>\n",
       "      <td>None</td>\n",
       "      <td>False</td>\n",
       "      <td>152</td>\n",
       "      <td>218</td>\n",
       "      <td>...</td>\n",
       "      <td>NaN</td>\n",
       "      <td>NaN</td>\n",
       "      <td>NaN</td>\n",
       "      <td>NaN</td>\n",
       "      <td>NaN</td>\n",
       "      <td>NaN</td>\n",
       "      <td>NaN</td>\n",
       "      <td>NaN</td>\n",
       "      <td>NaN</td>\n",
       "      <td>NaN</td>\n",
       "    </tr>\n",
       "    <tr>\n",
       "      <th>1</th>\n",
       "      <td>50277061</td>\n",
       "      <td>50277061</td>\n",
       "      <td>juan gerardo muros</td>\n",
       "      <td>juangerardoheli</td>\n",
       "      <td>Madrid</td>\n",
       "      <td>One Cosmos ...One Brain !</td>\n",
       "      <td>http://t.co/ppmjue49C2</td>\n",
       "      <td>False</td>\n",
       "      <td>354</td>\n",
       "      <td>333</td>\n",
       "      <td>...</td>\n",
       "      <td>NaN</td>\n",
       "      <td>NaN</td>\n",
       "      <td>NaN</td>\n",
       "      <td>False</td>\n",
       "      <td>2.0</td>\n",
       "      <td>6.0</td>\n",
       "      <td>False</td>\n",
       "      <td>False</td>\n",
       "      <td>False</td>\n",
       "      <td>es</td>\n",
       "    </tr>\n",
       "  </tbody>\n",
       "</table>\n",
       "<p>2 rows × 99 columns</p>\n",
       "</div>"
      ],
      "text/plain": [
       "                    id               id_str                name  \\\n",
       "0  1247076625868619776  1247076625868619776       Data For Hope   \n",
       "1             50277061             50277061  juan gerardo muros   \n",
       "\n",
       "       screen_name location  \\\n",
       "0      DataForHope            \n",
       "1  juangerardoheli   Madrid   \n",
       "\n",
       "                                         description                     url  \\\n",
       "0  Data for Hope es una apuesta por pensar en sol...                    None   \n",
       "1                          One Cosmos ...One Brain !  http://t.co/ppmjue49C2   \n",
       "\n",
       "   protected  followers_count  friends_count  ...  \\\n",
       "0      False              152            218  ...   \n",
       "1      False              354            333  ...   \n",
       "\n",
       "   status.retweeted_status.coordinates status.retweeted_status.place  \\\n",
       "0                                  NaN                           NaN   \n",
       "1                                  NaN                           NaN   \n",
       "\n",
       "   status.retweeted_status.contributors  \\\n",
       "0                                   NaN   \n",
       "1                                   NaN   \n",
       "\n",
       "  status.retweeted_status.is_quote_status  \\\n",
       "0                                     NaN   \n",
       "1                                   False   \n",
       "\n",
       "  status.retweeted_status.retweet_count  \\\n",
       "0                                   NaN   \n",
       "1                                   2.0   \n",
       "\n",
       "   status.retweeted_status.favorite_count  status.retweeted_status.favorited  \\\n",
       "0                                     NaN                                NaN   \n",
       "1                                     6.0                              False   \n",
       "\n",
       "   status.retweeted_status.retweeted  \\\n",
       "0                                NaN   \n",
       "1                              False   \n",
       "\n",
       "  status.retweeted_status.possibly_sensitive  status.retweeted_status.lang  \n",
       "0                                        NaN                           NaN  \n",
       "1                                      False                            es  \n",
       "\n",
       "[2 rows x 99 columns]"
      ]
     },
     "execution_count": 10,
     "metadata": {},
     "output_type": "execute_result"
    }
   ],
   "source": [
    "json_response = [follower._json for follower in followers]\n",
    "df_flattened = pd.json_normalize(json_response)\n",
    "\n",
    "df_flattened"
   ]
  },
  {
   "cell_type": "markdown",
   "metadata": {},
   "source": [
    "## 2. Do actions"
   ]
  },
  {
   "cell_type": "code",
   "execution_count": 11,
   "metadata": {},
   "outputs": [
    {
     "data": {
      "text/plain": [
       "<tweepy.cursor.ItemIterator at 0x7f81090bfcd0>"
      ]
     },
     "execution_count": 11,
     "metadata": {},
     "output_type": "execute_result"
    }
   ],
   "source": [
    "tweepy.Cursor(api.user_timeline,\n",
    "              screen_name='@pedro_munoz_',\n",
    "              tweet_mode='extended',\n",
    "              exclude_replies=True).items(5)"
   ]
  },
  {
   "cell_type": "code",
   "execution_count": 12,
   "metadata": {},
   "outputs": [],
   "source": [
    "tweets = [tweet for tweet in tweepy.Cursor(api.user_timeline,\n",
    "                                           screen_name='@dcanones',\n",
    "                                           tweet_mode='extended',\n",
    "                                           exclude_replies=True).items(5)]"
   ]
  },
  {
   "cell_type": "code",
   "execution_count": 13,
   "metadata": {},
   "outputs": [
    {
     "data": {
      "text/plain": [
       "Status(_api=<tweepy.api.API object at 0x7f81303ec090>, _json={'created_at': 'Wed Jun 17 10:00:04 +0000 2020', 'id': 1273193686059356160, 'id_str': '1273193686059356160', 'full_text': 'RT @datatau_net: How to build fair ML models?: https://t.co/Z9Ntj5CYGb', 'truncated': False, 'display_text_range': [0, 70], 'entities': {'hashtags': [], 'symbols': [], 'user_mentions': [{'screen_name': 'datatau_net', 'name': 'DataTau', 'id': 1143776901472882689, 'id_str': '1143776901472882689', 'indices': [3, 15]}], 'urls': [{'url': 'https://t.co/Z9Ntj5CYGb', 'expanded_url': 'https://datatau.net/post/2094', 'display_url': 'datatau.net/post/2094', 'indices': [47, 70]}]}, 'source': '<a href=\"http://dcanones.github.io/\" rel=\"nofollow\">DACC\\'s DS Twitter Assignment</a>', 'in_reply_to_status_id': None, 'in_reply_to_status_id_str': None, 'in_reply_to_user_id': None, 'in_reply_to_user_id_str': None, 'in_reply_to_screen_name': None, 'user': {'id': 475600344, 'id_str': '475600344', 'name': 'David Adrián Cañones', 'screen_name': 'dcanones', 'location': 'Madrid, Spain', 'description': '🔬 Data Scientist | 🤖 Machine Learning Engineer | 💹 MBA | ✒️ Director of Data Science @whiteboxml', 'url': 'https://t.co/FPYtdj37uv', 'entities': {'url': {'urls': [{'url': 'https://t.co/FPYtdj37uv', 'expanded_url': 'https://davidadrian.cc', 'display_url': 'davidadrian.cc', 'indices': [0, 23]}]}, 'description': {'urls': []}}, 'protected': False, 'followers_count': 155, 'friends_count': 76, 'listed_count': 9, 'created_at': 'Fri Jan 27 07:17:15 +0000 2012', 'favourites_count': 513, 'utc_offset': None, 'time_zone': None, 'geo_enabled': True, 'verified': False, 'statuses_count': 648, 'lang': None, 'contributors_enabled': False, 'is_translator': False, 'is_translation_enabled': False, 'profile_background_color': 'C0DEED', 'profile_background_image_url': 'http://abs.twimg.com/images/themes/theme1/bg.png', 'profile_background_image_url_https': 'https://abs.twimg.com/images/themes/theme1/bg.png', 'profile_background_tile': False, 'profile_image_url': 'http://pbs.twimg.com/profile_images/1267398760230989824/BPxscaQc_normal.jpg', 'profile_image_url_https': 'https://pbs.twimg.com/profile_images/1267398760230989824/BPxscaQc_normal.jpg', 'profile_banner_url': 'https://pbs.twimg.com/profile_banners/475600344/1591007478', 'profile_link_color': '000000', 'profile_sidebar_border_color': 'FFFFFF', 'profile_sidebar_fill_color': 'DDEEF6', 'profile_text_color': '333333', 'profile_use_background_image': True, 'has_extended_profile': True, 'default_profile': False, 'default_profile_image': False, 'following': True, 'follow_request_sent': False, 'notifications': False, 'translator_type': 'none'}, 'geo': None, 'coordinates': None, 'place': None, 'contributors': None, 'retweeted_status': {'created_at': 'Wed Jun 17 10:00:02 +0000 2020', 'id': 1273193678945824768, 'id_str': '1273193678945824768', 'full_text': 'How to build fair ML models?: https://t.co/Z9Ntj5CYGb', 'truncated': False, 'display_text_range': [0, 53], 'entities': {'hashtags': [], 'symbols': [], 'user_mentions': [], 'urls': [{'url': 'https://t.co/Z9Ntj5CYGb', 'expanded_url': 'https://datatau.net/post/2094', 'display_url': 'datatau.net/post/2094', 'indices': [30, 53]}]}, 'source': '<a href=\"https://datatau.net\" rel=\"nofollow\">DataTau</a>', 'in_reply_to_status_id': None, 'in_reply_to_status_id_str': None, 'in_reply_to_user_id': None, 'in_reply_to_user_id_str': None, 'in_reply_to_screen_name': None, 'user': {'id': 1143776901472882689, 'id_str': '1143776901472882689', 'name': 'DataTau', 'screen_name': 'datatau_net', 'location': '', 'description': 'DataTau is the reference newsboard for Data Scientists and Data Engineers inspired by the popular Hacker News. Powered by @dcanones and @pedro_munoz_', 'url': None, 'entities': {'description': {'urls': []}}, 'protected': False, 'followers_count': 54, 'friends_count': 4, 'listed_count': 0, 'created_at': 'Wed Jun 26 07:03:58 +0000 2019', 'favourites_count': 2, 'utc_offset': None, 'time_zone': None, 'geo_enabled': False, 'verified': False, 'statuses_count': 252, 'lang': None, 'contributors_enabled': False, 'is_translator': False, 'is_translation_enabled': False, 'profile_background_color': 'F5F8FA', 'profile_background_image_url': None, 'profile_background_image_url_https': None, 'profile_background_tile': False, 'profile_image_url': 'http://pbs.twimg.com/profile_images/1266406893020471298/5H8y_Fa0_normal.png', 'profile_image_url_https': 'https://pbs.twimg.com/profile_images/1266406893020471298/5H8y_Fa0_normal.png', 'profile_banner_url': 'https://pbs.twimg.com/profile_banners/1143776901472882689/1590770229', 'profile_link_color': '1DA1F2', 'profile_sidebar_border_color': 'C0DEED', 'profile_sidebar_fill_color': 'DDEEF6', 'profile_text_color': '333333', 'profile_use_background_image': True, 'has_extended_profile': False, 'default_profile': True, 'default_profile_image': False, 'following': False, 'follow_request_sent': False, 'notifications': False, 'translator_type': 'none'}, 'geo': None, 'coordinates': None, 'place': None, 'contributors': None, 'is_quote_status': False, 'retweet_count': 3, 'favorite_count': 4, 'favorited': False, 'retweeted': False, 'possibly_sensitive': False, 'lang': 'en'}, 'is_quote_status': False, 'retweet_count': 3, 'favorite_count': 0, 'favorited': False, 'retweeted': False, 'possibly_sensitive': False, 'lang': 'en'}, created_at=datetime.datetime(2020, 6, 17, 10, 0, 4), id=1273193686059356160, id_str='1273193686059356160', full_text='RT @datatau_net: How to build fair ML models?: https://t.co/Z9Ntj5CYGb', truncated=False, display_text_range=[0, 70], entities={'hashtags': [], 'symbols': [], 'user_mentions': [{'screen_name': 'datatau_net', 'name': 'DataTau', 'id': 1143776901472882689, 'id_str': '1143776901472882689', 'indices': [3, 15]}], 'urls': [{'url': 'https://t.co/Z9Ntj5CYGb', 'expanded_url': 'https://datatau.net/post/2094', 'display_url': 'datatau.net/post/2094', 'indices': [47, 70]}]}, source=\"DACC's DS Twitter Assignment\", source_url='http://dcanones.github.io/', in_reply_to_status_id=None, in_reply_to_status_id_str=None, in_reply_to_user_id=None, in_reply_to_user_id_str=None, in_reply_to_screen_name=None, author=User(_api=<tweepy.api.API object at 0x7f81303ec090>, _json={'id': 475600344, 'id_str': '475600344', 'name': 'David Adrián Cañones', 'screen_name': 'dcanones', 'location': 'Madrid, Spain', 'description': '🔬 Data Scientist | 🤖 Machine Learning Engineer | 💹 MBA | ✒️ Director of Data Science @whiteboxml', 'url': 'https://t.co/FPYtdj37uv', 'entities': {'url': {'urls': [{'url': 'https://t.co/FPYtdj37uv', 'expanded_url': 'https://davidadrian.cc', 'display_url': 'davidadrian.cc', 'indices': [0, 23]}]}, 'description': {'urls': []}}, 'protected': False, 'followers_count': 155, 'friends_count': 76, 'listed_count': 9, 'created_at': 'Fri Jan 27 07:17:15 +0000 2012', 'favourites_count': 513, 'utc_offset': None, 'time_zone': None, 'geo_enabled': True, 'verified': False, 'statuses_count': 648, 'lang': None, 'contributors_enabled': False, 'is_translator': False, 'is_translation_enabled': False, 'profile_background_color': 'C0DEED', 'profile_background_image_url': 'http://abs.twimg.com/images/themes/theme1/bg.png', 'profile_background_image_url_https': 'https://abs.twimg.com/images/themes/theme1/bg.png', 'profile_background_tile': False, 'profile_image_url': 'http://pbs.twimg.com/profile_images/1267398760230989824/BPxscaQc_normal.jpg', 'profile_image_url_https': 'https://pbs.twimg.com/profile_images/1267398760230989824/BPxscaQc_normal.jpg', 'profile_banner_url': 'https://pbs.twimg.com/profile_banners/475600344/1591007478', 'profile_link_color': '000000', 'profile_sidebar_border_color': 'FFFFFF', 'profile_sidebar_fill_color': 'DDEEF6', 'profile_text_color': '333333', 'profile_use_background_image': True, 'has_extended_profile': True, 'default_profile': False, 'default_profile_image': False, 'following': True, 'follow_request_sent': False, 'notifications': False, 'translator_type': 'none'}, id=475600344, id_str='475600344', name='David Adrián Cañones', screen_name='dcanones', location='Madrid, Spain', description='🔬 Data Scientist | 🤖 Machine Learning Engineer | 💹 MBA | ✒️ Director of Data Science @whiteboxml', url='https://t.co/FPYtdj37uv', entities={'url': {'urls': [{'url': 'https://t.co/FPYtdj37uv', 'expanded_url': 'https://davidadrian.cc', 'display_url': 'davidadrian.cc', 'indices': [0, 23]}]}, 'description': {'urls': []}}, protected=False, followers_count=155, friends_count=76, listed_count=9, created_at=datetime.datetime(2012, 1, 27, 7, 17, 15), favourites_count=513, utc_offset=None, time_zone=None, geo_enabled=True, verified=False, statuses_count=648, lang=None, contributors_enabled=False, is_translator=False, is_translation_enabled=False, profile_background_color='C0DEED', profile_background_image_url='http://abs.twimg.com/images/themes/theme1/bg.png', profile_background_image_url_https='https://abs.twimg.com/images/themes/theme1/bg.png', profile_background_tile=False, profile_image_url='http://pbs.twimg.com/profile_images/1267398760230989824/BPxscaQc_normal.jpg', profile_image_url_https='https://pbs.twimg.com/profile_images/1267398760230989824/BPxscaQc_normal.jpg', profile_banner_url='https://pbs.twimg.com/profile_banners/475600344/1591007478', profile_link_color='000000', profile_sidebar_border_color='FFFFFF', profile_sidebar_fill_color='DDEEF6', profile_text_color='333333', profile_use_background_image=True, has_extended_profile=True, default_profile=False, default_profile_image=False, following=True, follow_request_sent=False, notifications=False, translator_type='none'), user=User(_api=<tweepy.api.API object at 0x7f81303ec090>, _json={'id': 475600344, 'id_str': '475600344', 'name': 'David Adrián Cañones', 'screen_name': 'dcanones', 'location': 'Madrid, Spain', 'description': '🔬 Data Scientist | 🤖 Machine Learning Engineer | 💹 MBA | ✒️ Director of Data Science @whiteboxml', 'url': 'https://t.co/FPYtdj37uv', 'entities': {'url': {'urls': [{'url': 'https://t.co/FPYtdj37uv', 'expanded_url': 'https://davidadrian.cc', 'display_url': 'davidadrian.cc', 'indices': [0, 23]}]}, 'description': {'urls': []}}, 'protected': False, 'followers_count': 155, 'friends_count': 76, 'listed_count': 9, 'created_at': 'Fri Jan 27 07:17:15 +0000 2012', 'favourites_count': 513, 'utc_offset': None, 'time_zone': None, 'geo_enabled': True, 'verified': False, 'statuses_count': 648, 'lang': None, 'contributors_enabled': False, 'is_translator': False, 'is_translation_enabled': False, 'profile_background_color': 'C0DEED', 'profile_background_image_url': 'http://abs.twimg.com/images/themes/theme1/bg.png', 'profile_background_image_url_https': 'https://abs.twimg.com/images/themes/theme1/bg.png', 'profile_background_tile': False, 'profile_image_url': 'http://pbs.twimg.com/profile_images/1267398760230989824/BPxscaQc_normal.jpg', 'profile_image_url_https': 'https://pbs.twimg.com/profile_images/1267398760230989824/BPxscaQc_normal.jpg', 'profile_banner_url': 'https://pbs.twimg.com/profile_banners/475600344/1591007478', 'profile_link_color': '000000', 'profile_sidebar_border_color': 'FFFFFF', 'profile_sidebar_fill_color': 'DDEEF6', 'profile_text_color': '333333', 'profile_use_background_image': True, 'has_extended_profile': True, 'default_profile': False, 'default_profile_image': False, 'following': True, 'follow_request_sent': False, 'notifications': False, 'translator_type': 'none'}, id=475600344, id_str='475600344', name='David Adrián Cañones', screen_name='dcanones', location='Madrid, Spain', description='🔬 Data Scientist | 🤖 Machine Learning Engineer | 💹 MBA | ✒️ Director of Data Science @whiteboxml', url='https://t.co/FPYtdj37uv', entities={'url': {'urls': [{'url': 'https://t.co/FPYtdj37uv', 'expanded_url': 'https://davidadrian.cc', 'display_url': 'davidadrian.cc', 'indices': [0, 23]}]}, 'description': {'urls': []}}, protected=False, followers_count=155, friends_count=76, listed_count=9, created_at=datetime.datetime(2012, 1, 27, 7, 17, 15), favourites_count=513, utc_offset=None, time_zone=None, geo_enabled=True, verified=False, statuses_count=648, lang=None, contributors_enabled=False, is_translator=False, is_translation_enabled=False, profile_background_color='C0DEED', profile_background_image_url='http://abs.twimg.com/images/themes/theme1/bg.png', profile_background_image_url_https='https://abs.twimg.com/images/themes/theme1/bg.png', profile_background_tile=False, profile_image_url='http://pbs.twimg.com/profile_images/1267398760230989824/BPxscaQc_normal.jpg', profile_image_url_https='https://pbs.twimg.com/profile_images/1267398760230989824/BPxscaQc_normal.jpg', profile_banner_url='https://pbs.twimg.com/profile_banners/475600344/1591007478', profile_link_color='000000', profile_sidebar_border_color='FFFFFF', profile_sidebar_fill_color='DDEEF6', profile_text_color='333333', profile_use_background_image=True, has_extended_profile=True, default_profile=False, default_profile_image=False, following=True, follow_request_sent=False, notifications=False, translator_type='none'), geo=None, coordinates=None, place=None, contributors=None, retweeted_status=Status(_api=<tweepy.api.API object at 0x7f81303ec090>, _json={'created_at': 'Wed Jun 17 10:00:02 +0000 2020', 'id': 1273193678945824768, 'id_str': '1273193678945824768', 'full_text': 'How to build fair ML models?: https://t.co/Z9Ntj5CYGb', 'truncated': False, 'display_text_range': [0, 53], 'entities': {'hashtags': [], 'symbols': [], 'user_mentions': [], 'urls': [{'url': 'https://t.co/Z9Ntj5CYGb', 'expanded_url': 'https://datatau.net/post/2094', 'display_url': 'datatau.net/post/2094', 'indices': [30, 53]}]}, 'source': '<a href=\"https://datatau.net\" rel=\"nofollow\">DataTau</a>', 'in_reply_to_status_id': None, 'in_reply_to_status_id_str': None, 'in_reply_to_user_id': None, 'in_reply_to_user_id_str': None, 'in_reply_to_screen_name': None, 'user': {'id': 1143776901472882689, 'id_str': '1143776901472882689', 'name': 'DataTau', 'screen_name': 'datatau_net', 'location': '', 'description': 'DataTau is the reference newsboard for Data Scientists and Data Engineers inspired by the popular Hacker News. Powered by @dcanones and @pedro_munoz_', 'url': None, 'entities': {'description': {'urls': []}}, 'protected': False, 'followers_count': 54, 'friends_count': 4, 'listed_count': 0, 'created_at': 'Wed Jun 26 07:03:58 +0000 2019', 'favourites_count': 2, 'utc_offset': None, 'time_zone': None, 'geo_enabled': False, 'verified': False, 'statuses_count': 252, 'lang': None, 'contributors_enabled': False, 'is_translator': False, 'is_translation_enabled': False, 'profile_background_color': 'F5F8FA', 'profile_background_image_url': None, 'profile_background_image_url_https': None, 'profile_background_tile': False, 'profile_image_url': 'http://pbs.twimg.com/profile_images/1266406893020471298/5H8y_Fa0_normal.png', 'profile_image_url_https': 'https://pbs.twimg.com/profile_images/1266406893020471298/5H8y_Fa0_normal.png', 'profile_banner_url': 'https://pbs.twimg.com/profile_banners/1143776901472882689/1590770229', 'profile_link_color': '1DA1F2', 'profile_sidebar_border_color': 'C0DEED', 'profile_sidebar_fill_color': 'DDEEF6', 'profile_text_color': '333333', 'profile_use_background_image': True, 'has_extended_profile': False, 'default_profile': True, 'default_profile_image': False, 'following': False, 'follow_request_sent': False, 'notifications': False, 'translator_type': 'none'}, 'geo': None, 'coordinates': None, 'place': None, 'contributors': None, 'is_quote_status': False, 'retweet_count': 3, 'favorite_count': 4, 'favorited': False, 'retweeted': False, 'possibly_sensitive': False, 'lang': 'en'}, created_at=datetime.datetime(2020, 6, 17, 10, 0, 2), id=1273193678945824768, id_str='1273193678945824768', full_text='How to build fair ML models?: https://t.co/Z9Ntj5CYGb', truncated=False, display_text_range=[0, 53], entities={'hashtags': [], 'symbols': [], 'user_mentions': [], 'urls': [{'url': 'https://t.co/Z9Ntj5CYGb', 'expanded_url': 'https://datatau.net/post/2094', 'display_url': 'datatau.net/post/2094', 'indices': [30, 53]}]}, source='DataTau', source_url='https://datatau.net', in_reply_to_status_id=None, in_reply_to_status_id_str=None, in_reply_to_user_id=None, in_reply_to_user_id_str=None, in_reply_to_screen_name=None, author=User(_api=<tweepy.api.API object at 0x7f81303ec090>, _json={'id': 1143776901472882689, 'id_str': '1143776901472882689', 'name': 'DataTau', 'screen_name': 'datatau_net', 'location': '', 'description': 'DataTau is the reference newsboard for Data Scientists and Data Engineers inspired by the popular Hacker News. Powered by @dcanones and @pedro_munoz_', 'url': None, 'entities': {'description': {'urls': []}}, 'protected': False, 'followers_count': 54, 'friends_count': 4, 'listed_count': 0, 'created_at': 'Wed Jun 26 07:03:58 +0000 2019', 'favourites_count': 2, 'utc_offset': None, 'time_zone': None, 'geo_enabled': False, 'verified': False, 'statuses_count': 252, 'lang': None, 'contributors_enabled': False, 'is_translator': False, 'is_translation_enabled': False, 'profile_background_color': 'F5F8FA', 'profile_background_image_url': None, 'profile_background_image_url_https': None, 'profile_background_tile': False, 'profile_image_url': 'http://pbs.twimg.com/profile_images/1266406893020471298/5H8y_Fa0_normal.png', 'profile_image_url_https': 'https://pbs.twimg.com/profile_images/1266406893020471298/5H8y_Fa0_normal.png', 'profile_banner_url': 'https://pbs.twimg.com/profile_banners/1143776901472882689/1590770229', 'profile_link_color': '1DA1F2', 'profile_sidebar_border_color': 'C0DEED', 'profile_sidebar_fill_color': 'DDEEF6', 'profile_text_color': '333333', 'profile_use_background_image': True, 'has_extended_profile': False, 'default_profile': True, 'default_profile_image': False, 'following': False, 'follow_request_sent': False, 'notifications': False, 'translator_type': 'none'}, id=1143776901472882689, id_str='1143776901472882689', name='DataTau', screen_name='datatau_net', location='', description='DataTau is the reference newsboard for Data Scientists and Data Engineers inspired by the popular Hacker News. Powered by @dcanones and @pedro_munoz_', url=None, entities={'description': {'urls': []}}, protected=False, followers_count=54, friends_count=4, listed_count=0, created_at=datetime.datetime(2019, 6, 26, 7, 3, 58), favourites_count=2, utc_offset=None, time_zone=None, geo_enabled=False, verified=False, statuses_count=252, lang=None, contributors_enabled=False, is_translator=False, is_translation_enabled=False, profile_background_color='F5F8FA', profile_background_image_url=None, profile_background_image_url_https=None, profile_background_tile=False, profile_image_url='http://pbs.twimg.com/profile_images/1266406893020471298/5H8y_Fa0_normal.png', profile_image_url_https='https://pbs.twimg.com/profile_images/1266406893020471298/5H8y_Fa0_normal.png', profile_banner_url='https://pbs.twimg.com/profile_banners/1143776901472882689/1590770229', profile_link_color='1DA1F2', profile_sidebar_border_color='C0DEED', profile_sidebar_fill_color='DDEEF6', profile_text_color='333333', profile_use_background_image=True, has_extended_profile=False, default_profile=True, default_profile_image=False, following=False, follow_request_sent=False, notifications=False, translator_type='none'), user=User(_api=<tweepy.api.API object at 0x7f81303ec090>, _json={'id': 1143776901472882689, 'id_str': '1143776901472882689', 'name': 'DataTau', 'screen_name': 'datatau_net', 'location': '', 'description': 'DataTau is the reference newsboard for Data Scientists and Data Engineers inspired by the popular Hacker News. Powered by @dcanones and @pedro_munoz_', 'url': None, 'entities': {'description': {'urls': []}}, 'protected': False, 'followers_count': 54, 'friends_count': 4, 'listed_count': 0, 'created_at': 'Wed Jun 26 07:03:58 +0000 2019', 'favourites_count': 2, 'utc_offset': None, 'time_zone': None, 'geo_enabled': False, 'verified': False, 'statuses_count': 252, 'lang': None, 'contributors_enabled': False, 'is_translator': False, 'is_translation_enabled': False, 'profile_background_color': 'F5F8FA', 'profile_background_image_url': None, 'profile_background_image_url_https': None, 'profile_background_tile': False, 'profile_image_url': 'http://pbs.twimg.com/profile_images/1266406893020471298/5H8y_Fa0_normal.png', 'profile_image_url_https': 'https://pbs.twimg.com/profile_images/1266406893020471298/5H8y_Fa0_normal.png', 'profile_banner_url': 'https://pbs.twimg.com/profile_banners/1143776901472882689/1590770229', 'profile_link_color': '1DA1F2', 'profile_sidebar_border_color': 'C0DEED', 'profile_sidebar_fill_color': 'DDEEF6', 'profile_text_color': '333333', 'profile_use_background_image': True, 'has_extended_profile': False, 'default_profile': True, 'default_profile_image': False, 'following': False, 'follow_request_sent': False, 'notifications': False, 'translator_type': 'none'}, id=1143776901472882689, id_str='1143776901472882689', name='DataTau', screen_name='datatau_net', location='', description='DataTau is the reference newsboard for Data Scientists and Data Engineers inspired by the popular Hacker News. Powered by @dcanones and @pedro_munoz_', url=None, entities={'description': {'urls': []}}, protected=False, followers_count=54, friends_count=4, listed_count=0, created_at=datetime.datetime(2019, 6, 26, 7, 3, 58), favourites_count=2, utc_offset=None, time_zone=None, geo_enabled=False, verified=False, statuses_count=252, lang=None, contributors_enabled=False, is_translator=False, is_translation_enabled=False, profile_background_color='F5F8FA', profile_background_image_url=None, profile_background_image_url_https=None, profile_background_tile=False, profile_image_url='http://pbs.twimg.com/profile_images/1266406893020471298/5H8y_Fa0_normal.png', profile_image_url_https='https://pbs.twimg.com/profile_images/1266406893020471298/5H8y_Fa0_normal.png', profile_banner_url='https://pbs.twimg.com/profile_banners/1143776901472882689/1590770229', profile_link_color='1DA1F2', profile_sidebar_border_color='C0DEED', profile_sidebar_fill_color='DDEEF6', profile_text_color='333333', profile_use_background_image=True, has_extended_profile=False, default_profile=True, default_profile_image=False, following=False, follow_request_sent=False, notifications=False, translator_type='none'), geo=None, coordinates=None, place=None, contributors=None, is_quote_status=False, retweet_count=3, favorite_count=4, favorited=False, retweeted=False, possibly_sensitive=False, lang='en'), is_quote_status=False, retweet_count=3, favorite_count=0, favorited=False, retweeted=False, possibly_sensitive=False, lang='en')"
      ]
     },
     "execution_count": 13,
     "metadata": {},
     "output_type": "execute_result"
    }
   ],
   "source": [
    "tweets[0]"
   ]
  },
  {
   "cell_type": "code",
   "execution_count": 14,
   "metadata": {},
   "outputs": [
    {
     "data": {
      "text/plain": [
       "{'created_at': 'Wed Jun 17 10:00:04 +0000 2020',\n",
       " 'id': 1273193686059356160,\n",
       " 'id_str': '1273193686059356160',\n",
       " 'full_text': 'RT @datatau_net: How to build fair ML models?: https://t.co/Z9Ntj5CYGb',\n",
       " 'truncated': False,\n",
       " 'display_text_range': [0, 70],\n",
       " 'entities': {'hashtags': [],\n",
       "  'symbols': [],\n",
       "  'user_mentions': [{'screen_name': 'datatau_net',\n",
       "    'name': 'DataTau',\n",
       "    'id': 1143776901472882689,\n",
       "    'id_str': '1143776901472882689',\n",
       "    'indices': [3, 15]}],\n",
       "  'urls': [{'url': 'https://t.co/Z9Ntj5CYGb',\n",
       "    'expanded_url': 'https://datatau.net/post/2094',\n",
       "    'display_url': 'datatau.net/post/2094',\n",
       "    'indices': [47, 70]}]},\n",
       " 'source': '<a href=\"http://dcanones.github.io/\" rel=\"nofollow\">DACC\\'s DS Twitter Assignment</a>',\n",
       " 'in_reply_to_status_id': None,\n",
       " 'in_reply_to_status_id_str': None,\n",
       " 'in_reply_to_user_id': None,\n",
       " 'in_reply_to_user_id_str': None,\n",
       " 'in_reply_to_screen_name': None,\n",
       " 'user': {'id': 475600344,\n",
       "  'id_str': '475600344',\n",
       "  'name': 'David Adrián Cañones',\n",
       "  'screen_name': 'dcanones',\n",
       "  'location': 'Madrid, Spain',\n",
       "  'description': '🔬 Data Scientist | 🤖 Machine Learning Engineer | 💹 MBA | ✒️ Director of Data Science @whiteboxml',\n",
       "  'url': 'https://t.co/FPYtdj37uv',\n",
       "  'entities': {'url': {'urls': [{'url': 'https://t.co/FPYtdj37uv',\n",
       "      'expanded_url': 'https://davidadrian.cc',\n",
       "      'display_url': 'davidadrian.cc',\n",
       "      'indices': [0, 23]}]},\n",
       "   'description': {'urls': []}},\n",
       "  'protected': False,\n",
       "  'followers_count': 155,\n",
       "  'friends_count': 76,\n",
       "  'listed_count': 9,\n",
       "  'created_at': 'Fri Jan 27 07:17:15 +0000 2012',\n",
       "  'favourites_count': 513,\n",
       "  'utc_offset': None,\n",
       "  'time_zone': None,\n",
       "  'geo_enabled': True,\n",
       "  'verified': False,\n",
       "  'statuses_count': 648,\n",
       "  'lang': None,\n",
       "  'contributors_enabled': False,\n",
       "  'is_translator': False,\n",
       "  'is_translation_enabled': False,\n",
       "  'profile_background_color': 'C0DEED',\n",
       "  'profile_background_image_url': 'http://abs.twimg.com/images/themes/theme1/bg.png',\n",
       "  'profile_background_image_url_https': 'https://abs.twimg.com/images/themes/theme1/bg.png',\n",
       "  'profile_background_tile': False,\n",
       "  'profile_image_url': 'http://pbs.twimg.com/profile_images/1267398760230989824/BPxscaQc_normal.jpg',\n",
       "  'profile_image_url_https': 'https://pbs.twimg.com/profile_images/1267398760230989824/BPxscaQc_normal.jpg',\n",
       "  'profile_banner_url': 'https://pbs.twimg.com/profile_banners/475600344/1591007478',\n",
       "  'profile_link_color': '000000',\n",
       "  'profile_sidebar_border_color': 'FFFFFF',\n",
       "  'profile_sidebar_fill_color': 'DDEEF6',\n",
       "  'profile_text_color': '333333',\n",
       "  'profile_use_background_image': True,\n",
       "  'has_extended_profile': True,\n",
       "  'default_profile': False,\n",
       "  'default_profile_image': False,\n",
       "  'following': True,\n",
       "  'follow_request_sent': False,\n",
       "  'notifications': False,\n",
       "  'translator_type': 'none'},\n",
       " 'geo': None,\n",
       " 'coordinates': None,\n",
       " 'place': None,\n",
       " 'contributors': None,\n",
       " 'retweeted_status': {'created_at': 'Wed Jun 17 10:00:02 +0000 2020',\n",
       "  'id': 1273193678945824768,\n",
       "  'id_str': '1273193678945824768',\n",
       "  'full_text': 'How to build fair ML models?: https://t.co/Z9Ntj5CYGb',\n",
       "  'truncated': False,\n",
       "  'display_text_range': [0, 53],\n",
       "  'entities': {'hashtags': [],\n",
       "   'symbols': [],\n",
       "   'user_mentions': [],\n",
       "   'urls': [{'url': 'https://t.co/Z9Ntj5CYGb',\n",
       "     'expanded_url': 'https://datatau.net/post/2094',\n",
       "     'display_url': 'datatau.net/post/2094',\n",
       "     'indices': [30, 53]}]},\n",
       "  'source': '<a href=\"https://datatau.net\" rel=\"nofollow\">DataTau</a>',\n",
       "  'in_reply_to_status_id': None,\n",
       "  'in_reply_to_status_id_str': None,\n",
       "  'in_reply_to_user_id': None,\n",
       "  'in_reply_to_user_id_str': None,\n",
       "  'in_reply_to_screen_name': None,\n",
       "  'user': {'id': 1143776901472882689,\n",
       "   'id_str': '1143776901472882689',\n",
       "   'name': 'DataTau',\n",
       "   'screen_name': 'datatau_net',\n",
       "   'location': '',\n",
       "   'description': 'DataTau is the reference newsboard for Data Scientists and Data Engineers inspired by the popular Hacker News. Powered by @dcanones and @pedro_munoz_',\n",
       "   'url': None,\n",
       "   'entities': {'description': {'urls': []}},\n",
       "   'protected': False,\n",
       "   'followers_count': 54,\n",
       "   'friends_count': 4,\n",
       "   'listed_count': 0,\n",
       "   'created_at': 'Wed Jun 26 07:03:58 +0000 2019',\n",
       "   'favourites_count': 2,\n",
       "   'utc_offset': None,\n",
       "   'time_zone': None,\n",
       "   'geo_enabled': False,\n",
       "   'verified': False,\n",
       "   'statuses_count': 252,\n",
       "   'lang': None,\n",
       "   'contributors_enabled': False,\n",
       "   'is_translator': False,\n",
       "   'is_translation_enabled': False,\n",
       "   'profile_background_color': 'F5F8FA',\n",
       "   'profile_background_image_url': None,\n",
       "   'profile_background_image_url_https': None,\n",
       "   'profile_background_tile': False,\n",
       "   'profile_image_url': 'http://pbs.twimg.com/profile_images/1266406893020471298/5H8y_Fa0_normal.png',\n",
       "   'profile_image_url_https': 'https://pbs.twimg.com/profile_images/1266406893020471298/5H8y_Fa0_normal.png',\n",
       "   'profile_banner_url': 'https://pbs.twimg.com/profile_banners/1143776901472882689/1590770229',\n",
       "   'profile_link_color': '1DA1F2',\n",
       "   'profile_sidebar_border_color': 'C0DEED',\n",
       "   'profile_sidebar_fill_color': 'DDEEF6',\n",
       "   'profile_text_color': '333333',\n",
       "   'profile_use_background_image': True,\n",
       "   'has_extended_profile': False,\n",
       "   'default_profile': True,\n",
       "   'default_profile_image': False,\n",
       "   'following': False,\n",
       "   'follow_request_sent': False,\n",
       "   'notifications': False,\n",
       "   'translator_type': 'none'},\n",
       "  'geo': None,\n",
       "  'coordinates': None,\n",
       "  'place': None,\n",
       "  'contributors': None,\n",
       "  'is_quote_status': False,\n",
       "  'retweet_count': 3,\n",
       "  'favorite_count': 4,\n",
       "  'favorited': False,\n",
       "  'retweeted': False,\n",
       "  'possibly_sensitive': False,\n",
       "  'lang': 'en'},\n",
       " 'is_quote_status': False,\n",
       " 'retweet_count': 3,\n",
       " 'favorite_count': 0,\n",
       " 'favorited': False,\n",
       " 'retweeted': False,\n",
       " 'possibly_sensitive': False,\n",
       " 'lang': 'en'}"
      ]
     },
     "execution_count": 14,
     "metadata": {},
     "output_type": "execute_result"
    }
   ],
   "source": [
    "tweets[0]._json"
   ]
  },
  {
   "cell_type": "code",
   "execution_count": 15,
   "metadata": {},
   "outputs": [
    {
     "data": {
      "text/plain": [
       "'DataTau'"
      ]
     },
     "execution_count": 15,
     "metadata": {},
     "output_type": "execute_result"
    }
   ],
   "source": [
    "tweets[0]._json['entities']['user_mentions'][0]['name']"
   ]
  },
  {
   "cell_type": "code",
   "execution_count": 16,
   "metadata": {},
   "outputs": [
    {
     "data": {
      "text/plain": [
       "1273193686059356160"
      ]
     },
     "execution_count": 16,
     "metadata": {},
     "output_type": "execute_result"
    }
   ],
   "source": [
    "tweet_id = tweets[0]._json['id']\n",
    "\n",
    "tweet_id"
   ]
  },
  {
   "cell_type": "code",
   "execution_count": 17,
   "metadata": {},
   "outputs": [
    {
     "data": {
      "text/plain": [
       "Status(_api=<tweepy.api.API object at 0x7f81303ec090>, _json={'created_at': 'Wed Jun 17 10:00:04 +0000 2020', 'id': 1273193686059356160, 'id_str': '1273193686059356160', 'text': 'RT @datatau_net: How to build fair ML models?: https://t.co/Z9Ntj5CYGb', 'truncated': False, 'entities': {'hashtags': [], 'symbols': [], 'user_mentions': [{'screen_name': 'datatau_net', 'name': 'DataTau', 'id': 1143776901472882689, 'id_str': '1143776901472882689', 'indices': [3, 15]}], 'urls': [{'url': 'https://t.co/Z9Ntj5CYGb', 'expanded_url': 'https://datatau.net/post/2094', 'display_url': 'datatau.net/post/2094', 'indices': [47, 70]}]}, 'source': '<a href=\"http://dcanones.github.io/\" rel=\"nofollow\">DACC\\'s DS Twitter Assignment</a>', 'in_reply_to_status_id': None, 'in_reply_to_status_id_str': None, 'in_reply_to_user_id': None, 'in_reply_to_user_id_str': None, 'in_reply_to_screen_name': None, 'user': {'id': 475600344, 'id_str': '475600344', 'name': 'David Adrián Cañones', 'screen_name': 'dcanones', 'location': 'Madrid, Spain', 'description': '🔬 Data Scientist | 🤖 Machine Learning Engineer | 💹 MBA | ✒️ Director of Data Science @whiteboxml', 'url': 'https://t.co/FPYtdj37uv', 'entities': {'url': {'urls': [{'url': 'https://t.co/FPYtdj37uv', 'expanded_url': 'https://davidadrian.cc', 'display_url': 'davidadrian.cc', 'indices': [0, 23]}]}, 'description': {'urls': []}}, 'protected': False, 'followers_count': 155, 'friends_count': 76, 'listed_count': 9, 'created_at': 'Fri Jan 27 07:17:15 +0000 2012', 'favourites_count': 513, 'utc_offset': None, 'time_zone': None, 'geo_enabled': True, 'verified': False, 'statuses_count': 648, 'lang': None, 'contributors_enabled': False, 'is_translator': False, 'is_translation_enabled': False, 'profile_background_color': 'C0DEED', 'profile_background_image_url': 'http://abs.twimg.com/images/themes/theme1/bg.png', 'profile_background_image_url_https': 'https://abs.twimg.com/images/themes/theme1/bg.png', 'profile_background_tile': False, 'profile_image_url': 'http://pbs.twimg.com/profile_images/1267398760230989824/BPxscaQc_normal.jpg', 'profile_image_url_https': 'https://pbs.twimg.com/profile_images/1267398760230989824/BPxscaQc_normal.jpg', 'profile_banner_url': 'https://pbs.twimg.com/profile_banners/475600344/1591007478', 'profile_link_color': '000000', 'profile_sidebar_border_color': 'FFFFFF', 'profile_sidebar_fill_color': 'DDEEF6', 'profile_text_color': '333333', 'profile_use_background_image': True, 'has_extended_profile': True, 'default_profile': False, 'default_profile_image': False, 'following': True, 'follow_request_sent': False, 'notifications': False, 'translator_type': 'none'}, 'geo': None, 'coordinates': None, 'place': None, 'contributors': None, 'retweeted_status': {'created_at': 'Wed Jun 17 10:00:02 +0000 2020', 'id': 1273193678945824768, 'id_str': '1273193678945824768', 'text': 'How to build fair ML models?: https://t.co/Z9Ntj5CYGb', 'truncated': False, 'entities': {'hashtags': [], 'symbols': [], 'user_mentions': [], 'urls': [{'url': 'https://t.co/Z9Ntj5CYGb', 'expanded_url': 'https://datatau.net/post/2094', 'display_url': 'datatau.net/post/2094', 'indices': [30, 53]}]}, 'source': '<a href=\"https://datatau.net\" rel=\"nofollow\">DataTau</a>', 'in_reply_to_status_id': None, 'in_reply_to_status_id_str': None, 'in_reply_to_user_id': None, 'in_reply_to_user_id_str': None, 'in_reply_to_screen_name': None, 'user': {'id': 1143776901472882689, 'id_str': '1143776901472882689', 'name': 'DataTau', 'screen_name': 'datatau_net', 'location': '', 'description': 'DataTau is the reference newsboard for Data Scientists and Data Engineers inspired by the popular Hacker News. Powered by @dcanones and @pedro_munoz_', 'url': None, 'entities': {'description': {'urls': []}}, 'protected': False, 'followers_count': 54, 'friends_count': 4, 'listed_count': 0, 'created_at': 'Wed Jun 26 07:03:58 +0000 2019', 'favourites_count': 3, 'utc_offset': None, 'time_zone': None, 'geo_enabled': False, 'verified': False, 'statuses_count': 252, 'lang': None, 'contributors_enabled': False, 'is_translator': False, 'is_translation_enabled': False, 'profile_background_color': 'F5F8FA', 'profile_background_image_url': None, 'profile_background_image_url_https': None, 'profile_background_tile': False, 'profile_image_url': 'http://pbs.twimg.com/profile_images/1266406893020471298/5H8y_Fa0_normal.png', 'profile_image_url_https': 'https://pbs.twimg.com/profile_images/1266406893020471298/5H8y_Fa0_normal.png', 'profile_banner_url': 'https://pbs.twimg.com/profile_banners/1143776901472882689/1590770229', 'profile_link_color': '1DA1F2', 'profile_sidebar_border_color': 'C0DEED', 'profile_sidebar_fill_color': 'DDEEF6', 'profile_text_color': '333333', 'profile_use_background_image': True, 'has_extended_profile': False, 'default_profile': True, 'default_profile_image': False, 'following': False, 'follow_request_sent': False, 'notifications': False, 'translator_type': 'none'}, 'geo': None, 'coordinates': None, 'place': None, 'contributors': None, 'is_quote_status': False, 'retweet_count': 3, 'favorite_count': 5, 'favorited': True, 'retweeted': False, 'possibly_sensitive': False, 'lang': 'en'}, 'is_quote_status': False, 'retweet_count': 3, 'favorite_count': 0, 'favorited': True, 'retweeted': False, 'possibly_sensitive': False, 'lang': 'en'}, created_at=datetime.datetime(2020, 6, 17, 10, 0, 4), id=1273193686059356160, id_str='1273193686059356160', text='RT @datatau_net: How to build fair ML models?: https://t.co/Z9Ntj5CYGb', truncated=False, entities={'hashtags': [], 'symbols': [], 'user_mentions': [{'screen_name': 'datatau_net', 'name': 'DataTau', 'id': 1143776901472882689, 'id_str': '1143776901472882689', 'indices': [3, 15]}], 'urls': [{'url': 'https://t.co/Z9Ntj5CYGb', 'expanded_url': 'https://datatau.net/post/2094', 'display_url': 'datatau.net/post/2094', 'indices': [47, 70]}]}, source=\"DACC's DS Twitter Assignment\", source_url='http://dcanones.github.io/', in_reply_to_status_id=None, in_reply_to_status_id_str=None, in_reply_to_user_id=None, in_reply_to_user_id_str=None, in_reply_to_screen_name=None, author=User(_api=<tweepy.api.API object at 0x7f81303ec090>, _json={'id': 475600344, 'id_str': '475600344', 'name': 'David Adrián Cañones', 'screen_name': 'dcanones', 'location': 'Madrid, Spain', 'description': '🔬 Data Scientist | 🤖 Machine Learning Engineer | 💹 MBA | ✒️ Director of Data Science @whiteboxml', 'url': 'https://t.co/FPYtdj37uv', 'entities': {'url': {'urls': [{'url': 'https://t.co/FPYtdj37uv', 'expanded_url': 'https://davidadrian.cc', 'display_url': 'davidadrian.cc', 'indices': [0, 23]}]}, 'description': {'urls': []}}, 'protected': False, 'followers_count': 155, 'friends_count': 76, 'listed_count': 9, 'created_at': 'Fri Jan 27 07:17:15 +0000 2012', 'favourites_count': 513, 'utc_offset': None, 'time_zone': None, 'geo_enabled': True, 'verified': False, 'statuses_count': 648, 'lang': None, 'contributors_enabled': False, 'is_translator': False, 'is_translation_enabled': False, 'profile_background_color': 'C0DEED', 'profile_background_image_url': 'http://abs.twimg.com/images/themes/theme1/bg.png', 'profile_background_image_url_https': 'https://abs.twimg.com/images/themes/theme1/bg.png', 'profile_background_tile': False, 'profile_image_url': 'http://pbs.twimg.com/profile_images/1267398760230989824/BPxscaQc_normal.jpg', 'profile_image_url_https': 'https://pbs.twimg.com/profile_images/1267398760230989824/BPxscaQc_normal.jpg', 'profile_banner_url': 'https://pbs.twimg.com/profile_banners/475600344/1591007478', 'profile_link_color': '000000', 'profile_sidebar_border_color': 'FFFFFF', 'profile_sidebar_fill_color': 'DDEEF6', 'profile_text_color': '333333', 'profile_use_background_image': True, 'has_extended_profile': True, 'default_profile': False, 'default_profile_image': False, 'following': True, 'follow_request_sent': False, 'notifications': False, 'translator_type': 'none'}, id=475600344, id_str='475600344', name='David Adrián Cañones', screen_name='dcanones', location='Madrid, Spain', description='🔬 Data Scientist | 🤖 Machine Learning Engineer | 💹 MBA | ✒️ Director of Data Science @whiteboxml', url='https://t.co/FPYtdj37uv', entities={'url': {'urls': [{'url': 'https://t.co/FPYtdj37uv', 'expanded_url': 'https://davidadrian.cc', 'display_url': 'davidadrian.cc', 'indices': [0, 23]}]}, 'description': {'urls': []}}, protected=False, followers_count=155, friends_count=76, listed_count=9, created_at=datetime.datetime(2012, 1, 27, 7, 17, 15), favourites_count=513, utc_offset=None, time_zone=None, geo_enabled=True, verified=False, statuses_count=648, lang=None, contributors_enabled=False, is_translator=False, is_translation_enabled=False, profile_background_color='C0DEED', profile_background_image_url='http://abs.twimg.com/images/themes/theme1/bg.png', profile_background_image_url_https='https://abs.twimg.com/images/themes/theme1/bg.png', profile_background_tile=False, profile_image_url='http://pbs.twimg.com/profile_images/1267398760230989824/BPxscaQc_normal.jpg', profile_image_url_https='https://pbs.twimg.com/profile_images/1267398760230989824/BPxscaQc_normal.jpg', profile_banner_url='https://pbs.twimg.com/profile_banners/475600344/1591007478', profile_link_color='000000', profile_sidebar_border_color='FFFFFF', profile_sidebar_fill_color='DDEEF6', profile_text_color='333333', profile_use_background_image=True, has_extended_profile=True, default_profile=False, default_profile_image=False, following=True, follow_request_sent=False, notifications=False, translator_type='none'), user=User(_api=<tweepy.api.API object at 0x7f81303ec090>, _json={'id': 475600344, 'id_str': '475600344', 'name': 'David Adrián Cañones', 'screen_name': 'dcanones', 'location': 'Madrid, Spain', 'description': '🔬 Data Scientist | 🤖 Machine Learning Engineer | 💹 MBA | ✒️ Director of Data Science @whiteboxml', 'url': 'https://t.co/FPYtdj37uv', 'entities': {'url': {'urls': [{'url': 'https://t.co/FPYtdj37uv', 'expanded_url': 'https://davidadrian.cc', 'display_url': 'davidadrian.cc', 'indices': [0, 23]}]}, 'description': {'urls': []}}, 'protected': False, 'followers_count': 155, 'friends_count': 76, 'listed_count': 9, 'created_at': 'Fri Jan 27 07:17:15 +0000 2012', 'favourites_count': 513, 'utc_offset': None, 'time_zone': None, 'geo_enabled': True, 'verified': False, 'statuses_count': 648, 'lang': None, 'contributors_enabled': False, 'is_translator': False, 'is_translation_enabled': False, 'profile_background_color': 'C0DEED', 'profile_background_image_url': 'http://abs.twimg.com/images/themes/theme1/bg.png', 'profile_background_image_url_https': 'https://abs.twimg.com/images/themes/theme1/bg.png', 'profile_background_tile': False, 'profile_image_url': 'http://pbs.twimg.com/profile_images/1267398760230989824/BPxscaQc_normal.jpg', 'profile_image_url_https': 'https://pbs.twimg.com/profile_images/1267398760230989824/BPxscaQc_normal.jpg', 'profile_banner_url': 'https://pbs.twimg.com/profile_banners/475600344/1591007478', 'profile_link_color': '000000', 'profile_sidebar_border_color': 'FFFFFF', 'profile_sidebar_fill_color': 'DDEEF6', 'profile_text_color': '333333', 'profile_use_background_image': True, 'has_extended_profile': True, 'default_profile': False, 'default_profile_image': False, 'following': True, 'follow_request_sent': False, 'notifications': False, 'translator_type': 'none'}, id=475600344, id_str='475600344', name='David Adrián Cañones', screen_name='dcanones', location='Madrid, Spain', description='🔬 Data Scientist | 🤖 Machine Learning Engineer | 💹 MBA | ✒️ Director of Data Science @whiteboxml', url='https://t.co/FPYtdj37uv', entities={'url': {'urls': [{'url': 'https://t.co/FPYtdj37uv', 'expanded_url': 'https://davidadrian.cc', 'display_url': 'davidadrian.cc', 'indices': [0, 23]}]}, 'description': {'urls': []}}, protected=False, followers_count=155, friends_count=76, listed_count=9, created_at=datetime.datetime(2012, 1, 27, 7, 17, 15), favourites_count=513, utc_offset=None, time_zone=None, geo_enabled=True, verified=False, statuses_count=648, lang=None, contributors_enabled=False, is_translator=False, is_translation_enabled=False, profile_background_color='C0DEED', profile_background_image_url='http://abs.twimg.com/images/themes/theme1/bg.png', profile_background_image_url_https='https://abs.twimg.com/images/themes/theme1/bg.png', profile_background_tile=False, profile_image_url='http://pbs.twimg.com/profile_images/1267398760230989824/BPxscaQc_normal.jpg', profile_image_url_https='https://pbs.twimg.com/profile_images/1267398760230989824/BPxscaQc_normal.jpg', profile_banner_url='https://pbs.twimg.com/profile_banners/475600344/1591007478', profile_link_color='000000', profile_sidebar_border_color='FFFFFF', profile_sidebar_fill_color='DDEEF6', profile_text_color='333333', profile_use_background_image=True, has_extended_profile=True, default_profile=False, default_profile_image=False, following=True, follow_request_sent=False, notifications=False, translator_type='none'), geo=None, coordinates=None, place=None, contributors=None, retweeted_status=Status(_api=<tweepy.api.API object at 0x7f81303ec090>, _json={'created_at': 'Wed Jun 17 10:00:02 +0000 2020', 'id': 1273193678945824768, 'id_str': '1273193678945824768', 'text': 'How to build fair ML models?: https://t.co/Z9Ntj5CYGb', 'truncated': False, 'entities': {'hashtags': [], 'symbols': [], 'user_mentions': [], 'urls': [{'url': 'https://t.co/Z9Ntj5CYGb', 'expanded_url': 'https://datatau.net/post/2094', 'display_url': 'datatau.net/post/2094', 'indices': [30, 53]}]}, 'source': '<a href=\"https://datatau.net\" rel=\"nofollow\">DataTau</a>', 'in_reply_to_status_id': None, 'in_reply_to_status_id_str': None, 'in_reply_to_user_id': None, 'in_reply_to_user_id_str': None, 'in_reply_to_screen_name': None, 'user': {'id': 1143776901472882689, 'id_str': '1143776901472882689', 'name': 'DataTau', 'screen_name': 'datatau_net', 'location': '', 'description': 'DataTau is the reference newsboard for Data Scientists and Data Engineers inspired by the popular Hacker News. Powered by @dcanones and @pedro_munoz_', 'url': None, 'entities': {'description': {'urls': []}}, 'protected': False, 'followers_count': 54, 'friends_count': 4, 'listed_count': 0, 'created_at': 'Wed Jun 26 07:03:58 +0000 2019', 'favourites_count': 3, 'utc_offset': None, 'time_zone': None, 'geo_enabled': False, 'verified': False, 'statuses_count': 252, 'lang': None, 'contributors_enabled': False, 'is_translator': False, 'is_translation_enabled': False, 'profile_background_color': 'F5F8FA', 'profile_background_image_url': None, 'profile_background_image_url_https': None, 'profile_background_tile': False, 'profile_image_url': 'http://pbs.twimg.com/profile_images/1266406893020471298/5H8y_Fa0_normal.png', 'profile_image_url_https': 'https://pbs.twimg.com/profile_images/1266406893020471298/5H8y_Fa0_normal.png', 'profile_banner_url': 'https://pbs.twimg.com/profile_banners/1143776901472882689/1590770229', 'profile_link_color': '1DA1F2', 'profile_sidebar_border_color': 'C0DEED', 'profile_sidebar_fill_color': 'DDEEF6', 'profile_text_color': '333333', 'profile_use_background_image': True, 'has_extended_profile': False, 'default_profile': True, 'default_profile_image': False, 'following': False, 'follow_request_sent': False, 'notifications': False, 'translator_type': 'none'}, 'geo': None, 'coordinates': None, 'place': None, 'contributors': None, 'is_quote_status': False, 'retweet_count': 3, 'favorite_count': 5, 'favorited': True, 'retweeted': False, 'possibly_sensitive': False, 'lang': 'en'}, created_at=datetime.datetime(2020, 6, 17, 10, 0, 2), id=1273193678945824768, id_str='1273193678945824768', text='How to build fair ML models?: https://t.co/Z9Ntj5CYGb', truncated=False, entities={'hashtags': [], 'symbols': [], 'user_mentions': [], 'urls': [{'url': 'https://t.co/Z9Ntj5CYGb', 'expanded_url': 'https://datatau.net/post/2094', 'display_url': 'datatau.net/post/2094', 'indices': [30, 53]}]}, source='DataTau', source_url='https://datatau.net', in_reply_to_status_id=None, in_reply_to_status_id_str=None, in_reply_to_user_id=None, in_reply_to_user_id_str=None, in_reply_to_screen_name=None, author=User(_api=<tweepy.api.API object at 0x7f81303ec090>, _json={'id': 1143776901472882689, 'id_str': '1143776901472882689', 'name': 'DataTau', 'screen_name': 'datatau_net', 'location': '', 'description': 'DataTau is the reference newsboard for Data Scientists and Data Engineers inspired by the popular Hacker News. Powered by @dcanones and @pedro_munoz_', 'url': None, 'entities': {'description': {'urls': []}}, 'protected': False, 'followers_count': 54, 'friends_count': 4, 'listed_count': 0, 'created_at': 'Wed Jun 26 07:03:58 +0000 2019', 'favourites_count': 3, 'utc_offset': None, 'time_zone': None, 'geo_enabled': False, 'verified': False, 'statuses_count': 252, 'lang': None, 'contributors_enabled': False, 'is_translator': False, 'is_translation_enabled': False, 'profile_background_color': 'F5F8FA', 'profile_background_image_url': None, 'profile_background_image_url_https': None, 'profile_background_tile': False, 'profile_image_url': 'http://pbs.twimg.com/profile_images/1266406893020471298/5H8y_Fa0_normal.png', 'profile_image_url_https': 'https://pbs.twimg.com/profile_images/1266406893020471298/5H8y_Fa0_normal.png', 'profile_banner_url': 'https://pbs.twimg.com/profile_banners/1143776901472882689/1590770229', 'profile_link_color': '1DA1F2', 'profile_sidebar_border_color': 'C0DEED', 'profile_sidebar_fill_color': 'DDEEF6', 'profile_text_color': '333333', 'profile_use_background_image': True, 'has_extended_profile': False, 'default_profile': True, 'default_profile_image': False, 'following': False, 'follow_request_sent': False, 'notifications': False, 'translator_type': 'none'}, id=1143776901472882689, id_str='1143776901472882689', name='DataTau', screen_name='datatau_net', location='', description='DataTau is the reference newsboard for Data Scientists and Data Engineers inspired by the popular Hacker News. Powered by @dcanones and @pedro_munoz_', url=None, entities={'description': {'urls': []}}, protected=False, followers_count=54, friends_count=4, listed_count=0, created_at=datetime.datetime(2019, 6, 26, 7, 3, 58), favourites_count=3, utc_offset=None, time_zone=None, geo_enabled=False, verified=False, statuses_count=252, lang=None, contributors_enabled=False, is_translator=False, is_translation_enabled=False, profile_background_color='F5F8FA', profile_background_image_url=None, profile_background_image_url_https=None, profile_background_tile=False, profile_image_url='http://pbs.twimg.com/profile_images/1266406893020471298/5H8y_Fa0_normal.png', profile_image_url_https='https://pbs.twimg.com/profile_images/1266406893020471298/5H8y_Fa0_normal.png', profile_banner_url='https://pbs.twimg.com/profile_banners/1143776901472882689/1590770229', profile_link_color='1DA1F2', profile_sidebar_border_color='C0DEED', profile_sidebar_fill_color='DDEEF6', profile_text_color='333333', profile_use_background_image=True, has_extended_profile=False, default_profile=True, default_profile_image=False, following=False, follow_request_sent=False, notifications=False, translator_type='none'), user=User(_api=<tweepy.api.API object at 0x7f81303ec090>, _json={'id': 1143776901472882689, 'id_str': '1143776901472882689', 'name': 'DataTau', 'screen_name': 'datatau_net', 'location': '', 'description': 'DataTau is the reference newsboard for Data Scientists and Data Engineers inspired by the popular Hacker News. Powered by @dcanones and @pedro_munoz_', 'url': None, 'entities': {'description': {'urls': []}}, 'protected': False, 'followers_count': 54, 'friends_count': 4, 'listed_count': 0, 'created_at': 'Wed Jun 26 07:03:58 +0000 2019', 'favourites_count': 3, 'utc_offset': None, 'time_zone': None, 'geo_enabled': False, 'verified': False, 'statuses_count': 252, 'lang': None, 'contributors_enabled': False, 'is_translator': False, 'is_translation_enabled': False, 'profile_background_color': 'F5F8FA', 'profile_background_image_url': None, 'profile_background_image_url_https': None, 'profile_background_tile': False, 'profile_image_url': 'http://pbs.twimg.com/profile_images/1266406893020471298/5H8y_Fa0_normal.png', 'profile_image_url_https': 'https://pbs.twimg.com/profile_images/1266406893020471298/5H8y_Fa0_normal.png', 'profile_banner_url': 'https://pbs.twimg.com/profile_banners/1143776901472882689/1590770229', 'profile_link_color': '1DA1F2', 'profile_sidebar_border_color': 'C0DEED', 'profile_sidebar_fill_color': 'DDEEF6', 'profile_text_color': '333333', 'profile_use_background_image': True, 'has_extended_profile': False, 'default_profile': True, 'default_profile_image': False, 'following': False, 'follow_request_sent': False, 'notifications': False, 'translator_type': 'none'}, id=1143776901472882689, id_str='1143776901472882689', name='DataTau', screen_name='datatau_net', location='', description='DataTau is the reference newsboard for Data Scientists and Data Engineers inspired by the popular Hacker News. Powered by @dcanones and @pedro_munoz_', url=None, entities={'description': {'urls': []}}, protected=False, followers_count=54, friends_count=4, listed_count=0, created_at=datetime.datetime(2019, 6, 26, 7, 3, 58), favourites_count=3, utc_offset=None, time_zone=None, geo_enabled=False, verified=False, statuses_count=252, lang=None, contributors_enabled=False, is_translator=False, is_translation_enabled=False, profile_background_color='F5F8FA', profile_background_image_url=None, profile_background_image_url_https=None, profile_background_tile=False, profile_image_url='http://pbs.twimg.com/profile_images/1266406893020471298/5H8y_Fa0_normal.png', profile_image_url_https='https://pbs.twimg.com/profile_images/1266406893020471298/5H8y_Fa0_normal.png', profile_banner_url='https://pbs.twimg.com/profile_banners/1143776901472882689/1590770229', profile_link_color='1DA1F2', profile_sidebar_border_color='C0DEED', profile_sidebar_fill_color='DDEEF6', profile_text_color='333333', profile_use_background_image=True, has_extended_profile=False, default_profile=True, default_profile_image=False, following=False, follow_request_sent=False, notifications=False, translator_type='none'), geo=None, coordinates=None, place=None, contributors=None, is_quote_status=False, retweet_count=3, favorite_count=5, favorited=True, retweeted=False, possibly_sensitive=False, lang='en'), is_quote_status=False, retweet_count=3, favorite_count=0, favorited=True, retweeted=False, possibly_sensitive=False, lang='en')"
      ]
     },
     "execution_count": 17,
     "metadata": {},
     "output_type": "execute_result"
    }
   ],
   "source": [
    "api.create_favorite(tweet_id)"
   ]
  },
  {
   "cell_type": "code",
   "execution_count": 18,
   "metadata": {},
   "outputs": [
    {
     "data": {
      "text/plain": [
       "Status(_api=<tweepy.api.API object at 0x7f81303ec090>, _json={'created_at': 'Wed Jun 17 19:07:39 +0000 2020', 'id': 1273331492626759680, 'id_str': '1273331492626759680', 'text': 'RT @datatau_net: How to build fair ML models?: https://t.co/Z9Ntj5CYGb', 'truncated': False, 'entities': {'hashtags': [], 'symbols': [], 'user_mentions': [{'screen_name': 'datatau_net', 'name': 'DataTau', 'id': 1143776901472882689, 'id_str': '1143776901472882689', 'indices': [3, 15]}], 'urls': [{'url': 'https://t.co/Z9Ntj5CYGb', 'expanded_url': 'https://datatau.net/post/2094', 'display_url': 'datatau.net/post/2094', 'indices': [47, 70]}]}, 'source': '<a href=\"https://datatau.net\" rel=\"nofollow\">DataTau</a>', 'in_reply_to_status_id': None, 'in_reply_to_status_id_str': None, 'in_reply_to_user_id': None, 'in_reply_to_user_id_str': None, 'in_reply_to_screen_name': None, 'user': {'id': 1143776901472882689, 'id_str': '1143776901472882689', 'name': 'DataTau', 'screen_name': 'datatau_net', 'location': '', 'description': 'DataTau is the reference newsboard for Data Scientists and Data Engineers inspired by the popular Hacker News. Powered by @dcanones and @pedro_munoz_', 'url': None, 'entities': {'description': {'urls': []}}, 'protected': False, 'followers_count': 54, 'friends_count': 4, 'listed_count': 0, 'created_at': 'Wed Jun 26 07:03:58 +0000 2019', 'favourites_count': 2, 'utc_offset': None, 'time_zone': None, 'geo_enabled': False, 'verified': False, 'statuses_count': 253, 'lang': None, 'contributors_enabled': False, 'is_translator': False, 'is_translation_enabled': False, 'profile_background_color': 'F5F8FA', 'profile_background_image_url': None, 'profile_background_image_url_https': None, 'profile_background_tile': False, 'profile_image_url': 'http://pbs.twimg.com/profile_images/1266406893020471298/5H8y_Fa0_normal.png', 'profile_image_url_https': 'https://pbs.twimg.com/profile_images/1266406893020471298/5H8y_Fa0_normal.png', 'profile_banner_url': 'https://pbs.twimg.com/profile_banners/1143776901472882689/1590770229', 'profile_link_color': '1DA1F2', 'profile_sidebar_border_color': 'C0DEED', 'profile_sidebar_fill_color': 'DDEEF6', 'profile_text_color': '333333', 'profile_use_background_image': True, 'has_extended_profile': False, 'default_profile': True, 'default_profile_image': False, 'following': False, 'follow_request_sent': False, 'notifications': False, 'translator_type': 'none'}, 'geo': None, 'coordinates': None, 'place': None, 'contributors': None, 'retweeted_status': {'created_at': 'Wed Jun 17 10:00:02 +0000 2020', 'id': 1273193678945824768, 'id_str': '1273193678945824768', 'text': 'How to build fair ML models?: https://t.co/Z9Ntj5CYGb', 'truncated': False, 'entities': {'hashtags': [], 'symbols': [], 'user_mentions': [], 'urls': [{'url': 'https://t.co/Z9Ntj5CYGb', 'expanded_url': 'https://datatau.net/post/2094', 'display_url': 'datatau.net/post/2094', 'indices': [30, 53]}]}, 'source': '<a href=\"https://datatau.net\" rel=\"nofollow\">DataTau</a>', 'in_reply_to_status_id': None, 'in_reply_to_status_id_str': None, 'in_reply_to_user_id': None, 'in_reply_to_user_id_str': None, 'in_reply_to_screen_name': None, 'user': {'id': 1143776901472882689, 'id_str': '1143776901472882689', 'name': 'DataTau', 'screen_name': 'datatau_net', 'location': '', 'description': 'DataTau is the reference newsboard for Data Scientists and Data Engineers inspired by the popular Hacker News. Powered by @dcanones and @pedro_munoz_', 'url': None, 'entities': {'description': {'urls': []}}, 'protected': False, 'followers_count': 54, 'friends_count': 4, 'listed_count': 0, 'created_at': 'Wed Jun 26 07:03:58 +0000 2019', 'favourites_count': 2, 'utc_offset': None, 'time_zone': None, 'geo_enabled': False, 'verified': False, 'statuses_count': 253, 'lang': None, 'contributors_enabled': False, 'is_translator': False, 'is_translation_enabled': False, 'profile_background_color': 'F5F8FA', 'profile_background_image_url': None, 'profile_background_image_url_https': None, 'profile_background_tile': False, 'profile_image_url': 'http://pbs.twimg.com/profile_images/1266406893020471298/5H8y_Fa0_normal.png', 'profile_image_url_https': 'https://pbs.twimg.com/profile_images/1266406893020471298/5H8y_Fa0_normal.png', 'profile_banner_url': 'https://pbs.twimg.com/profile_banners/1143776901472882689/1590770229', 'profile_link_color': '1DA1F2', 'profile_sidebar_border_color': 'C0DEED', 'profile_sidebar_fill_color': 'DDEEF6', 'profile_text_color': '333333', 'profile_use_background_image': True, 'has_extended_profile': False, 'default_profile': True, 'default_profile_image': False, 'following': False, 'follow_request_sent': False, 'notifications': False, 'translator_type': 'none'}, 'geo': None, 'coordinates': None, 'place': None, 'contributors': None, 'is_quote_status': False, 'retweet_count': 4, 'favorite_count': 4, 'favorited': False, 'retweeted': True, 'possibly_sensitive': False, 'lang': 'en'}, 'is_quote_status': False, 'retweet_count': 4, 'favorite_count': 0, 'favorited': False, 'retweeted': True, 'possibly_sensitive': False, 'lang': 'en'}, created_at=datetime.datetime(2020, 6, 17, 19, 7, 39), id=1273331492626759680, id_str='1273331492626759680', text='RT @datatau_net: How to build fair ML models?: https://t.co/Z9Ntj5CYGb', truncated=False, entities={'hashtags': [], 'symbols': [], 'user_mentions': [{'screen_name': 'datatau_net', 'name': 'DataTau', 'id': 1143776901472882689, 'id_str': '1143776901472882689', 'indices': [3, 15]}], 'urls': [{'url': 'https://t.co/Z9Ntj5CYGb', 'expanded_url': 'https://datatau.net/post/2094', 'display_url': 'datatau.net/post/2094', 'indices': [47, 70]}]}, source='DataTau', source_url='https://datatau.net', in_reply_to_status_id=None, in_reply_to_status_id_str=None, in_reply_to_user_id=None, in_reply_to_user_id_str=None, in_reply_to_screen_name=None, author=User(_api=<tweepy.api.API object at 0x7f81303ec090>, _json={'id': 1143776901472882689, 'id_str': '1143776901472882689', 'name': 'DataTau', 'screen_name': 'datatau_net', 'location': '', 'description': 'DataTau is the reference newsboard for Data Scientists and Data Engineers inspired by the popular Hacker News. Powered by @dcanones and @pedro_munoz_', 'url': None, 'entities': {'description': {'urls': []}}, 'protected': False, 'followers_count': 54, 'friends_count': 4, 'listed_count': 0, 'created_at': 'Wed Jun 26 07:03:58 +0000 2019', 'favourites_count': 2, 'utc_offset': None, 'time_zone': None, 'geo_enabled': False, 'verified': False, 'statuses_count': 253, 'lang': None, 'contributors_enabled': False, 'is_translator': False, 'is_translation_enabled': False, 'profile_background_color': 'F5F8FA', 'profile_background_image_url': None, 'profile_background_image_url_https': None, 'profile_background_tile': False, 'profile_image_url': 'http://pbs.twimg.com/profile_images/1266406893020471298/5H8y_Fa0_normal.png', 'profile_image_url_https': 'https://pbs.twimg.com/profile_images/1266406893020471298/5H8y_Fa0_normal.png', 'profile_banner_url': 'https://pbs.twimg.com/profile_banners/1143776901472882689/1590770229', 'profile_link_color': '1DA1F2', 'profile_sidebar_border_color': 'C0DEED', 'profile_sidebar_fill_color': 'DDEEF6', 'profile_text_color': '333333', 'profile_use_background_image': True, 'has_extended_profile': False, 'default_profile': True, 'default_profile_image': False, 'following': False, 'follow_request_sent': False, 'notifications': False, 'translator_type': 'none'}, id=1143776901472882689, id_str='1143776901472882689', name='DataTau', screen_name='datatau_net', location='', description='DataTau is the reference newsboard for Data Scientists and Data Engineers inspired by the popular Hacker News. Powered by @dcanones and @pedro_munoz_', url=None, entities={'description': {'urls': []}}, protected=False, followers_count=54, friends_count=4, listed_count=0, created_at=datetime.datetime(2019, 6, 26, 7, 3, 58), favourites_count=2, utc_offset=None, time_zone=None, geo_enabled=False, verified=False, statuses_count=253, lang=None, contributors_enabled=False, is_translator=False, is_translation_enabled=False, profile_background_color='F5F8FA', profile_background_image_url=None, profile_background_image_url_https=None, profile_background_tile=False, profile_image_url='http://pbs.twimg.com/profile_images/1266406893020471298/5H8y_Fa0_normal.png', profile_image_url_https='https://pbs.twimg.com/profile_images/1266406893020471298/5H8y_Fa0_normal.png', profile_banner_url='https://pbs.twimg.com/profile_banners/1143776901472882689/1590770229', profile_link_color='1DA1F2', profile_sidebar_border_color='C0DEED', profile_sidebar_fill_color='DDEEF6', profile_text_color='333333', profile_use_background_image=True, has_extended_profile=False, default_profile=True, default_profile_image=False, following=False, follow_request_sent=False, notifications=False, translator_type='none'), user=User(_api=<tweepy.api.API object at 0x7f81303ec090>, _json={'id': 1143776901472882689, 'id_str': '1143776901472882689', 'name': 'DataTau', 'screen_name': 'datatau_net', 'location': '', 'description': 'DataTau is the reference newsboard for Data Scientists and Data Engineers inspired by the popular Hacker News. Powered by @dcanones and @pedro_munoz_', 'url': None, 'entities': {'description': {'urls': []}}, 'protected': False, 'followers_count': 54, 'friends_count': 4, 'listed_count': 0, 'created_at': 'Wed Jun 26 07:03:58 +0000 2019', 'favourites_count': 2, 'utc_offset': None, 'time_zone': None, 'geo_enabled': False, 'verified': False, 'statuses_count': 253, 'lang': None, 'contributors_enabled': False, 'is_translator': False, 'is_translation_enabled': False, 'profile_background_color': 'F5F8FA', 'profile_background_image_url': None, 'profile_background_image_url_https': None, 'profile_background_tile': False, 'profile_image_url': 'http://pbs.twimg.com/profile_images/1266406893020471298/5H8y_Fa0_normal.png', 'profile_image_url_https': 'https://pbs.twimg.com/profile_images/1266406893020471298/5H8y_Fa0_normal.png', 'profile_banner_url': 'https://pbs.twimg.com/profile_banners/1143776901472882689/1590770229', 'profile_link_color': '1DA1F2', 'profile_sidebar_border_color': 'C0DEED', 'profile_sidebar_fill_color': 'DDEEF6', 'profile_text_color': '333333', 'profile_use_background_image': True, 'has_extended_profile': False, 'default_profile': True, 'default_profile_image': False, 'following': False, 'follow_request_sent': False, 'notifications': False, 'translator_type': 'none'}, id=1143776901472882689, id_str='1143776901472882689', name='DataTau', screen_name='datatau_net', location='', description='DataTau is the reference newsboard for Data Scientists and Data Engineers inspired by the popular Hacker News. Powered by @dcanones and @pedro_munoz_', url=None, entities={'description': {'urls': []}}, protected=False, followers_count=54, friends_count=4, listed_count=0, created_at=datetime.datetime(2019, 6, 26, 7, 3, 58), favourites_count=2, utc_offset=None, time_zone=None, geo_enabled=False, verified=False, statuses_count=253, lang=None, contributors_enabled=False, is_translator=False, is_translation_enabled=False, profile_background_color='F5F8FA', profile_background_image_url=None, profile_background_image_url_https=None, profile_background_tile=False, profile_image_url='http://pbs.twimg.com/profile_images/1266406893020471298/5H8y_Fa0_normal.png', profile_image_url_https='https://pbs.twimg.com/profile_images/1266406893020471298/5H8y_Fa0_normal.png', profile_banner_url='https://pbs.twimg.com/profile_banners/1143776901472882689/1590770229', profile_link_color='1DA1F2', profile_sidebar_border_color='C0DEED', profile_sidebar_fill_color='DDEEF6', profile_text_color='333333', profile_use_background_image=True, has_extended_profile=False, default_profile=True, default_profile_image=False, following=False, follow_request_sent=False, notifications=False, translator_type='none'), geo=None, coordinates=None, place=None, contributors=None, retweeted_status=Status(_api=<tweepy.api.API object at 0x7f81303ec090>, _json={'created_at': 'Wed Jun 17 10:00:02 +0000 2020', 'id': 1273193678945824768, 'id_str': '1273193678945824768', 'text': 'How to build fair ML models?: https://t.co/Z9Ntj5CYGb', 'truncated': False, 'entities': {'hashtags': [], 'symbols': [], 'user_mentions': [], 'urls': [{'url': 'https://t.co/Z9Ntj5CYGb', 'expanded_url': 'https://datatau.net/post/2094', 'display_url': 'datatau.net/post/2094', 'indices': [30, 53]}]}, 'source': '<a href=\"https://datatau.net\" rel=\"nofollow\">DataTau</a>', 'in_reply_to_status_id': None, 'in_reply_to_status_id_str': None, 'in_reply_to_user_id': None, 'in_reply_to_user_id_str': None, 'in_reply_to_screen_name': None, 'user': {'id': 1143776901472882689, 'id_str': '1143776901472882689', 'name': 'DataTau', 'screen_name': 'datatau_net', 'location': '', 'description': 'DataTau is the reference newsboard for Data Scientists and Data Engineers inspired by the popular Hacker News. Powered by @dcanones and @pedro_munoz_', 'url': None, 'entities': {'description': {'urls': []}}, 'protected': False, 'followers_count': 54, 'friends_count': 4, 'listed_count': 0, 'created_at': 'Wed Jun 26 07:03:58 +0000 2019', 'favourites_count': 2, 'utc_offset': None, 'time_zone': None, 'geo_enabled': False, 'verified': False, 'statuses_count': 253, 'lang': None, 'contributors_enabled': False, 'is_translator': False, 'is_translation_enabled': False, 'profile_background_color': 'F5F8FA', 'profile_background_image_url': None, 'profile_background_image_url_https': None, 'profile_background_tile': False, 'profile_image_url': 'http://pbs.twimg.com/profile_images/1266406893020471298/5H8y_Fa0_normal.png', 'profile_image_url_https': 'https://pbs.twimg.com/profile_images/1266406893020471298/5H8y_Fa0_normal.png', 'profile_banner_url': 'https://pbs.twimg.com/profile_banners/1143776901472882689/1590770229', 'profile_link_color': '1DA1F2', 'profile_sidebar_border_color': 'C0DEED', 'profile_sidebar_fill_color': 'DDEEF6', 'profile_text_color': '333333', 'profile_use_background_image': True, 'has_extended_profile': False, 'default_profile': True, 'default_profile_image': False, 'following': False, 'follow_request_sent': False, 'notifications': False, 'translator_type': 'none'}, 'geo': None, 'coordinates': None, 'place': None, 'contributors': None, 'is_quote_status': False, 'retweet_count': 4, 'favorite_count': 4, 'favorited': False, 'retweeted': True, 'possibly_sensitive': False, 'lang': 'en'}, created_at=datetime.datetime(2020, 6, 17, 10, 0, 2), id=1273193678945824768, id_str='1273193678945824768', text='How to build fair ML models?: https://t.co/Z9Ntj5CYGb', truncated=False, entities={'hashtags': [], 'symbols': [], 'user_mentions': [], 'urls': [{'url': 'https://t.co/Z9Ntj5CYGb', 'expanded_url': 'https://datatau.net/post/2094', 'display_url': 'datatau.net/post/2094', 'indices': [30, 53]}]}, source='DataTau', source_url='https://datatau.net', in_reply_to_status_id=None, in_reply_to_status_id_str=None, in_reply_to_user_id=None, in_reply_to_user_id_str=None, in_reply_to_screen_name=None, author=User(_api=<tweepy.api.API object at 0x7f81303ec090>, _json={'id': 1143776901472882689, 'id_str': '1143776901472882689', 'name': 'DataTau', 'screen_name': 'datatau_net', 'location': '', 'description': 'DataTau is the reference newsboard for Data Scientists and Data Engineers inspired by the popular Hacker News. Powered by @dcanones and @pedro_munoz_', 'url': None, 'entities': {'description': {'urls': []}}, 'protected': False, 'followers_count': 54, 'friends_count': 4, 'listed_count': 0, 'created_at': 'Wed Jun 26 07:03:58 +0000 2019', 'favourites_count': 2, 'utc_offset': None, 'time_zone': None, 'geo_enabled': False, 'verified': False, 'statuses_count': 253, 'lang': None, 'contributors_enabled': False, 'is_translator': False, 'is_translation_enabled': False, 'profile_background_color': 'F5F8FA', 'profile_background_image_url': None, 'profile_background_image_url_https': None, 'profile_background_tile': False, 'profile_image_url': 'http://pbs.twimg.com/profile_images/1266406893020471298/5H8y_Fa0_normal.png', 'profile_image_url_https': 'https://pbs.twimg.com/profile_images/1266406893020471298/5H8y_Fa0_normal.png', 'profile_banner_url': 'https://pbs.twimg.com/profile_banners/1143776901472882689/1590770229', 'profile_link_color': '1DA1F2', 'profile_sidebar_border_color': 'C0DEED', 'profile_sidebar_fill_color': 'DDEEF6', 'profile_text_color': '333333', 'profile_use_background_image': True, 'has_extended_profile': False, 'default_profile': True, 'default_profile_image': False, 'following': False, 'follow_request_sent': False, 'notifications': False, 'translator_type': 'none'}, id=1143776901472882689, id_str='1143776901472882689', name='DataTau', screen_name='datatau_net', location='', description='DataTau is the reference newsboard for Data Scientists and Data Engineers inspired by the popular Hacker News. Powered by @dcanones and @pedro_munoz_', url=None, entities={'description': {'urls': []}}, protected=False, followers_count=54, friends_count=4, listed_count=0, created_at=datetime.datetime(2019, 6, 26, 7, 3, 58), favourites_count=2, utc_offset=None, time_zone=None, geo_enabled=False, verified=False, statuses_count=253, lang=None, contributors_enabled=False, is_translator=False, is_translation_enabled=False, profile_background_color='F5F8FA', profile_background_image_url=None, profile_background_image_url_https=None, profile_background_tile=False, profile_image_url='http://pbs.twimg.com/profile_images/1266406893020471298/5H8y_Fa0_normal.png', profile_image_url_https='https://pbs.twimg.com/profile_images/1266406893020471298/5H8y_Fa0_normal.png', profile_banner_url='https://pbs.twimg.com/profile_banners/1143776901472882689/1590770229', profile_link_color='1DA1F2', profile_sidebar_border_color='C0DEED', profile_sidebar_fill_color='DDEEF6', profile_text_color='333333', profile_use_background_image=True, has_extended_profile=False, default_profile=True, default_profile_image=False, following=False, follow_request_sent=False, notifications=False, translator_type='none'), user=User(_api=<tweepy.api.API object at 0x7f81303ec090>, _json={'id': 1143776901472882689, 'id_str': '1143776901472882689', 'name': 'DataTau', 'screen_name': 'datatau_net', 'location': '', 'description': 'DataTau is the reference newsboard for Data Scientists and Data Engineers inspired by the popular Hacker News. Powered by @dcanones and @pedro_munoz_', 'url': None, 'entities': {'description': {'urls': []}}, 'protected': False, 'followers_count': 54, 'friends_count': 4, 'listed_count': 0, 'created_at': 'Wed Jun 26 07:03:58 +0000 2019', 'favourites_count': 2, 'utc_offset': None, 'time_zone': None, 'geo_enabled': False, 'verified': False, 'statuses_count': 253, 'lang': None, 'contributors_enabled': False, 'is_translator': False, 'is_translation_enabled': False, 'profile_background_color': 'F5F8FA', 'profile_background_image_url': None, 'profile_background_image_url_https': None, 'profile_background_tile': False, 'profile_image_url': 'http://pbs.twimg.com/profile_images/1266406893020471298/5H8y_Fa0_normal.png', 'profile_image_url_https': 'https://pbs.twimg.com/profile_images/1266406893020471298/5H8y_Fa0_normal.png', 'profile_banner_url': 'https://pbs.twimg.com/profile_banners/1143776901472882689/1590770229', 'profile_link_color': '1DA1F2', 'profile_sidebar_border_color': 'C0DEED', 'profile_sidebar_fill_color': 'DDEEF6', 'profile_text_color': '333333', 'profile_use_background_image': True, 'has_extended_profile': False, 'default_profile': True, 'default_profile_image': False, 'following': False, 'follow_request_sent': False, 'notifications': False, 'translator_type': 'none'}, id=1143776901472882689, id_str='1143776901472882689', name='DataTau', screen_name='datatau_net', location='', description='DataTau is the reference newsboard for Data Scientists and Data Engineers inspired by the popular Hacker News. Powered by @dcanones and @pedro_munoz_', url=None, entities={'description': {'urls': []}}, protected=False, followers_count=54, friends_count=4, listed_count=0, created_at=datetime.datetime(2019, 6, 26, 7, 3, 58), favourites_count=2, utc_offset=None, time_zone=None, geo_enabled=False, verified=False, statuses_count=253, lang=None, contributors_enabled=False, is_translator=False, is_translation_enabled=False, profile_background_color='F5F8FA', profile_background_image_url=None, profile_background_image_url_https=None, profile_background_tile=False, profile_image_url='http://pbs.twimg.com/profile_images/1266406893020471298/5H8y_Fa0_normal.png', profile_image_url_https='https://pbs.twimg.com/profile_images/1266406893020471298/5H8y_Fa0_normal.png', profile_banner_url='https://pbs.twimg.com/profile_banners/1143776901472882689/1590770229', profile_link_color='1DA1F2', profile_sidebar_border_color='C0DEED', profile_sidebar_fill_color='DDEEF6', profile_text_color='333333', profile_use_background_image=True, has_extended_profile=False, default_profile=True, default_profile_image=False, following=False, follow_request_sent=False, notifications=False, translator_type='none'), geo=None, coordinates=None, place=None, contributors=None, is_quote_status=False, retweet_count=4, favorite_count=4, favorited=False, retweeted=True, possibly_sensitive=False, lang='en'), is_quote_status=False, retweet_count=4, favorite_count=0, favorited=False, retweeted=True, possibly_sensitive=False, lang='en')"
      ]
     },
     "execution_count": 18,
     "metadata": {},
     "output_type": "execute_result"
    }
   ],
   "source": [
    "api.retweet(tweet_id)"
   ]
  },
  {
   "cell_type": "code",
   "execution_count": 19,
   "metadata": {},
   "outputs": [
    {
     "data": {
      "text/plain": [
       "Status(_api=<tweepy.api.API object at 0x7f81303ec090>, _json={'created_at': 'Wed Jun 17 19:08:18 +0000 2020', 'id': 1273331653901979654, 'id_str': '1273331653901979654', 'text': 'this is a comment', 'truncated': False, 'entities': {'hashtags': [], 'symbols': [], 'user_mentions': [], 'urls': []}, 'source': '<a href=\"https://datatau.net\" rel=\"nofollow\">DataTau</a>', 'in_reply_to_status_id': 1273193678945824768, 'in_reply_to_status_id_str': '1273193678945824768', 'in_reply_to_user_id': 1143776901472882689, 'in_reply_to_user_id_str': '1143776901472882689', 'in_reply_to_screen_name': 'datatau_net', 'user': {'id': 1143776901472882689, 'id_str': '1143776901472882689', 'name': 'DataTau', 'screen_name': 'datatau_net', 'location': '', 'description': 'DataTau is the reference newsboard for Data Scientists and Data Engineers inspired by the popular Hacker News. Powered by @dcanones and @pedro_munoz_', 'url': None, 'entities': {'description': {'urls': []}}, 'protected': False, 'followers_count': 54, 'friends_count': 4, 'listed_count': 0, 'created_at': 'Wed Jun 26 07:03:58 +0000 2019', 'favourites_count': 2, 'utc_offset': None, 'time_zone': None, 'geo_enabled': False, 'verified': False, 'statuses_count': 253, 'lang': None, 'contributors_enabled': False, 'is_translator': False, 'is_translation_enabled': False, 'profile_background_color': 'F5F8FA', 'profile_background_image_url': None, 'profile_background_image_url_https': None, 'profile_background_tile': False, 'profile_image_url': 'http://pbs.twimg.com/profile_images/1266406893020471298/5H8y_Fa0_normal.png', 'profile_image_url_https': 'https://pbs.twimg.com/profile_images/1266406893020471298/5H8y_Fa0_normal.png', 'profile_banner_url': 'https://pbs.twimg.com/profile_banners/1143776901472882689/1590770229', 'profile_link_color': '1DA1F2', 'profile_sidebar_border_color': 'C0DEED', 'profile_sidebar_fill_color': 'DDEEF6', 'profile_text_color': '333333', 'profile_use_background_image': True, 'has_extended_profile': False, 'default_profile': True, 'default_profile_image': False, 'following': False, 'follow_request_sent': False, 'notifications': False, 'translator_type': 'none'}, 'geo': None, 'coordinates': None, 'place': None, 'contributors': None, 'is_quote_status': False, 'retweet_count': 0, 'favorite_count': 0, 'favorited': False, 'retweeted': False, 'lang': 'en'}, created_at=datetime.datetime(2020, 6, 17, 19, 8, 18), id=1273331653901979654, id_str='1273331653901979654', text='this is a comment', truncated=False, entities={'hashtags': [], 'symbols': [], 'user_mentions': [], 'urls': []}, source='DataTau', source_url='https://datatau.net', in_reply_to_status_id=1273193678945824768, in_reply_to_status_id_str='1273193678945824768', in_reply_to_user_id=1143776901472882689, in_reply_to_user_id_str='1143776901472882689', in_reply_to_screen_name='datatau_net', author=User(_api=<tweepy.api.API object at 0x7f81303ec090>, _json={'id': 1143776901472882689, 'id_str': '1143776901472882689', 'name': 'DataTau', 'screen_name': 'datatau_net', 'location': '', 'description': 'DataTau is the reference newsboard for Data Scientists and Data Engineers inspired by the popular Hacker News. Powered by @dcanones and @pedro_munoz_', 'url': None, 'entities': {'description': {'urls': []}}, 'protected': False, 'followers_count': 54, 'friends_count': 4, 'listed_count': 0, 'created_at': 'Wed Jun 26 07:03:58 +0000 2019', 'favourites_count': 2, 'utc_offset': None, 'time_zone': None, 'geo_enabled': False, 'verified': False, 'statuses_count': 253, 'lang': None, 'contributors_enabled': False, 'is_translator': False, 'is_translation_enabled': False, 'profile_background_color': 'F5F8FA', 'profile_background_image_url': None, 'profile_background_image_url_https': None, 'profile_background_tile': False, 'profile_image_url': 'http://pbs.twimg.com/profile_images/1266406893020471298/5H8y_Fa0_normal.png', 'profile_image_url_https': 'https://pbs.twimg.com/profile_images/1266406893020471298/5H8y_Fa0_normal.png', 'profile_banner_url': 'https://pbs.twimg.com/profile_banners/1143776901472882689/1590770229', 'profile_link_color': '1DA1F2', 'profile_sidebar_border_color': 'C0DEED', 'profile_sidebar_fill_color': 'DDEEF6', 'profile_text_color': '333333', 'profile_use_background_image': True, 'has_extended_profile': False, 'default_profile': True, 'default_profile_image': False, 'following': False, 'follow_request_sent': False, 'notifications': False, 'translator_type': 'none'}, id=1143776901472882689, id_str='1143776901472882689', name='DataTau', screen_name='datatau_net', location='', description='DataTau is the reference newsboard for Data Scientists and Data Engineers inspired by the popular Hacker News. Powered by @dcanones and @pedro_munoz_', url=None, entities={'description': {'urls': []}}, protected=False, followers_count=54, friends_count=4, listed_count=0, created_at=datetime.datetime(2019, 6, 26, 7, 3, 58), favourites_count=2, utc_offset=None, time_zone=None, geo_enabled=False, verified=False, statuses_count=253, lang=None, contributors_enabled=False, is_translator=False, is_translation_enabled=False, profile_background_color='F5F8FA', profile_background_image_url=None, profile_background_image_url_https=None, profile_background_tile=False, profile_image_url='http://pbs.twimg.com/profile_images/1266406893020471298/5H8y_Fa0_normal.png', profile_image_url_https='https://pbs.twimg.com/profile_images/1266406893020471298/5H8y_Fa0_normal.png', profile_banner_url='https://pbs.twimg.com/profile_banners/1143776901472882689/1590770229', profile_link_color='1DA1F2', profile_sidebar_border_color='C0DEED', profile_sidebar_fill_color='DDEEF6', profile_text_color='333333', profile_use_background_image=True, has_extended_profile=False, default_profile=True, default_profile_image=False, following=False, follow_request_sent=False, notifications=False, translator_type='none'), user=User(_api=<tweepy.api.API object at 0x7f81303ec090>, _json={'id': 1143776901472882689, 'id_str': '1143776901472882689', 'name': 'DataTau', 'screen_name': 'datatau_net', 'location': '', 'description': 'DataTau is the reference newsboard for Data Scientists and Data Engineers inspired by the popular Hacker News. Powered by @dcanones and @pedro_munoz_', 'url': None, 'entities': {'description': {'urls': []}}, 'protected': False, 'followers_count': 54, 'friends_count': 4, 'listed_count': 0, 'created_at': 'Wed Jun 26 07:03:58 +0000 2019', 'favourites_count': 2, 'utc_offset': None, 'time_zone': None, 'geo_enabled': False, 'verified': False, 'statuses_count': 253, 'lang': None, 'contributors_enabled': False, 'is_translator': False, 'is_translation_enabled': False, 'profile_background_color': 'F5F8FA', 'profile_background_image_url': None, 'profile_background_image_url_https': None, 'profile_background_tile': False, 'profile_image_url': 'http://pbs.twimg.com/profile_images/1266406893020471298/5H8y_Fa0_normal.png', 'profile_image_url_https': 'https://pbs.twimg.com/profile_images/1266406893020471298/5H8y_Fa0_normal.png', 'profile_banner_url': 'https://pbs.twimg.com/profile_banners/1143776901472882689/1590770229', 'profile_link_color': '1DA1F2', 'profile_sidebar_border_color': 'C0DEED', 'profile_sidebar_fill_color': 'DDEEF6', 'profile_text_color': '333333', 'profile_use_background_image': True, 'has_extended_profile': False, 'default_profile': True, 'default_profile_image': False, 'following': False, 'follow_request_sent': False, 'notifications': False, 'translator_type': 'none'}, id=1143776901472882689, id_str='1143776901472882689', name='DataTau', screen_name='datatau_net', location='', description='DataTau is the reference newsboard for Data Scientists and Data Engineers inspired by the popular Hacker News. Powered by @dcanones and @pedro_munoz_', url=None, entities={'description': {'urls': []}}, protected=False, followers_count=54, friends_count=4, listed_count=0, created_at=datetime.datetime(2019, 6, 26, 7, 3, 58), favourites_count=2, utc_offset=None, time_zone=None, geo_enabled=False, verified=False, statuses_count=253, lang=None, contributors_enabled=False, is_translator=False, is_translation_enabled=False, profile_background_color='F5F8FA', profile_background_image_url=None, profile_background_image_url_https=None, profile_background_tile=False, profile_image_url='http://pbs.twimg.com/profile_images/1266406893020471298/5H8y_Fa0_normal.png', profile_image_url_https='https://pbs.twimg.com/profile_images/1266406893020471298/5H8y_Fa0_normal.png', profile_banner_url='https://pbs.twimg.com/profile_banners/1143776901472882689/1590770229', profile_link_color='1DA1F2', profile_sidebar_border_color='C0DEED', profile_sidebar_fill_color='DDEEF6', profile_text_color='333333', profile_use_background_image=True, has_extended_profile=False, default_profile=True, default_profile_image=False, following=False, follow_request_sent=False, notifications=False, translator_type='none'), geo=None, coordinates=None, place=None, contributors=None, is_quote_status=False, retweet_count=0, favorite_count=0, favorited=False, retweeted=False, lang='en')"
      ]
     },
     "execution_count": 19,
     "metadata": {},
     "output_type": "execute_result"
    }
   ],
   "source": [
    "api.update_status(f'this is a comment', tweet_id)"
   ]
  },
  {
   "cell_type": "markdown",
   "metadata": {},
   "source": [
    "<div style=\"padding-top: 25px; float: right\">\n",
    "    <div>    \n",
    "        <i>&nbsp;&nbsp;© Copyright by</i>\n",
    "    </div>\n",
    "    <div>\n",
    "        <a href=\"https://whiteboxml.com\">\n",
    "            <img src=\"https://whiteboxml.com/static/img/logo/black_bg_white.svg\" width=\"125\">\n",
    "        </a>\n",
    "    </div>\n",
    "</div>"
   ]
  }
 ],
 "metadata": {
  "kernelspec": {
   "display_name": "Python [conda env:ironhack_env]",
   "language": "python",
   "name": "conda-env-ironhack_env-py"
  },
  "language_info": {
   "codemirror_mode": {
    "name": "ipython",
    "version": 3
   },
   "file_extension": ".py",
   "mimetype": "text/x-python",
   "name": "python",
   "nbconvert_exporter": "python",
   "pygments_lexer": "ipython3",
   "version": "3.7.7"
  }
 },
 "nbformat": 4,
 "nbformat_minor": 4
}
